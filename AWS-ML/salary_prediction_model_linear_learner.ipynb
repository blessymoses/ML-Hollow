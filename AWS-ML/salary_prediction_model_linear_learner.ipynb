{
 "cells": [
  {
   "cell_type": "markdown",
   "metadata": {
    "colab_type": "text",
    "id": "M27qF7CTrBqc"
   },
   "source": [
    "# 1: PROBLEM STATEMENT "
   ]
  },
  {
   "cell_type": "markdown",
   "metadata": {
    "colab_type": "text",
    "id": "xNl52nl3qiyL"
   },
   "source": [
    "- The objective of this case study is to predict the employee salary based on the number of years of experience. \n",
    "- In simple linear regression, we predict the value of one variable Y based on another variable X.\n",
    "- X is called the independent variable and Y is called the dependant variable.\n",
    "- Why simple? Because it examines relationship between two variables only.\n",
    "- Why linear? when the independent variable increases (or decreases), the dependent variable increases (or decreases) in a linear fashion.\n"
   ]
  },
  {
   "cell_type": "markdown",
   "metadata": {
    "colab_type": "text",
    "id": "zKmFmyaGunc7"
   },
   "source": [
    "# 2: IMPORT LIBRARIES AND DATASETS"
   ]
  },
  {
   "cell_type": "code",
   "execution_count": 82,
   "metadata": {},
   "outputs": [],
   "source": [
    "# install seaborn library\n",
    "# !pip install seaborn\n",
    "# !pip install tensorflow\n",
    "# import tensorflow as tf\n",
    "import pandas as pd\n",
    "import numpy as np\n",
    "import seaborn as sns\n",
    "import matplotlib.pyplot as plt\n"
   ]
  },
  {
   "cell_type": "code",
   "execution_count": 83,
   "metadata": {},
   "outputs": [
    {
     "name": "stdout",
     "output_type": "stream",
     "text": [
      "/opt/conda/lib/python3.7/site-packages/secretstorage/dhcrypto.py:16: CryptographyDeprecationWarning: int_from_bytes is deprecated, use int.from_bytes instead\n",
      "  from cryptography.utils import int_from_bytes\n",
      "/opt/conda/lib/python3.7/site-packages/secretstorage/util.py:25: CryptographyDeprecationWarning: int_from_bytes is deprecated, use int.from_bytes instead\n",
      "  from cryptography.utils import int_from_bytes\n",
      "aiobotocore==1.4.1\n",
      "aiohttp==3.7.4.post0\n",
      "aioitertools==0.8.0\n",
      "alabaster==0.7.12\n",
      "anaconda-client==1.7.2\n",
      "anaconda-project==0.8.3\n",
      "argh==0.26.2\n",
      "argon2-cffi==21.1.0\n",
      "asn1crypto==1.3.0\n",
      "astroid==2.8.0\n",
      "astropy==4.0\n",
      "async-timeout==3.0.1\n",
      "atomicwrites==1.3.0\n",
      "attrs==19.3.0\n",
      "autopep8==1.4.4\n",
      "autovizwidget @ file:///home/conda/feedstock_root/build_artifacts/autovizwidget_1630130557319/work\n",
      "awscli==1.20.51\n",
      "Babel==2.8.0\n",
      "backcall==0.1.0\n",
      "backports.shutil-get-terminal-size==1.0.0\n",
      "beautifulsoup4==4.8.2\n",
      "bitarray==1.2.1\n",
      "bkcharts==0.2\n",
      "bleach==4.1.0\n",
      "bokeh==1.4.0\n",
      "boto==2.49.0\n",
      "boto3==1.18.51\n",
      "botocore==1.21.51\n",
      "Bottleneck==1.3.2\n",
      "brotlipy==0.7.0\n",
      "cached-property==1.5.2\n",
      "certifi==2021.5.30\n",
      "cffi @ file:///tmp/build/80754af9/cffi_1625814693446/work\n",
      "chardet==3.0.4\n",
      "charset-normalizer @ file:///tmp/build/80754af9/charset-normalizer_1630003229654/work\n",
      "Click==7.0\n",
      "cloudpickle==1.3.0\n",
      "clyent==1.2.2\n",
      "colorama==0.4.3\n",
      "conda==4.10.3\n",
      "conda-package-handling @ file:///tmp/build/80754af9/conda-package-handling_1618262151086/work\n",
      "contextlib2==0.6.0.post1\n",
      "cryptography==35.0.0\n",
      "cycler==0.10.0\n",
      "Cython==0.29.15\n",
      "cytoolz==0.10.1\n",
      "dask==2.11.0\n",
      "decorator==4.4.1\n",
      "defusedxml==0.6.0\n",
      "diff-match-patch==20181111\n",
      "dill==0.3.4\n",
      "distributed==2.11.0\n",
      "distro==1.6.0\n",
      "docker==5.0.0\n",
      "docker-compose==1.29.2\n",
      "dockerpty==0.4.1\n",
      "docopt==0.6.2\n",
      "docutils==0.15.2\n",
      "dparse==0.5.1\n",
      "entrypoints==0.3\n",
      "et-xmlfile==1.0.1\n",
      "fastcache==1.1.0\n",
      "filelock==3.0.12\n",
      "flake8==3.7.9\n",
      "Flask==1.1.1\n",
      "fsspec==2021.9.0\n",
      "future==0.18.2\n",
      "gevent==1.4.0\n",
      "glob2==0.7\n",
      "gmpy2==2.0.8\n",
      "google-pasta==0.2.0\n",
      "greenlet==0.4.15\n",
      "h5py==2.10.0\n",
      "hdijupyterutils @ file:///home/conda/feedstock_root/build_artifacts/hdijupyterutils_1630130562200/work\n",
      "HeapDict==1.0.1\n",
      "html5lib==1.0.1\n",
      "hypothesis==5.5.4\n",
      "idna==2.8\n",
      "imageio==2.6.1\n",
      "imagesize==1.2.0\n",
      "importlib-metadata==1.5.0\n",
      "intervaltree==3.0.2\n",
      "ipykernel==5.1.4\n",
      "ipython==7.12.0\n",
      "ipython_genutils==0.2.0\n",
      "ipywidgets==7.5.1\n",
      "isort==4.3.21\n",
      "itsdangerous==1.1.0\n",
      "jdcal==1.4.1\n",
      "jedi==0.14.1\n",
      "jeepney==0.4.2\n",
      "Jinja2==3.0.1\n",
      "jmespath==0.10.0\n",
      "joblib==0.14.1\n",
      "json5==0.9.1\n",
      "jsonschema==3.2.0\n",
      "jupyter==1.0.0\n",
      "jupyter-client==5.3.4\n",
      "jupyter-console==6.1.0\n",
      "jupyter-core==4.6.1\n",
      "jupyterlab==1.2.6\n",
      "jupyterlab-server==1.0.6\n",
      "keyring==21.1.0\n",
      "kiwisolver==1.1.0\n",
      "lazy-object-proxy==1.4.3\n",
      "libarchive-c==2.8\n",
      "lief==0.9.0\n",
      "llvmlite==0.37.0\n",
      "locket==0.2.0\n",
      "lxml==4.6.3\n",
      "MarkupSafe==2.0.1\n",
      "matplotlib==3.1.3\n",
      "mccabe==0.6.1\n",
      "mistune==0.8.4\n",
      "mkl-fft==1.0.15\n",
      "mkl-random==1.1.0\n",
      "mkl-service==2.3.0\n",
      "mock==4.0.1\n",
      "more-itertools==8.2.0\n",
      "mpmath==1.1.0\n",
      "msgpack==0.6.1\n",
      "multidict==5.1.0\n",
      "multipledispatch==0.6.0\n",
      "multiprocess==0.70.12.2\n",
      "nbconvert==5.6.1\n",
      "nbformat==5.0.4\n",
      "networkx==2.4\n",
      "nltk==3.4.5\n",
      "nose==1.3.7\n",
      "notebook==6.4.4\n",
      "numba==0.54.0\n",
      "numexpr==2.7.1\n",
      "numpy==1.21.3\n",
      "numpydoc==0.9.2\n",
      "olefile==0.46\n",
      "openpyxl==3.0.3\n",
      "packaging==20.1\n",
      "pandas==1.3.4\n",
      "pandocfilters==1.4.2\n",
      "parso==0.5.2\n",
      "partd==1.1.0\n",
      "path==13.1.0\n",
      "pathlib2==2.3.5\n",
      "pathos==0.2.8\n",
      "pathtools==0.1.2\n",
      "patsy==0.5.1\n",
      "pep8==1.7.1\n",
      "pexpect==4.8.0\n",
      "pickleshare==0.7.5\n",
      "Pillow==8.3.2\n",
      "pkginfo==1.5.0.1\n",
      "platformdirs==2.4.0\n",
      "plotly @ file:///home/conda/feedstock_root/build_artifacts/plotly_1630471917451/work\n",
      "pluggy==0.13.1\n",
      "ply==3.11\n",
      "pox==0.3.0\n",
      "ppft==1.6.6.4\n",
      "prometheus-client==0.7.1\n",
      "prompt-toolkit==3.0.3\n",
      "protobuf==3.18.0\n",
      "protobuf3-to-dict==0.1.5\n",
      "psutil==5.6.7\n",
      "ptyprocess==0.6.0\n",
      "pure-sasl @ file:///home/conda/feedstock_root/build_artifacts/pure-sasl_1631890804823/work\n",
      "py==1.10.0\n",
      "pyarrow==5.0.0\n",
      "pyasn1==0.4.8\n",
      "pycodestyle==2.5.0\n",
      "pycosat==0.6.3\n",
      "pycparser==2.19\n",
      "pycrypto==2.6.1\n",
      "pycurl==7.43.0.5\n",
      "pydocstyle==4.0.1\n",
      "pyflakes==2.1.1\n",
      "pyfunctional==1.4.3\n",
      "Pygments==2.5.2\n",
      "PyHive @ file:///home/conda/feedstock_root/build_artifacts/pyhive_1621984797638/work\n",
      "pykerberos @ file:///home/conda/feedstock_root/build_artifacts/pykerberos_1602242478842/work\n",
      "pylint==2.11.1\n",
      "pyodbc===4.0.0-unsupported\n",
      "pyOpenSSL==19.1.0\n",
      "pyparsing==2.4.6\n",
      "pyrsistent==0.15.7\n",
      "PySocks==1.7.1\n",
      "pytest==5.3.5\n",
      "pytest-arraydiff==0.3\n",
      "pytest-astropy==0.8.0\n",
      "pytest-astropy-header==0.1.2\n",
      "pytest-doctestplus==0.5.0\n",
      "pytest-openfiles==0.4.0\n",
      "pytest-remotedata==0.3.2\n",
      "python-dateutil==2.8.1\n",
      "python-dotenv==0.19.0\n",
      "python-jsonrpc-server==0.3.4\n",
      "python-language-server==0.31.7\n",
      "pytz==2019.3\n",
      "PyWavelets==1.1.1\n",
      "pyxdg==0.26\n",
      "PyYAML==5.4.1\n",
      "pyzmq==18.1.1\n",
      "QDarkStyle==2.8\n",
      "QtAwesome==0.6.1\n",
      "qtconsole==4.6.0\n",
      "QtPy==1.9.0\n",
      "requests==2.26.0\n",
      "requests-kerberos @ file:///home/conda/feedstock_root/build_artifacts/requests-kerberos_1612972353526/work\n",
      "rope==0.16.0\n",
      "rsa==4.7.2\n",
      "Rtree==0.9.3\n",
      "ruamel_yaml==0.15.87\n",
      "s3fs==2021.9.0\n",
      "s3transfer==0.5.0\n",
      "sagemaker==2.59.5\n",
      "sagemaker-studio-analytics-extension==0.0.2\n",
      "sagemaker-studio-sparkmagic-lib==0.1.3\n",
      "sasl==0.2.1\n",
      "scikit-image==0.16.2\n",
      "scikit-learn==0.22.1\n",
      "scipy==1.4.1\n",
      "seaborn==0.10.0\n",
      "SecretStorage==3.1.2\n",
      "Send2Trash==1.5.0\n",
      "simplegeneric==0.8.1\n",
      "singledispatch==3.4.0.3\n",
      "six==1.14.0\n",
      "sklearn==0.0\n",
      "smclarify==0.2\n",
      "smdebug-rulesconfig==1.0.1\n",
      "snowballstemmer==2.0.0\n",
      "sortedcollections==1.1.2\n",
      "sortedcontainers==2.1.0\n",
      "soupsieve==1.9.5\n",
      "sparkmagic @ file:///home/conda/feedstock_root/build_artifacts/sparkmagic_1629201942668/work/sparkmagic\n",
      "Sphinx==2.4.0\n",
      "sphinxcontrib-applehelp==1.0.1\n",
      "sphinxcontrib-devhelp==1.0.1\n",
      "sphinxcontrib-htmlhelp==1.0.2\n",
      "sphinxcontrib-jsmath==1.0.1\n",
      "sphinxcontrib-qthelp==1.0.2\n",
      "sphinxcontrib-serializinghtml==1.1.3\n",
      "sphinxcontrib-websupport==1.2.0\n",
      "spyder==4.0.1\n",
      "spyder-kernels==1.8.1\n",
      "SQLAlchemy==1.3.13\n",
      "statsmodels==0.11.0\n",
      "sympy==1.5.1\n",
      "tables==3.6.1\n",
      "tabulate==0.8.9\n",
      "tblib==1.6.0\n",
      "tenacity @ file:///home/conda/feedstock_root/build_artifacts/tenacity_1626090218611/work\n",
      "terminado==0.8.3\n",
      "testpath==0.4.4\n",
      "texttable==1.6.4\n",
      "thrift @ file:///home/conda/feedstock_root/build_artifacts/thrift_1614851254062/work\n",
      "thrift-sasl @ file:///home/conda/feedstock_root/build_artifacts/thrift_sasl_1631902449705/work\n",
      "toml==0.10.2\n",
      "toolz==0.10.0\n",
      "tornado==6.1\n",
      "tqdm==4.42.1\n",
      "traitlets==4.3.3\n",
      "typed-ast==1.4.3\n",
      "typing-extensions==3.10.0.2\n",
      "ujson==1.35\n",
      "unicodecsv==0.14.1\n",
      "urllib3==1.26.7\n",
      "watchdog==0.10.2\n",
      "wcwidth==0.1.8\n",
      "webencodings==0.5.1\n",
      "websocket-client==0.59.0\n",
      "Werkzeug==1.0.0\n",
      "widgetsnbextension==3.5.1\n",
      "wrapt==1.11.2\n",
      "wurlitzer==2.0.0\n",
      "xlrd==1.2.0\n",
      "XlsxWriter==1.2.7\n",
      "xlwt==1.3.0\n",
      "yapf==0.28.0\n",
      "yarl==1.6.3\n",
      "zict==1.0.0\n",
      "zipp==2.2.0\n"
     ]
    }
   ],
   "source": [
    "!pip freeze"
   ]
  },
  {
   "cell_type": "code",
   "execution_count": 84,
   "metadata": {
    "colab": {},
    "colab_type": "code",
    "id": "tjIiJdM4u1IE"
   },
   "outputs": [],
   "source": [
    "# read the csv file \n",
    "salary_df = pd.read_csv('salary.csv')"
   ]
  },
  {
   "cell_type": "code",
   "execution_count": 85,
   "metadata": {
    "colab": {
     "base_uri": "https://localhost:8080/",
     "height": 204
    },
    "colab_type": "code",
    "id": "q4_wPDKCu5Uc",
    "outputId": "886d2aaf-0205-4f46-96a7-629d0f367d2f"
   },
   "outputs": [
    {
     "data": {
      "text/html": [
       "<div>\n",
       "<style scoped>\n",
       "    .dataframe tbody tr th:only-of-type {\n",
       "        vertical-align: middle;\n",
       "    }\n",
       "\n",
       "    .dataframe tbody tr th {\n",
       "        vertical-align: top;\n",
       "    }\n",
       "\n",
       "    .dataframe thead th {\n",
       "        text-align: right;\n",
       "    }\n",
       "</style>\n",
       "<table border=\"1\" class=\"dataframe\">\n",
       "  <thead>\n",
       "    <tr style=\"text-align: right;\">\n",
       "      <th></th>\n",
       "      <th>YearsExperience</th>\n",
       "      <th>Salary</th>\n",
       "    </tr>\n",
       "  </thead>\n",
       "  <tbody>\n",
       "    <tr>\n",
       "      <th>0</th>\n",
       "      <td>1.1</td>\n",
       "      <td>39343</td>\n",
       "    </tr>\n",
       "    <tr>\n",
       "      <th>1</th>\n",
       "      <td>1.3</td>\n",
       "      <td>46205</td>\n",
       "    </tr>\n",
       "    <tr>\n",
       "      <th>2</th>\n",
       "      <td>1.5</td>\n",
       "      <td>37731</td>\n",
       "    </tr>\n",
       "    <tr>\n",
       "      <th>3</th>\n",
       "      <td>2.0</td>\n",
       "      <td>43525</td>\n",
       "    </tr>\n",
       "    <tr>\n",
       "      <th>4</th>\n",
       "      <td>2.2</td>\n",
       "      <td>39891</td>\n",
       "    </tr>\n",
       "    <tr>\n",
       "      <th>5</th>\n",
       "      <td>2.9</td>\n",
       "      <td>56642</td>\n",
       "    </tr>\n",
       "    <tr>\n",
       "      <th>6</th>\n",
       "      <td>3.0</td>\n",
       "      <td>60150</td>\n",
       "    </tr>\n",
       "    <tr>\n",
       "      <th>7</th>\n",
       "      <td>3.2</td>\n",
       "      <td>54445</td>\n",
       "    </tr>\n",
       "    <tr>\n",
       "      <th>8</th>\n",
       "      <td>3.2</td>\n",
       "      <td>64445</td>\n",
       "    </tr>\n",
       "    <tr>\n",
       "      <th>9</th>\n",
       "      <td>3.7</td>\n",
       "      <td>57189</td>\n",
       "    </tr>\n",
       "    <tr>\n",
       "      <th>10</th>\n",
       "      <td>3.9</td>\n",
       "      <td>63218</td>\n",
       "    </tr>\n",
       "    <tr>\n",
       "      <th>11</th>\n",
       "      <td>4.0</td>\n",
       "      <td>55794</td>\n",
       "    </tr>\n",
       "    <tr>\n",
       "      <th>12</th>\n",
       "      <td>4.0</td>\n",
       "      <td>56957</td>\n",
       "    </tr>\n",
       "    <tr>\n",
       "      <th>13</th>\n",
       "      <td>4.1</td>\n",
       "      <td>57081</td>\n",
       "    </tr>\n",
       "    <tr>\n",
       "      <th>14</th>\n",
       "      <td>4.5</td>\n",
       "      <td>61111</td>\n",
       "    </tr>\n",
       "    <tr>\n",
       "      <th>15</th>\n",
       "      <td>4.9</td>\n",
       "      <td>67938</td>\n",
       "    </tr>\n",
       "    <tr>\n",
       "      <th>16</th>\n",
       "      <td>5.1</td>\n",
       "      <td>66029</td>\n",
       "    </tr>\n",
       "    <tr>\n",
       "      <th>17</th>\n",
       "      <td>5.3</td>\n",
       "      <td>83088</td>\n",
       "    </tr>\n",
       "    <tr>\n",
       "      <th>18</th>\n",
       "      <td>5.9</td>\n",
       "      <td>81363</td>\n",
       "    </tr>\n",
       "    <tr>\n",
       "      <th>19</th>\n",
       "      <td>6.0</td>\n",
       "      <td>93940</td>\n",
       "    </tr>\n",
       "    <tr>\n",
       "      <th>20</th>\n",
       "      <td>6.8</td>\n",
       "      <td>91738</td>\n",
       "    </tr>\n",
       "    <tr>\n",
       "      <th>21</th>\n",
       "      <td>7.1</td>\n",
       "      <td>98273</td>\n",
       "    </tr>\n",
       "    <tr>\n",
       "      <th>22</th>\n",
       "      <td>7.9</td>\n",
       "      <td>101302</td>\n",
       "    </tr>\n",
       "    <tr>\n",
       "      <th>23</th>\n",
       "      <td>8.2</td>\n",
       "      <td>113812</td>\n",
       "    </tr>\n",
       "    <tr>\n",
       "      <th>24</th>\n",
       "      <td>8.7</td>\n",
       "      <td>109431</td>\n",
       "    </tr>\n",
       "    <tr>\n",
       "      <th>25</th>\n",
       "      <td>9.0</td>\n",
       "      <td>105582</td>\n",
       "    </tr>\n",
       "    <tr>\n",
       "      <th>26</th>\n",
       "      <td>9.5</td>\n",
       "      <td>116969</td>\n",
       "    </tr>\n",
       "    <tr>\n",
       "      <th>27</th>\n",
       "      <td>9.6</td>\n",
       "      <td>112635</td>\n",
       "    </tr>\n",
       "    <tr>\n",
       "      <th>28</th>\n",
       "      <td>10.3</td>\n",
       "      <td>122391</td>\n",
       "    </tr>\n",
       "    <tr>\n",
       "      <th>29</th>\n",
       "      <td>10.5</td>\n",
       "      <td>121872</td>\n",
       "    </tr>\n",
       "    <tr>\n",
       "      <th>30</th>\n",
       "      <td>11.2</td>\n",
       "      <td>127345</td>\n",
       "    </tr>\n",
       "    <tr>\n",
       "      <th>31</th>\n",
       "      <td>11.5</td>\n",
       "      <td>126756</td>\n",
       "    </tr>\n",
       "    <tr>\n",
       "      <th>32</th>\n",
       "      <td>12.3</td>\n",
       "      <td>128765</td>\n",
       "    </tr>\n",
       "    <tr>\n",
       "      <th>33</th>\n",
       "      <td>12.9</td>\n",
       "      <td>135675</td>\n",
       "    </tr>\n",
       "    <tr>\n",
       "      <th>34</th>\n",
       "      <td>13.5</td>\n",
       "      <td>139465</td>\n",
       "    </tr>\n",
       "  </tbody>\n",
       "</table>\n",
       "</div>"
      ],
      "text/plain": [
       "    YearsExperience  Salary\n",
       "0               1.1   39343\n",
       "1               1.3   46205\n",
       "2               1.5   37731\n",
       "3               2.0   43525\n",
       "4               2.2   39891\n",
       "5               2.9   56642\n",
       "6               3.0   60150\n",
       "7               3.2   54445\n",
       "8               3.2   64445\n",
       "9               3.7   57189\n",
       "10              3.9   63218\n",
       "11              4.0   55794\n",
       "12              4.0   56957\n",
       "13              4.1   57081\n",
       "14              4.5   61111\n",
       "15              4.9   67938\n",
       "16              5.1   66029\n",
       "17              5.3   83088\n",
       "18              5.9   81363\n",
       "19              6.0   93940\n",
       "20              6.8   91738\n",
       "21              7.1   98273\n",
       "22              7.9  101302\n",
       "23              8.2  113812\n",
       "24              8.7  109431\n",
       "25              9.0  105582\n",
       "26              9.5  116969\n",
       "27              9.6  112635\n",
       "28             10.3  122391\n",
       "29             10.5  121872\n",
       "30             11.2  127345\n",
       "31             11.5  126756\n",
       "32             12.3  128765\n",
       "33             12.9  135675\n",
       "34             13.5  139465"
      ]
     },
     "execution_count": 85,
     "metadata": {},
     "output_type": "execute_result"
    }
   ],
   "source": [
    "salary_df"
   ]
  },
  {
   "cell_type": "markdown",
   "metadata": {},
   "source": [
    "MINI CHALLENGE\n",
    " - Use head and tail methods to print the first and last 7 rows of the dataframe\n",
    " - Try to find the maximum salary value in the dataframe "
   ]
  },
  {
   "cell_type": "code",
   "execution_count": 86,
   "metadata": {},
   "outputs": [
    {
     "data": {
      "text/plain": [
       "'head'"
      ]
     },
     "metadata": {},
     "output_type": "display_data"
    },
    {
     "data": {
      "text/html": [
       "<div>\n",
       "<style scoped>\n",
       "    .dataframe tbody tr th:only-of-type {\n",
       "        vertical-align: middle;\n",
       "    }\n",
       "\n",
       "    .dataframe tbody tr th {\n",
       "        vertical-align: top;\n",
       "    }\n",
       "\n",
       "    .dataframe thead th {\n",
       "        text-align: right;\n",
       "    }\n",
       "</style>\n",
       "<table border=\"1\" class=\"dataframe\">\n",
       "  <thead>\n",
       "    <tr style=\"text-align: right;\">\n",
       "      <th></th>\n",
       "      <th>YearsExperience</th>\n",
       "      <th>Salary</th>\n",
       "    </tr>\n",
       "  </thead>\n",
       "  <tbody>\n",
       "    <tr>\n",
       "      <th>0</th>\n",
       "      <td>1.1</td>\n",
       "      <td>39343</td>\n",
       "    </tr>\n",
       "    <tr>\n",
       "      <th>1</th>\n",
       "      <td>1.3</td>\n",
       "      <td>46205</td>\n",
       "    </tr>\n",
       "    <tr>\n",
       "      <th>2</th>\n",
       "      <td>1.5</td>\n",
       "      <td>37731</td>\n",
       "    </tr>\n",
       "    <tr>\n",
       "      <th>3</th>\n",
       "      <td>2.0</td>\n",
       "      <td>43525</td>\n",
       "    </tr>\n",
       "    <tr>\n",
       "      <th>4</th>\n",
       "      <td>2.2</td>\n",
       "      <td>39891</td>\n",
       "    </tr>\n",
       "    <tr>\n",
       "      <th>5</th>\n",
       "      <td>2.9</td>\n",
       "      <td>56642</td>\n",
       "    </tr>\n",
       "    <tr>\n",
       "      <th>6</th>\n",
       "      <td>3.0</td>\n",
       "      <td>60150</td>\n",
       "    </tr>\n",
       "  </tbody>\n",
       "</table>\n",
       "</div>"
      ],
      "text/plain": [
       "   YearsExperience  Salary\n",
       "0              1.1   39343\n",
       "1              1.3   46205\n",
       "2              1.5   37731\n",
       "3              2.0   43525\n",
       "4              2.2   39891\n",
       "5              2.9   56642\n",
       "6              3.0   60150"
      ]
     },
     "metadata": {},
     "output_type": "display_data"
    },
    {
     "data": {
      "text/plain": [
       "'tail'"
      ]
     },
     "metadata": {},
     "output_type": "display_data"
    },
    {
     "data": {
      "text/html": [
       "<div>\n",
       "<style scoped>\n",
       "    .dataframe tbody tr th:only-of-type {\n",
       "        vertical-align: middle;\n",
       "    }\n",
       "\n",
       "    .dataframe tbody tr th {\n",
       "        vertical-align: top;\n",
       "    }\n",
       "\n",
       "    .dataframe thead th {\n",
       "        text-align: right;\n",
       "    }\n",
       "</style>\n",
       "<table border=\"1\" class=\"dataframe\">\n",
       "  <thead>\n",
       "    <tr style=\"text-align: right;\">\n",
       "      <th></th>\n",
       "      <th>YearsExperience</th>\n",
       "      <th>Salary</th>\n",
       "    </tr>\n",
       "  </thead>\n",
       "  <tbody>\n",
       "    <tr>\n",
       "      <th>28</th>\n",
       "      <td>10.3</td>\n",
       "      <td>122391</td>\n",
       "    </tr>\n",
       "    <tr>\n",
       "      <th>29</th>\n",
       "      <td>10.5</td>\n",
       "      <td>121872</td>\n",
       "    </tr>\n",
       "    <tr>\n",
       "      <th>30</th>\n",
       "      <td>11.2</td>\n",
       "      <td>127345</td>\n",
       "    </tr>\n",
       "    <tr>\n",
       "      <th>31</th>\n",
       "      <td>11.5</td>\n",
       "      <td>126756</td>\n",
       "    </tr>\n",
       "    <tr>\n",
       "      <th>32</th>\n",
       "      <td>12.3</td>\n",
       "      <td>128765</td>\n",
       "    </tr>\n",
       "    <tr>\n",
       "      <th>33</th>\n",
       "      <td>12.9</td>\n",
       "      <td>135675</td>\n",
       "    </tr>\n",
       "    <tr>\n",
       "      <th>34</th>\n",
       "      <td>13.5</td>\n",
       "      <td>139465</td>\n",
       "    </tr>\n",
       "  </tbody>\n",
       "</table>\n",
       "</div>"
      ],
      "text/plain": [
       "    YearsExperience  Salary\n",
       "28             10.3  122391\n",
       "29             10.5  121872\n",
       "30             11.2  127345\n",
       "31             11.5  126756\n",
       "32             12.3  128765\n",
       "33             12.9  135675\n",
       "34             13.5  139465"
      ]
     },
     "metadata": {},
     "output_type": "display_data"
    },
    {
     "data": {
      "text/plain": [
       "'maximum salary'"
      ]
     },
     "metadata": {},
     "output_type": "display_data"
    },
    {
     "data": {
      "text/plain": [
       "139465"
      ]
     },
     "metadata": {},
     "output_type": "display_data"
    }
   ],
   "source": [
    "display(\"head\")\n",
    "display(salary_df.head(7))\n",
    "display(\"tail\")\n",
    "display(salary_df.tail(7))\n",
    "display(\"maximum salary\")\n",
    "display(salary_df.Salary.max())"
   ]
  },
  {
   "cell_type": "markdown",
   "metadata": {
    "colab_type": "text",
    "id": "tMcr7xqMQre2"
   },
   "source": [
    "# 3: EXPLORATORY DATA ANALYSIS AND VISUALIZATION"
   ]
  },
  {
   "cell_type": "code",
   "execution_count": 87,
   "metadata": {},
   "outputs": [
    {
     "data": {
      "text/plain": [
       "<matplotlib.axes._subplots.AxesSubplot at 0x7f80dffab550>"
      ]
     },
     "execution_count": 87,
     "metadata": {},
     "output_type": "execute_result"
    },
    {
     "data": {
      "image/png": "[encoded data removed]",
      "text/plain": [
       "<Figure size 432x288 with 1 Axes>"
      ]
     },
     "metadata": {
      "needs_background": "light"
     },
     "output_type": "display_data"
    }
   ],
   "source": [
    "# check if there are any Null values\n",
    "sns.heatmap(salary_df.isnull(), yticklabels = False, cbar = False, cmap=\"Blues\")\n"
   ]
  },
  {
   "cell_type": "code",
   "execution_count": 88,
   "metadata": {
    "colab": {
     "base_uri": "https://localhost:8080/",
     "height": 272
    },
    "colab_type": "code",
    "id": "hMq3-KWOx0e1",
    "outputId": "22a5b184-1f07-46ef-dfc1-f8377fd7042f",
    "scrolled": true
   },
   "outputs": [
    {
     "name": "stdout",
     "output_type": "stream",
     "text": [
      "<class 'pandas.core.frame.DataFrame'>\n",
      "RangeIndex: 35 entries, 0 to 34\n",
      "Data columns (total 2 columns):\n",
      " #   Column           Non-Null Count  Dtype  \n",
      "---  ------           --------------  -----  \n",
      " 0   YearsExperience  35 non-null     float64\n",
      " 1   Salary           35 non-null     int64  \n",
      "dtypes: float64(1), int64(1)\n",
      "memory usage: 688.0 bytes\n"
     ]
    }
   ],
   "source": [
    "# Check the dataframe info\n",
    "\n",
    "salary_df.info()"
   ]
  },
  {
   "cell_type": "code",
   "execution_count": 89,
   "metadata": {
    "colab": {
     "base_uri": "https://localhost:8080/",
     "height": 297
    },
    "colab_type": "code",
    "id": "Nn1Oxk2SzPX3",
    "outputId": "95f0265a-5e75-4a32-d771-4b3d15850c3c"
   },
   "outputs": [
    {
     "data": {
      "text/html": [
       "<div>\n",
       "<style scoped>\n",
       "    .dataframe tbody tr th:only-of-type {\n",
       "        vertical-align: middle;\n",
       "    }\n",
       "\n",
       "    .dataframe tbody tr th {\n",
       "        vertical-align: top;\n",
       "    }\n",
       "\n",
       "    .dataframe thead th {\n",
       "        text-align: right;\n",
       "    }\n",
       "</style>\n",
       "<table border=\"1\" class=\"dataframe\">\n",
       "  <thead>\n",
       "    <tr style=\"text-align: right;\">\n",
       "      <th></th>\n",
       "      <th>YearsExperience</th>\n",
       "      <th>Salary</th>\n",
       "    </tr>\n",
       "  </thead>\n",
       "  <tbody>\n",
       "    <tr>\n",
       "      <th>count</th>\n",
       "      <td>35.000000</td>\n",
       "      <td>35.000000</td>\n",
       "    </tr>\n",
       "    <tr>\n",
       "      <th>mean</th>\n",
       "      <td>6.308571</td>\n",
       "      <td>83945.600000</td>\n",
       "    </tr>\n",
       "    <tr>\n",
       "      <th>std</th>\n",
       "      <td>3.618610</td>\n",
       "      <td>32162.673003</td>\n",
       "    </tr>\n",
       "    <tr>\n",
       "      <th>min</th>\n",
       "      <td>1.100000</td>\n",
       "      <td>37731.000000</td>\n",
       "    </tr>\n",
       "    <tr>\n",
       "      <th>25%</th>\n",
       "      <td>3.450000</td>\n",
       "      <td>57019.000000</td>\n",
       "    </tr>\n",
       "    <tr>\n",
       "      <th>50%</th>\n",
       "      <td>5.300000</td>\n",
       "      <td>81363.000000</td>\n",
       "    </tr>\n",
       "    <tr>\n",
       "      <th>75%</th>\n",
       "      <td>9.250000</td>\n",
       "      <td>113223.500000</td>\n",
       "    </tr>\n",
       "    <tr>\n",
       "      <th>max</th>\n",
       "      <td>13.500000</td>\n",
       "      <td>139465.000000</td>\n",
       "    </tr>\n",
       "  </tbody>\n",
       "</table>\n",
       "</div>"
      ],
      "text/plain": [
       "       YearsExperience         Salary\n",
       "count        35.000000      35.000000\n",
       "mean          6.308571   83945.600000\n",
       "std           3.618610   32162.673003\n",
       "min           1.100000   37731.000000\n",
       "25%           3.450000   57019.000000\n",
       "50%           5.300000   81363.000000\n",
       "75%           9.250000  113223.500000\n",
       "max          13.500000  139465.000000"
      ]
     },
     "execution_count": 89,
     "metadata": {},
     "output_type": "execute_result"
    }
   ],
   "source": [
    "# Statistical summary of the dataframe\n",
    "\n",
    "salary_df.describe()"
   ]
  },
  {
   "cell_type": "markdown",
   "metadata": {},
   "source": [
    "MINI CHALLENGE\n",
    " - What are the number of years of experience corresponding to employees with minimum and maximim salaries?"
   ]
  },
  {
   "cell_type": "code",
   "execution_count": 90,
   "metadata": {},
   "outputs": [
    {
     "data": {
      "text/plain": [
       "2    1.5\n",
       "Name: YearsExperience, dtype: float64"
      ]
     },
     "metadata": {},
     "output_type": "display_data"
    },
    {
     "data": {
      "text/plain": [
       "34    13.5\n",
       "Name: YearsExperience, dtype: float64"
      ]
     },
     "metadata": {},
     "output_type": "display_data"
    }
   ],
   "source": [
    "# number of years of experience corresponding to employees with minimum salaries\n",
    "display(salary_df.loc[salary_df.Salary==salary_df.Salary.min(), \"YearsExperience\"])\n",
    "\n",
    "# number of years of experience corresponding to employees with maximum salaries\n",
    "display(salary_df.loc[salary_df.Salary==salary_df.Salary.max(), \"YearsExperience\"])"
   ]
  },
  {
   "cell_type": "code",
   "execution_count": 91,
   "metadata": {},
   "outputs": [
    {
     "data": {
      "text/plain": [
       "array([[<matplotlib.axes._subplots.AxesSubplot object at 0x7f80dff424d0>,\n",
       "        <matplotlib.axes._subplots.AxesSubplot object at 0x7f80da117cd0>]],\n",
       "      dtype=object)"
      ]
     },
     "execution_count": 91,
     "metadata": {},
     "output_type": "execute_result"
    },
    {
     "data": {
      "image/png": "[encoded data removed]",
      "text/plain": [
       "<Figure size 1440x720 with 2 Axes>"
      ]
     },
     "metadata": {
      "needs_background": "light"
     },
     "output_type": "display_data"
    }
   ],
   "source": [
    "salary_df.hist(bins = 30, figsize = (20,10), color = 'r')\n"
   ]
  },
  {
   "cell_type": "code",
   "execution_count": 92,
   "metadata": {
    "colab": {
     "base_uri": "https://localhost:8080/",
     "height": 1000
    },
    "colab_type": "code",
    "id": "Ka9uFRXSkWHw",
    "outputId": "f42a681e-93d4-4b1f-a29c-f58fc8a6f974"
   },
   "outputs": [
    {
     "data": {
      "text/plain": [
       "<seaborn.axisgrid.PairGrid at 0x7f80d9f6ae50>"
      ]
     },
     "execution_count": 92,
     "metadata": {},
     "output_type": "execute_result"
    },
    {
     "data": {
      "image/png": "[encoded data removed]",
      "text/plain": [
       "<Figure size 360x360 with 6 Axes>"
      ]
     },
     "metadata": {
      "needs_background": "light"
     },
     "output_type": "display_data"
    }
   ],
   "source": [
    "# plot pairplot\n",
    "\n",
    "sns.pairplot(salary_df)"
   ]
  },
  {
   "cell_type": "code",
   "execution_count": 93,
   "metadata": {
    "colab": {
     "base_uri": "https://localhost:8080/",
     "height": 297
    },
    "colab_type": "code",
    "id": "9q-tFxvskWDa",
    "outputId": "8834e9ec-7676-4e86-c5e7-20f4e9eccbcb"
   },
   "outputs": [
    {
     "data": {
      "image/png": "[encoded data removed]",
      "text/plain": [
       "<Figure size 432x288 with 2 Axes>"
      ]
     },
     "metadata": {
      "needs_background": "light"
     },
     "output_type": "display_data"
    }
   ],
   "source": [
    "corr_matrix = salary_df.corr()\n",
    "sns.heatmap(corr_matrix, annot = True)\n",
    "plt.show()"
   ]
  },
  {
   "cell_type": "markdown",
   "metadata": {},
   "source": [
    "MINI CHALLENGE\n",
    "- Use regplot in Seaborn to obtain a straight line fit between \"salary\" and \"years of experience\""
   ]
  },
  {
   "cell_type": "code",
   "execution_count": 94,
   "metadata": {},
   "outputs": [
    {
     "data": {
      "text/plain": [
       "<matplotlib.axes._subplots.AxesSubplot at 0x7f80d9c9d090>"
      ]
     },
     "execution_count": 94,
     "metadata": {},
     "output_type": "execute_result"
    },
    {
     "data": {
      "image/png": "[encoded data removed]",
      "text/plain": [
       "<Figure size 432x288 with 1 Axes>"
      ]
     },
     "metadata": {
      "needs_background": "light"
     },
     "output_type": "display_data"
    }
   ],
   "source": [
    "sns.regplot(x = \"YearsExperience\", y = \"Salary\", data = salary_df)"
   ]
  },
  {
   "cell_type": "markdown",
   "metadata": {
    "colab_type": "text",
    "id": "53qDZFRn3-S1"
   },
   "source": [
    "# 4: CREATE TRAINING AND TESTING DATASET"
   ]
  },
  {
   "cell_type": "code",
   "execution_count": 95,
   "metadata": {
    "colab": {},
    "colab_type": "code",
    "id": "4OXZB2F21e4H"
   },
   "outputs": [],
   "source": [
    "X = salary_df[['YearsExperience']]\n",
    "y = salary_df[['Salary']]\n"
   ]
  },
  {
   "cell_type": "code",
   "execution_count": 96,
   "metadata": {
    "scrolled": true
   },
   "outputs": [
    {
     "data": {
      "text/html": [
       "<div>\n",
       "<style scoped>\n",
       "    .dataframe tbody tr th:only-of-type {\n",
       "        vertical-align: middle;\n",
       "    }\n",
       "\n",
       "    .dataframe tbody tr th {\n",
       "        vertical-align: top;\n",
       "    }\n",
       "\n",
       "    .dataframe thead th {\n",
       "        text-align: right;\n",
       "    }\n",
       "</style>\n",
       "<table border=\"1\" class=\"dataframe\">\n",
       "  <thead>\n",
       "    <tr style=\"text-align: right;\">\n",
       "      <th></th>\n",
       "      <th>YearsExperience</th>\n",
       "    </tr>\n",
       "  </thead>\n",
       "  <tbody>\n",
       "    <tr>\n",
       "      <th>0</th>\n",
       "      <td>1.1</td>\n",
       "    </tr>\n",
       "    <tr>\n",
       "      <th>1</th>\n",
       "      <td>1.3</td>\n",
       "    </tr>\n",
       "    <tr>\n",
       "      <th>2</th>\n",
       "      <td>1.5</td>\n",
       "    </tr>\n",
       "    <tr>\n",
       "      <th>3</th>\n",
       "      <td>2.0</td>\n",
       "    </tr>\n",
       "    <tr>\n",
       "      <th>4</th>\n",
       "      <td>2.2</td>\n",
       "    </tr>\n",
       "    <tr>\n",
       "      <th>5</th>\n",
       "      <td>2.9</td>\n",
       "    </tr>\n",
       "    <tr>\n",
       "      <th>6</th>\n",
       "      <td>3.0</td>\n",
       "    </tr>\n",
       "    <tr>\n",
       "      <th>7</th>\n",
       "      <td>3.2</td>\n",
       "    </tr>\n",
       "    <tr>\n",
       "      <th>8</th>\n",
       "      <td>3.2</td>\n",
       "    </tr>\n",
       "    <tr>\n",
       "      <th>9</th>\n",
       "      <td>3.7</td>\n",
       "    </tr>\n",
       "    <tr>\n",
       "      <th>10</th>\n",
       "      <td>3.9</td>\n",
       "    </tr>\n",
       "    <tr>\n",
       "      <th>11</th>\n",
       "      <td>4.0</td>\n",
       "    </tr>\n",
       "    <tr>\n",
       "      <th>12</th>\n",
       "      <td>4.0</td>\n",
       "    </tr>\n",
       "    <tr>\n",
       "      <th>13</th>\n",
       "      <td>4.1</td>\n",
       "    </tr>\n",
       "    <tr>\n",
       "      <th>14</th>\n",
       "      <td>4.5</td>\n",
       "    </tr>\n",
       "    <tr>\n",
       "      <th>15</th>\n",
       "      <td>4.9</td>\n",
       "    </tr>\n",
       "    <tr>\n",
       "      <th>16</th>\n",
       "      <td>5.1</td>\n",
       "    </tr>\n",
       "    <tr>\n",
       "      <th>17</th>\n",
       "      <td>5.3</td>\n",
       "    </tr>\n",
       "    <tr>\n",
       "      <th>18</th>\n",
       "      <td>5.9</td>\n",
       "    </tr>\n",
       "    <tr>\n",
       "      <th>19</th>\n",
       "      <td>6.0</td>\n",
       "    </tr>\n",
       "    <tr>\n",
       "      <th>20</th>\n",
       "      <td>6.8</td>\n",
       "    </tr>\n",
       "    <tr>\n",
       "      <th>21</th>\n",
       "      <td>7.1</td>\n",
       "    </tr>\n",
       "    <tr>\n",
       "      <th>22</th>\n",
       "      <td>7.9</td>\n",
       "    </tr>\n",
       "    <tr>\n",
       "      <th>23</th>\n",
       "      <td>8.2</td>\n",
       "    </tr>\n",
       "    <tr>\n",
       "      <th>24</th>\n",
       "      <td>8.7</td>\n",
       "    </tr>\n",
       "    <tr>\n",
       "      <th>25</th>\n",
       "      <td>9.0</td>\n",
       "    </tr>\n",
       "    <tr>\n",
       "      <th>26</th>\n",
       "      <td>9.5</td>\n",
       "    </tr>\n",
       "    <tr>\n",
       "      <th>27</th>\n",
       "      <td>9.6</td>\n",
       "    </tr>\n",
       "    <tr>\n",
       "      <th>28</th>\n",
       "      <td>10.3</td>\n",
       "    </tr>\n",
       "    <tr>\n",
       "      <th>29</th>\n",
       "      <td>10.5</td>\n",
       "    </tr>\n",
       "    <tr>\n",
       "      <th>30</th>\n",
       "      <td>11.2</td>\n",
       "    </tr>\n",
       "    <tr>\n",
       "      <th>31</th>\n",
       "      <td>11.5</td>\n",
       "    </tr>\n",
       "    <tr>\n",
       "      <th>32</th>\n",
       "      <td>12.3</td>\n",
       "    </tr>\n",
       "    <tr>\n",
       "      <th>33</th>\n",
       "      <td>12.9</td>\n",
       "    </tr>\n",
       "    <tr>\n",
       "      <th>34</th>\n",
       "      <td>13.5</td>\n",
       "    </tr>\n",
       "  </tbody>\n",
       "</table>\n",
       "</div>"
      ],
      "text/plain": [
       "    YearsExperience\n",
       "0               1.1\n",
       "1               1.3\n",
       "2               1.5\n",
       "3               2.0\n",
       "4               2.2\n",
       "5               2.9\n",
       "6               3.0\n",
       "7               3.2\n",
       "8               3.2\n",
       "9               3.7\n",
       "10              3.9\n",
       "11              4.0\n",
       "12              4.0\n",
       "13              4.1\n",
       "14              4.5\n",
       "15              4.9\n",
       "16              5.1\n",
       "17              5.3\n",
       "18              5.9\n",
       "19              6.0\n",
       "20              6.8\n",
       "21              7.1\n",
       "22              7.9\n",
       "23              8.2\n",
       "24              8.7\n",
       "25              9.0\n",
       "26              9.5\n",
       "27              9.6\n",
       "28             10.3\n",
       "29             10.5\n",
       "30             11.2\n",
       "31             11.5\n",
       "32             12.3\n",
       "33             12.9\n",
       "34             13.5"
      ]
     },
     "execution_count": 96,
     "metadata": {},
     "output_type": "execute_result"
    }
   ],
   "source": [
    "X"
   ]
  },
  {
   "cell_type": "code",
   "execution_count": 97,
   "metadata": {},
   "outputs": [
    {
     "data": {
      "text/html": [
       "<div>\n",
       "<style scoped>\n",
       "    .dataframe tbody tr th:only-of-type {\n",
       "        vertical-align: middle;\n",
       "    }\n",
       "\n",
       "    .dataframe tbody tr th {\n",
       "        vertical-align: top;\n",
       "    }\n",
       "\n",
       "    .dataframe thead th {\n",
       "        text-align: right;\n",
       "    }\n",
       "</style>\n",
       "<table border=\"1\" class=\"dataframe\">\n",
       "  <thead>\n",
       "    <tr style=\"text-align: right;\">\n",
       "      <th></th>\n",
       "      <th>Salary</th>\n",
       "    </tr>\n",
       "  </thead>\n",
       "  <tbody>\n",
       "    <tr>\n",
       "      <th>0</th>\n",
       "      <td>39343</td>\n",
       "    </tr>\n",
       "    <tr>\n",
       "      <th>1</th>\n",
       "      <td>46205</td>\n",
       "    </tr>\n",
       "    <tr>\n",
       "      <th>2</th>\n",
       "      <td>37731</td>\n",
       "    </tr>\n",
       "    <tr>\n",
       "      <th>3</th>\n",
       "      <td>43525</td>\n",
       "    </tr>\n",
       "    <tr>\n",
       "      <th>4</th>\n",
       "      <td>39891</td>\n",
       "    </tr>\n",
       "    <tr>\n",
       "      <th>5</th>\n",
       "      <td>56642</td>\n",
       "    </tr>\n",
       "    <tr>\n",
       "      <th>6</th>\n",
       "      <td>60150</td>\n",
       "    </tr>\n",
       "    <tr>\n",
       "      <th>7</th>\n",
       "      <td>54445</td>\n",
       "    </tr>\n",
       "    <tr>\n",
       "      <th>8</th>\n",
       "      <td>64445</td>\n",
       "    </tr>\n",
       "    <tr>\n",
       "      <th>9</th>\n",
       "      <td>57189</td>\n",
       "    </tr>\n",
       "    <tr>\n",
       "      <th>10</th>\n",
       "      <td>63218</td>\n",
       "    </tr>\n",
       "    <tr>\n",
       "      <th>11</th>\n",
       "      <td>55794</td>\n",
       "    </tr>\n",
       "    <tr>\n",
       "      <th>12</th>\n",
       "      <td>56957</td>\n",
       "    </tr>\n",
       "    <tr>\n",
       "      <th>13</th>\n",
       "      <td>57081</td>\n",
       "    </tr>\n",
       "    <tr>\n",
       "      <th>14</th>\n",
       "      <td>61111</td>\n",
       "    </tr>\n",
       "    <tr>\n",
       "      <th>15</th>\n",
       "      <td>67938</td>\n",
       "    </tr>\n",
       "    <tr>\n",
       "      <th>16</th>\n",
       "      <td>66029</td>\n",
       "    </tr>\n",
       "    <tr>\n",
       "      <th>17</th>\n",
       "      <td>83088</td>\n",
       "    </tr>\n",
       "    <tr>\n",
       "      <th>18</th>\n",
       "      <td>81363</td>\n",
       "    </tr>\n",
       "    <tr>\n",
       "      <th>19</th>\n",
       "      <td>93940</td>\n",
       "    </tr>\n",
       "    <tr>\n",
       "      <th>20</th>\n",
       "      <td>91738</td>\n",
       "    </tr>\n",
       "    <tr>\n",
       "      <th>21</th>\n",
       "      <td>98273</td>\n",
       "    </tr>\n",
       "    <tr>\n",
       "      <th>22</th>\n",
       "      <td>101302</td>\n",
       "    </tr>\n",
       "    <tr>\n",
       "      <th>23</th>\n",
       "      <td>113812</td>\n",
       "    </tr>\n",
       "    <tr>\n",
       "      <th>24</th>\n",
       "      <td>109431</td>\n",
       "    </tr>\n",
       "    <tr>\n",
       "      <th>25</th>\n",
       "      <td>105582</td>\n",
       "    </tr>\n",
       "    <tr>\n",
       "      <th>26</th>\n",
       "      <td>116969</td>\n",
       "    </tr>\n",
       "    <tr>\n",
       "      <th>27</th>\n",
       "      <td>112635</td>\n",
       "    </tr>\n",
       "    <tr>\n",
       "      <th>28</th>\n",
       "      <td>122391</td>\n",
       "    </tr>\n",
       "    <tr>\n",
       "      <th>29</th>\n",
       "      <td>121872</td>\n",
       "    </tr>\n",
       "    <tr>\n",
       "      <th>30</th>\n",
       "      <td>127345</td>\n",
       "    </tr>\n",
       "    <tr>\n",
       "      <th>31</th>\n",
       "      <td>126756</td>\n",
       "    </tr>\n",
       "    <tr>\n",
       "      <th>32</th>\n",
       "      <td>128765</td>\n",
       "    </tr>\n",
       "    <tr>\n",
       "      <th>33</th>\n",
       "      <td>135675</td>\n",
       "    </tr>\n",
       "    <tr>\n",
       "      <th>34</th>\n",
       "      <td>139465</td>\n",
       "    </tr>\n",
       "  </tbody>\n",
       "</table>\n",
       "</div>"
      ],
      "text/plain": [
       "    Salary\n",
       "0    39343\n",
       "1    46205\n",
       "2    37731\n",
       "3    43525\n",
       "4    39891\n",
       "5    56642\n",
       "6    60150\n",
       "7    54445\n",
       "8    64445\n",
       "9    57189\n",
       "10   63218\n",
       "11   55794\n",
       "12   56957\n",
       "13   57081\n",
       "14   61111\n",
       "15   67938\n",
       "16   66029\n",
       "17   83088\n",
       "18   81363\n",
       "19   93940\n",
       "20   91738\n",
       "21   98273\n",
       "22  101302\n",
       "23  113812\n",
       "24  109431\n",
       "25  105582\n",
       "26  116969\n",
       "27  112635\n",
       "28  122391\n",
       "29  121872\n",
       "30  127345\n",
       "31  126756\n",
       "32  128765\n",
       "33  135675\n",
       "34  139465"
      ]
     },
     "execution_count": 97,
     "metadata": {},
     "output_type": "execute_result"
    }
   ],
   "source": [
    "y"
   ]
  },
  {
   "cell_type": "code",
   "execution_count": 98,
   "metadata": {
    "colab": {
     "base_uri": "https://localhost:8080/",
     "height": 34
    },
    "colab_type": "code",
    "id": "XpGU63Ne1e9P",
    "outputId": "e16c74ca-dc1c-416c-dc44-7f927bb99bc6"
   },
   "outputs": [
    {
     "data": {
      "text/plain": [
       "(35, 1)"
      ]
     },
     "execution_count": 98,
     "metadata": {},
     "output_type": "execute_result"
    }
   ],
   "source": [
    "X.shape"
   ]
  },
  {
   "cell_type": "code",
   "execution_count": 99,
   "metadata": {
    "colab": {
     "base_uri": "https://localhost:8080/",
     "height": 34
    },
    "colab_type": "code",
    "id": "OjGj0RALA0qZ",
    "outputId": "26559a6c-880b-45b4-a1e8-3c4b92bea889"
   },
   "outputs": [
    {
     "data": {
      "text/plain": [
       "(35, 1)"
      ]
     },
     "execution_count": 99,
     "metadata": {},
     "output_type": "execute_result"
    }
   ],
   "source": [
    "y.shape"
   ]
  },
  {
   "cell_type": "code",
   "execution_count": 100,
   "metadata": {
    "colab": {},
    "colab_type": "code",
    "id": "jIeiK1maA6mm"
   },
   "outputs": [],
   "source": [
    "# linear learner alg requires data tobe in float32\n",
    "X = np.array(X).astype('float32')\n",
    "y = np.array(y).astype('float32')"
   ]
  },
  {
   "cell_type": "code",
   "execution_count": 101,
   "metadata": {},
   "outputs": [
    {
     "data": {
      "text/plain": [
       "array([[ 1.1],\n",
       "       [ 1.3],\n",
       "       [ 1.5],\n",
       "       [ 2. ],\n",
       "       [ 2.2],\n",
       "       [ 2.9],\n",
       "       [ 3. ],\n",
       "       [ 3.2],\n",
       "       [ 3.2],\n",
       "       [ 3.7],\n",
       "       [ 3.9],\n",
       "       [ 4. ],\n",
       "       [ 4. ],\n",
       "       [ 4.1],\n",
       "       [ 4.5],\n",
       "       [ 4.9],\n",
       "       [ 5.1],\n",
       "       [ 5.3],\n",
       "       [ 5.9],\n",
       "       [ 6. ],\n",
       "       [ 6.8],\n",
       "       [ 7.1],\n",
       "       [ 7.9],\n",
       "       [ 8.2],\n",
       "       [ 8.7],\n",
       "       [ 9. ],\n",
       "       [ 9.5],\n",
       "       [ 9.6],\n",
       "       [10.3],\n",
       "       [10.5],\n",
       "       [11.2],\n",
       "       [11.5],\n",
       "       [12.3],\n",
       "       [12.9],\n",
       "       [13.5]], dtype=float32)"
      ]
     },
     "execution_count": 101,
     "metadata": {},
     "output_type": "execute_result"
    }
   ],
   "source": [
    "# Only take the numerical variables and scale them\n",
    "X "
   ]
  },
  {
   "cell_type": "code",
   "execution_count": 102,
   "metadata": {
    "colab": {},
    "colab_type": "code",
    "id": "GoReLFfnA6uF"
   },
   "outputs": [],
   "source": [
    "# split the data into test and train sets\n",
    "from sklearn.model_selection import train_test_split\n",
    "\n",
    "X_train, X_test, y_train, y_test = train_test_split(X, y, test_size = 0.2)\n"
   ]
  },
  {
   "cell_type": "markdown",
   "metadata": {},
   "source": [
    "MINI CHALLENGE\n",
    " - Try splitting the data into 75% for training and the rest for testing\n",
    " - Verify that the split was successful by obtaining the shape of both X_train and X_test\n",
    " - Did you notice any change in the order of the data? why?"
   ]
  },
  {
   "cell_type": "code",
   "execution_count": 103,
   "metadata": {},
   "outputs": [],
   "source": [
    "X_train, X_test, y_train, y_test = train_test_split(X, y, test_size = 0.25)"
   ]
  },
  {
   "cell_type": "code",
   "execution_count": 104,
   "metadata": {},
   "outputs": [
    {
     "data": {
      "text/plain": [
       "(26, 1)"
      ]
     },
     "metadata": {},
     "output_type": "display_data"
    },
    {
     "data": {
      "text/plain": [
       "(26, 1)"
      ]
     },
     "metadata": {},
     "output_type": "display_data"
    }
   ],
   "source": [
    "display(X_train.shape)\n",
    "display(y_train.shape)"
   ]
  },
  {
   "cell_type": "code",
   "execution_count": 105,
   "metadata": {},
   "outputs": [
    {
     "data": {
      "text/plain": [
       "(9, 1)"
      ]
     },
     "metadata": {},
     "output_type": "display_data"
    },
    {
     "data": {
      "text/plain": [
       "(9, 1)"
      ]
     },
     "metadata": {},
     "output_type": "display_data"
    }
   ],
   "source": [
    "display(X_test.shape)\n",
    "display(y_test.shape)"
   ]
  },
  {
   "cell_type": "code",
   "execution_count": 106,
   "metadata": {},
   "outputs": [
    {
     "data": {
      "text/plain": [
       "array([[ 3.9],\n",
       "       [ 2.2],\n",
       "       [ 4. ],\n",
       "       [ 9. ],\n",
       "       [10.3],\n",
       "       [11.2],\n",
       "       [ 3.7],\n",
       "       [ 5.1],\n",
       "       [ 1.1],\n",
       "       [ 1.5],\n",
       "       [ 7.1],\n",
       "       [ 1.3],\n",
       "       [11.5],\n",
       "       [ 9.5],\n",
       "       [ 8.2],\n",
       "       [10.5],\n",
       "       [ 7.9],\n",
       "       [12.3],\n",
       "       [ 5.9],\n",
       "       [ 4.5],\n",
       "       [13.5],\n",
       "       [ 3.2],\n",
       "       [ 9.6],\n",
       "       [ 6. ],\n",
       "       [ 5.3],\n",
       "       [ 2. ]], dtype=float32)"
      ]
     },
     "execution_count": 106,
     "metadata": {},
     "output_type": "execute_result"
    }
   ],
   "source": [
    "X_train"
   ]
  },
  {
   "cell_type": "markdown",
   "metadata": {
    "colab_type": "text",
    "id": "idWHLv5alF4C"
   },
   "source": [
    "# 5: TRAIN A LINEAR REGRESSION MODEL IN SK-LEARN"
   ]
  },
  {
   "cell_type": "code",
   "execution_count": 111,
   "metadata": {
    "colab": {
     "base_uri": "https://localhost:8080/",
     "height": 34
    },
    "colab_type": "code",
    "id": "yHL-6mKwBURs",
    "outputId": "10d71b6d-9c2b-4bab-8b27-d3c5883e6a25"
   },
   "outputs": [
    {
     "data": {
      "text/plain": [
       "LinearRegression(copy_X=True, fit_intercept=True, n_jobs=None, normalize=False)"
      ]
     },
     "execution_count": 111,
     "metadata": {},
     "output_type": "execute_result"
    }
   ],
   "source": [
    "# using linear regression model\n",
    "from sklearn.linear_model import LinearRegression\n",
    "from sklearn.metrics import mean_squared_error, accuracy_score\n",
    "\n",
    "regresssion_model_sklearn = LinearRegression(fit_intercept = True)\n",
    "regresssion_model_sklearn.fit(X_train, y_train)\n"
   ]
  },
  {
   "cell_type": "code",
   "execution_count": 112,
   "metadata": {
    "colab": {
     "base_uri": "https://localhost:8080/",
     "height": 34
    },
    "colab_type": "code",
    "id": "elD8m5N0BgEY",
    "outputId": "16a1813d-a0f1-4d1f-dc02-d7ad5a445417"
   },
   "outputs": [
    {
     "data": {
      "text/plain": [
       "0.9657222132283145"
      ]
     },
     "execution_count": 112,
     "metadata": {},
     "output_type": "execute_result"
    }
   ],
   "source": [
    "regresssion_model_sklearn_accuracy = regresssion_model_sklearn.score(X_test, y_test)\n",
    "regresssion_model_sklearn_accuracy"
   ]
  },
  {
   "cell_type": "code",
   "execution_count": 113,
   "metadata": {},
   "outputs": [
    {
     "name": "stdout",
     "output_type": "stream",
     "text": [
      "Linear Model Coefficient (m):  [[8741.345]]\n",
      "Linear Model Coefficient (b):  [29207.23]\n"
     ]
    }
   ],
   "source": [
    "print('Linear Model Coefficient (m): ', regresssion_model_sklearn.coef_)\n",
    "print('Linear Model Coefficient (b): ', regresssion_model_sklearn.intercept_)"
   ]
  },
  {
   "cell_type": "markdown",
   "metadata": {},
   "source": [
    "MINI CHALLENGE\n",
    "- Retrain the model while setting the fit_intercept = False, what do you notice?"
   ]
  },
  {
   "cell_type": "code",
   "execution_count": 110,
   "metadata": {},
   "outputs": [
    {
     "data": {
      "text/plain": [
       "0.7059326452748389"
      ]
     },
     "metadata": {},
     "output_type": "display_data"
    },
    {
     "name": "stdout",
     "output_type": "stream",
     "text": [
      "Linear Model Coefficient (m):  [[12135.798]]\n",
      "Linear Model Coefficient (b):  0.0\n"
     ]
    }
   ],
   "source": [
    "regresssion_model_sklearn = LinearRegression(fit_intercept = False)\n",
    "regresssion_model_sklearn.fit(X_train, y_train)\n",
    "\n",
    "regresssion_model_sklearn_accuracy = regresssion_model_sklearn.score(X_test, y_test)\n",
    "display(regresssion_model_sklearn_accuracy)\n",
    "\n",
    "print('Linear Model Coefficient (m): ', regresssion_model_sklearn.coef_)\n",
    "print('Linear Model Coefficient (b): ', regresssion_model_sklearn.intercept_)"
   ]
  },
  {
   "cell_type": "markdown",
   "metadata": {},
   "source": [
    "# 6: EVALUATE TRAINED MODEL PERFORMANCE"
   ]
  },
  {
   "cell_type": "code",
   "execution_count": 114,
   "metadata": {},
   "outputs": [],
   "source": [
    "y_predict = regresssion_model_sklearn.predict(X_test)"
   ]
  },
  {
   "cell_type": "code",
   "execution_count": 115,
   "metadata": {
    "scrolled": true
   },
   "outputs": [
    {
     "data": {
      "text/plain": [
       "array([[ 88648.375],\n",
       "       [ 65046.742],\n",
       "       [ 72039.82 ],\n",
       "       [ 55431.266],\n",
       "       [ 64172.61 ],\n",
       "       [ 57179.53 ],\n",
       "       [105256.92 ],\n",
       "       [ 54557.133],\n",
       "       [141970.58 ]], dtype=float32)"
      ]
     },
     "execution_count": 115,
     "metadata": {},
     "output_type": "execute_result"
    }
   ],
   "source": [
    "y_predict"
   ]
  },
  {
   "cell_type": "code",
   "execution_count": 116,
   "metadata": {},
   "outputs": [
    {
     "data": {
      "text/plain": [
       "Text(0.5, 1.0, 'Salary vs. Years of Experience')"
      ]
     },
     "execution_count": 116,
     "metadata": {},
     "output_type": "execute_result"
    },
    {
     "data": {
      "image/png": "[encoded data removed]",
      "text/plain": [
       "<Figure size 432x288 with 1 Axes>"
      ]
     },
     "metadata": {
      "needs_background": "light"
     },
     "output_type": "display_data"
    }
   ],
   "source": [
    "plt.scatter(X_train, y_train, color = 'gray')\n",
    "plt.plot(X_train, regresssion_model_sklearn.predict(X_train), color = 'red')\n",
    "plt.ylabel('Salary')\n",
    "plt.xlabel('Number of Years of Experience')\n",
    "plt.title('Salary vs. Years of Experience')"
   ]
  },
  {
   "cell_type": "markdown",
   "metadata": {},
   "source": [
    "MINI CHALLENGE\n",
    " - Use the trained model, obtain the salary corresponding to eployees who have years of experience = 5"
   ]
  },
  {
   "cell_type": "code",
   "execution_count": 117,
   "metadata": {},
   "outputs": [
    {
     "data": {
      "text/plain": [
       "array([[72913.95410156]])"
      ]
     },
     "execution_count": 117,
     "metadata": {},
     "output_type": "execute_result"
    }
   ],
   "source": [
    "regresssion_model_sklearn.predict([[5]])"
   ]
  },
  {
   "cell_type": "markdown",
   "metadata": {},
   "source": [
    "# 7: TRAIN A LINEAR LEARNER MODEL USING SAGEMAKER"
   ]
  },
  {
   "cell_type": "code",
   "execution_count": 119,
   "metadata": {},
   "outputs": [
    {
     "name": "stdout",
     "output_type": "stream",
     "text": [
      "arn:aws:iam::604356988556:role/service-role/AmazonSageMaker-ExecutionRole-20211022T154542\n"
     ]
    }
   ],
   "source": [
    "# Boto3 is the Amazon Web Services (AWS) Software Development Kit (SDK) for Python\n",
    "# Boto3 allows Python developer to write software that makes use of services like Amazon S3 and Amazon EC2\n",
    "\n",
    "import sagemaker\n",
    "import boto3\n",
    "# from sagemaker import Session\n",
    "\n",
    "# Let's create a Sagemaker session\n",
    "sagemaker_session = sagemaker.Session()\n",
    "\n",
    "bucket = sagemaker_session.default_bucket()\n",
    "# Let's define the S3 bucket and prefix that we want to use in this session\n",
    "# bucket = 'sagemaker-practical' # bucket named 'sagemaker-practical' was created beforehand\n",
    "prefix = 'linear_learner' # prefix is the subfolder within the bucket.\n",
    "\n",
    "# Let's get the execution role for the notebook instance. \n",
    "# This is the IAM role that you created when you created your notebook instance. You pass the role to the training job.\n",
    "# Note that AWS Identity and Access Management (IAM) role that Amazon SageMaker can assume to perform tasks on your behalf (for example, reading training results, called model artifacts, from the S3 bucket and writing training results to Amazon S3). \n",
    "role = sagemaker.get_execution_role()\n",
    "print(role)"
   ]
  },
  {
   "cell_type": "code",
   "execution_count": 120,
   "metadata": {},
   "outputs": [
    {
     "data": {
      "text/plain": [
       "(26, 1)"
      ]
     },
     "execution_count": 120,
     "metadata": {},
     "output_type": "execute_result"
    }
   ],
   "source": [
    "X_train.shape"
   ]
  },
  {
   "cell_type": "code",
   "execution_count": 121,
   "metadata": {},
   "outputs": [],
   "source": [
    "y_train = y_train[:,0]"
   ]
  },
  {
   "cell_type": "code",
   "execution_count": 122,
   "metadata": {},
   "outputs": [
    {
     "data": {
      "text/plain": [
       "(26,)"
      ]
     },
     "execution_count": 122,
     "metadata": {},
     "output_type": "execute_result"
    }
   ],
   "source": [
    "y_train.shape"
   ]
  },
  {
   "cell_type": "code",
   "execution_count": 123,
   "metadata": {},
   "outputs": [
    {
     "data": {
      "text/plain": [
       "0"
      ]
     },
     "execution_count": 123,
     "metadata": {},
     "output_type": "execute_result"
    }
   ],
   "source": [
    "import io # The io module allows for dealing with various types of I/O (text I/O, binary I/O and raw I/O). \n",
    "import numpy as np\n",
    "import sagemaker.amazon.common as smac # sagemaker common libary\n",
    "\n",
    "# Code below converts the data in numpy array format to RecordIO format\n",
    "# This is the format required by Sagemaker Linear Learner \n",
    "\n",
    "buf = io.BytesIO() # create an in-memory byte array (buf is a buffer I will be writing to)\n",
    "smac.write_numpy_to_dense_tensor(buf, X_train, y_train)\n",
    "buf.seek(0) \n",
    "# When you write to in-memory byte arrays, it increments 1 every time you write to it\n",
    "# Let's reset that back to zero \n"
   ]
  },
  {
   "cell_type": "code",
   "execution_count": 124,
   "metadata": {},
   "outputs": [
    {
     "name": "stdout",
     "output_type": "stream",
     "text": [
      "uploaded training data location: s3://sagemaker-ap-southeast-1-604356988556/linear_learner/train/linear-train-data\n"
     ]
    }
   ],
   "source": [
    "import os\n",
    "\n",
    "# Code to upload RecordIO data to S3\n",
    " \n",
    "# Key refers to the name of the file    \n",
    "key = 'linear-train-data'\n",
    "\n",
    "# The following code uploads the data in record-io format to S3 bucket to be accessed later for training\n",
    "boto3.resource('s3').Bucket(bucket).Object(os.path.join(prefix, 'train', key)).upload_fileobj(buf)\n",
    "\n",
    "# Let's print out the training data location in s3\n",
    "s3_train_data = 's3://{}/{}/train/{}'.format(bucket, prefix, key)\n",
    "print('uploaded training data location: {}'.format(s3_train_data))"
   ]
  },
  {
   "cell_type": "code",
   "execution_count": 125,
   "metadata": {},
   "outputs": [
    {
     "data": {
      "text/plain": [
       "(9, 1)"
      ]
     },
     "execution_count": 125,
     "metadata": {},
     "output_type": "execute_result"
    }
   ],
   "source": [
    "X_test.shape"
   ]
  },
  {
   "cell_type": "code",
   "execution_count": 126,
   "metadata": {},
   "outputs": [
    {
     "data": {
      "text/plain": [
       "(9, 1)"
      ]
     },
     "execution_count": 126,
     "metadata": {},
     "output_type": "execute_result"
    }
   ],
   "source": [
    "y_test.shape"
   ]
  },
  {
   "cell_type": "code",
   "execution_count": 127,
   "metadata": {},
   "outputs": [],
   "source": [
    "# Make sure that the target label is a vector\n",
    "y_test = y_test[:,0]\n"
   ]
  },
  {
   "cell_type": "code",
   "execution_count": 128,
   "metadata": {},
   "outputs": [
    {
     "data": {
      "text/plain": [
       "0"
      ]
     },
     "execution_count": 128,
     "metadata": {},
     "output_type": "execute_result"
    }
   ],
   "source": [
    "# Code to upload RecordIO data to S3\n",
    "\n",
    "buf = io.BytesIO() # create an in-memory byte array (buf is a buffer I will be writing to)\n",
    "smac.write_numpy_to_dense_tensor(buf, X_test, y_test)\n",
    "buf.seek(0) \n",
    "# When you write to in-memory byte arrays, it increments 1 every time you write to it\n",
    "# Let's reset that back to zero \n"
   ]
  },
  {
   "cell_type": "code",
   "execution_count": 129,
   "metadata": {},
   "outputs": [
    {
     "name": "stdout",
     "output_type": "stream",
     "text": [
      "uploaded training data location: s3://sagemaker-ap-southeast-1-604356988556/linear_learner/test/linear-test-data\n"
     ]
    }
   ],
   "source": [
    "# Key refers to the name of the file    \n",
    "key = 'linear-test-data'\n",
    "\n",
    "# The following code uploads the data in record-io format to S3 bucket to be accessed later for training\n",
    "boto3.resource('s3').Bucket(bucket).Object(os.path.join(prefix, 'test', key)).upload_fileobj(buf)\n",
    "\n",
    "# Let's print out the testing data location in s3\n",
    "s3_test_data = 's3://{}/{}/test/{}'.format(bucket, prefix, key)\n",
    "print('uploaded training data location: {}'.format(s3_test_data))"
   ]
  },
  {
   "cell_type": "code",
   "execution_count": 130,
   "metadata": {},
   "outputs": [
    {
     "name": "stdout",
     "output_type": "stream",
     "text": [
      "Training artifacts will be uploaded to: s3://sagemaker-ap-southeast-1-604356988556/linear_learner/output\n"
     ]
    }
   ],
   "source": [
    "# create an output placeholder in S3 bucket to store the linear learner output\n",
    "\n",
    "output_location = 's3://{}/{}/output'.format(bucket, prefix)\n",
    "print('Training artifacts will be uploaded to: {}'.format(output_location))"
   ]
  },
  {
   "cell_type": "code",
   "execution_count": 132,
   "metadata": {},
   "outputs": [],
   "source": [
    "# This code is used to get the training container of sagemaker built-in algorithms\n",
    "# all we have to do is to specify the name of the algorithm, that we want to use\n",
    "\n",
    "# Let's obtain a reference to the linearLearner container image\n",
    "# Note that all regression models are named estimators\n",
    "# You don't have to specify (hardcode) the region, get_image_uri will get the current region name using boto3.Session\n",
    "\n",
    "# from sagemaker.amazon.amazon_estimator import get_image_uri\n",
    "# container = get_image_uri(boto3.Session().region_name, 'linear-learner')\n",
    "\n",
    "container = sagemaker.image_uris.retrieve(\"linear-learner\", sagemaker_session.boto_region_name)"
   ]
  },
  {
   "cell_type": "code",
   "execution_count": 138,
   "metadata": {},
   "outputs": [
    {
     "name": "stdout",
     "output_type": "stream",
     "text": [
      "2021-10-22 15:16:51 Starting - Starting the training job...\n",
      "2021-10-22 15:17:14 Starting - Launching requested ML instancesProfilerReport-1634915811: InProgress\n",
      "...\n",
      "2021-10-22 15:17:49 Starting - Preparing the instances for training............\n",
      "2021-10-22 15:19:51 Downloading - Downloading input data\n",
      "2021-10-22 15:19:51 Training - Downloading the training image...\n",
      "2021-10-22 15:20:15 Training - Training image download completed. Training in progress.\u001b[34mDocker entrypoint called with argument(s): train\u001b[0m\n",
      "\u001b[34mRunning default environment configuration script\u001b[0m\n",
      "\u001b[34m[10/22/2021 15:20:17 INFO 139661101946688] Reading default configuration from /opt/amazon/lib/python3.7/site-packages/algorithm/resources/default-input.json: {'mini_batch_size': '1000', 'epochs': '15', 'feature_dim': 'auto', 'use_bias': 'true', 'binary_classifier_model_selection_criteria': 'accuracy', 'f_beta': '1.0', 'target_recall': '0.8', 'target_precision': '0.8', 'num_models': 'auto', 'num_calibration_samples': '10000000', 'init_method': 'uniform', 'init_scale': '0.07', 'init_sigma': '0.01', 'init_bias': '0.0', 'optimizer': 'auto', 'loss': 'auto', 'margin': '1.0', 'quantile': '0.5', 'loss_insensitivity': '0.01', 'huber_delta': '1.0', 'num_classes': '1', 'accuracy_top_k': '3', 'wd': 'auto', 'l1': 'auto', 'momentum': 'auto', 'learning_rate': 'auto', 'beta_1': 'auto', 'beta_2': 'auto', 'bias_lr_mult': 'auto', 'bias_wd_mult': 'auto', 'use_lr_scheduler': 'true', 'lr_scheduler_step': 'auto', 'lr_scheduler_factor': 'auto', 'lr_scheduler_minimum_lr': 'auto', 'positive_example_weight_mult': '1.0', 'balance_multiclass_weights': 'false', 'normalize_data': 'true', 'normalize_label': 'auto', 'unbias_data': 'auto', 'unbias_label': 'auto', 'num_point_for_scaler': '10000', '_kvstore': 'auto', '_num_gpus': 'auto', '_num_kv_servers': 'auto', '_log_level': 'info', '_tuning_objective_metric': '', 'early_stopping_patience': '3', 'early_stopping_tolerance': '0.001', '_enable_profiler': 'false'}\u001b[0m\n",
      "\u001b[34m[10/22/2021 15:20:17 INFO 139661101946688] Merging with provided configuration from /opt/ml/input/config/hyperparameters.json: {'loss': 'absolute_loss', 'feature_dim': '1', 'num_models': '32', 'predictor_type': 'regressor', 'epochs': '5', 'mini_batch_size': '5'}\u001b[0m\n",
      "\u001b[34m[10/22/2021 15:20:17 INFO 139661101946688] Final configuration: {'mini_batch_size': '5', 'epochs': '5', 'feature_dim': '1', 'use_bias': 'true', 'binary_classifier_model_selection_criteria': 'accuracy', 'f_beta': '1.0', 'target_recall': '0.8', 'target_precision': '0.8', 'num_models': '32', 'num_calibration_samples': '10000000', 'init_method': 'uniform', 'init_scale': '0.07', 'init_sigma': '0.01', 'init_bias': '0.0', 'optimizer': 'auto', 'loss': 'absolute_loss', 'margin': '1.0', 'quantile': '0.5', 'loss_insensitivity': '0.01', 'huber_delta': '1.0', 'num_classes': '1', 'accuracy_top_k': '3', 'wd': 'auto', 'l1': 'auto', 'momentum': 'auto', 'learning_rate': 'auto', 'beta_1': 'auto', 'beta_2': 'auto', 'bias_lr_mult': 'auto', 'bias_wd_mult': 'auto', 'use_lr_scheduler': 'true', 'lr_scheduler_step': 'auto', 'lr_scheduler_factor': 'auto', 'lr_scheduler_minimum_lr': 'auto', 'positive_example_weight_mult': '1.0', 'balance_multiclass_weights': 'false', 'normalize_data': 'true', 'normalize_label': 'auto', 'unbias_data': 'auto', 'unbias_label': 'auto', 'num_point_for_scaler': '10000', '_kvstore': 'auto', '_num_gpus': 'auto', '_num_kv_servers': 'auto', '_log_level': 'info', '_tuning_objective_metric': '', 'early_stopping_patience': '3', 'early_stopping_tolerance': '0.001', '_enable_profiler': 'false', 'predictor_type': 'regressor'}\u001b[0m\n",
      "\u001b[34m[10/22/2021 15:20:17 WARNING 139661101946688] Loggers have already been setup.\u001b[0m\n",
      "\u001b[34mProcess 1 is a worker.\u001b[0m\n",
      "\u001b[34m[10/22/2021 15:20:17 INFO 139661101946688] Using default worker.\u001b[0m\n",
      "\u001b[34m[10/22/2021 15:20:18 INFO 139661101946688] Checkpoint loading and saving are disabled.\u001b[0m\n",
      "\u001b[34m[2021-10-22 15:20:18.031] [tensorio] [info] epoch_stats={\"data_pipeline\": \"/opt/ml/input/data/train\", \"epoch\": 0, \"duration\": 17, \"num_examples\": 1, \"num_bytes\": 240}\u001b[0m\n",
      "\u001b[34m[10/22/2021 15:20:18 INFO 139661101946688] Create Store: local\u001b[0m\n",
      "\u001b[34m[2021-10-22 15:20:18.097] [tensorio] [info] epoch_stats={\"data_pipeline\": \"/opt/ml/input/data/train\", \"epoch\": 1, \"duration\": 65, \"num_examples\": 6, \"num_bytes\": 1248}\u001b[0m\n",
      "\u001b[34m[10/22/2021 15:20:18 INFO 139661101946688] Scaler algorithm parameters\n",
      " <algorithm.scaler.ScalerAlgorithmStable object at 0x7f0501c1a650>\u001b[0m\n",
      "\u001b[34m[10/22/2021 15:20:18 INFO 139661101946688] Scaling model computed with parameters:\n",
      " {'stdev_label': \u001b[0m\n",
      "\u001b[34m[32133.588]\u001b[0m\n",
      "\u001b[34m<NDArray 1 @cpu(0)>, 'stdev_weight': \u001b[0m\n",
      "\u001b[34m[3.6239998]\u001b[0m\n",
      "\u001b[34m<NDArray 1 @cpu(0)>, 'mean_label': \u001b[0m\n",
      "\u001b[34m[88180.56]\u001b[0m\n",
      "\u001b[34m<NDArray 1 @cpu(0)>, 'mean_weight': \u001b[0m\n",
      "\u001b[34m[6.7320004]\u001b[0m\n",
      "\u001b[34m<NDArray 1 @cpu(0)>}\u001b[0m\n",
      "\u001b[34m[10/22/2021 15:20:18 INFO 139661101946688] nvidia-smi: took 0.031 seconds to run.\u001b[0m\n",
      "\u001b[34m[10/22/2021 15:20:18 INFO 139661101946688] nvidia-smi identified 0 GPUs.\u001b[0m\n",
      "\u001b[34m[10/22/2021 15:20:18 INFO 139661101946688] Number of GPUs being used: 0\u001b[0m\n",
      "\u001b[34m#metrics {\"StartTime\": 1634916018.2214494, \"EndTime\": 1634916018.2214923, \"Dimensions\": {\"Algorithm\": \"Linear Learner\", \"Host\": \"algo-1\", \"Operation\": \"training\", \"Meta\": \"init_train_data_iter\"}, \"Metrics\": {\"Total Records Seen\": {\"sum\": 31.0, \"count\": 1, \"min\": 31, \"max\": 31}, \"Total Batches Seen\": {\"sum\": 7.0, \"count\": 1, \"min\": 7, \"max\": 7}, \"Max Records Seen Between Resets\": {\"sum\": 26.0, \"count\": 1, \"min\": 26, \"max\": 26}, \"Max Batches Seen Between Resets\": {\"sum\": 6.0, \"count\": 1, \"min\": 6, \"max\": 6}, \"Reset Count\": {\"sum\": 2.0, \"count\": 1, \"min\": 2, \"max\": 2}, \"Number of Records Since Last Reset\": {\"sum\": 0.0, \"count\": 1, \"min\": 0, \"max\": 0}, \"Number of Batches Since Last Reset\": {\"sum\": 0.0, \"count\": 1, \"min\": 0, \"max\": 0}}}\n",
      "\u001b[0m\n",
      "\u001b[34m[2021-10-22 15:20:18.363] [tensorio] [info] epoch_stats={\"data_pipeline\": \"/opt/ml/input/data/train\", \"epoch\": 4, \"duration\": 141, \"num_examples\": 6, \"num_bytes\": 1248}\u001b[0m\n",
      "\u001b[34m#metrics {\"StartTime\": 1634916018.3634737, \"EndTime\": 1634916018.3635814, \"Dimensions\": {\"Algorithm\": \"Linear Learner\", \"Host\": \"algo-1\", \"Operation\": \"training\", \"epoch\": 0, \"model\": 0}, \"Metrics\": {\"train_absolute_loss_objective\": {\"sum\": 0.9025582695007324, \"count\": 1, \"min\": 0.9025582695007324, \"max\": 0.9025582695007324}}}\n",
      "\u001b[0m\n",
      "\u001b[34m#metrics {\"StartTime\": 1634916018.3636792, \"EndTime\": 1634916018.3636968, \"Dimensions\": {\"Algorithm\": \"Linear Learner\", \"Host\": \"algo-1\", \"Operation\": \"training\", \"epoch\": 0, \"model\": 1}, \"Metrics\": {\"train_absolute_loss_objective\": {\"sum\": 0.9224199104309082, \"count\": 1, \"min\": 0.9224199104309082, \"max\": 0.9224199104309082}}}\n",
      "\u001b[0m\n",
      "\u001b[34m#metrics {\"StartTime\": 1634916018.3637443, \"EndTime\": 1634916018.363756, \"Dimensions\": {\"Algorithm\": \"Linear Learner\", \"Host\": \"algo-1\", \"Operation\": \"training\", \"epoch\": 0, \"model\": 2}, \"Metrics\": {\"train_absolute_loss_objective\": {\"sum\": 0.904964246749878, \"count\": 1, \"min\": 0.904964246749878, \"max\": 0.904964246749878}}}\n",
      "\u001b[0m\n",
      "\u001b[34m#metrics {\"StartTime\": 1634916018.3638065, \"EndTime\": 1634916018.3638184, \"Dimensions\": {\"Algorithm\": \"Linear Learner\", \"Host\": \"algo-1\", \"Operation\": \"training\", \"epoch\": 0, \"model\": 3}, \"Metrics\": {\"train_absolute_loss_objective\": {\"sum\": 0.921404914855957, \"count\": 1, \"min\": 0.921404914855957, \"max\": 0.921404914855957}}}\n",
      "\u001b[0m\n",
      "\u001b[34m#metrics {\"StartTime\": 1634916018.3639166, \"EndTime\": 1634916018.3639326, \"Dimensions\": {\"Algorithm\": \"Linear Learner\", \"Host\": \"algo-1\", \"Operation\": \"training\", \"epoch\": 0, \"model\": 4}, \"Metrics\": {\"train_absolute_loss_objective\": {\"sum\": 0.7606943893432617, \"count\": 1, \"min\": 0.7606943893432617, \"max\": 0.7606943893432617}}}\n",
      "\u001b[0m\n",
      "\u001b[34m#metrics {\"StartTime\": 1634916018.3639767, \"EndTime\": 1634916018.3639877, \"Dimensions\": {\"Algorithm\": \"Linear Learner\", \"Host\": \"algo-1\", \"Operation\": \"training\", \"epoch\": 0, \"model\": 5}, \"Metrics\": {\"train_absolute_loss_objective\": {\"sum\": 0.768686408996582, \"count\": 1, \"min\": 0.768686408996582, \"max\": 0.768686408996582}}}\n",
      "\u001b[0m\n",
      "\u001b[34m#metrics {\"StartTime\": 1634916018.3640263, \"EndTime\": 1634916018.3640373, \"Dimensions\": {\"Algorithm\": \"Linear Learner\", \"Host\": \"algo-1\", \"Operation\": \"training\", \"epoch\": 0, \"model\": 6}, \"Metrics\": {\"train_absolute_loss_objective\": {\"sum\": 0.8475179481506347, \"count\": 1, \"min\": 0.8475179481506347, \"max\": 0.8475179481506347}}}\n",
      "\u001b[0m\n",
      "\u001b[34m#metrics {\"StartTime\": 1634916018.3640764, \"EndTime\": 1634916018.364087, \"Dimensions\": {\"Algorithm\": \"Linear Learner\", \"Host\": \"algo-1\", \"Operation\": \"training\", \"epoch\": 0, \"model\": 7}, \"Metrics\": {\"train_absolute_loss_objective\": {\"sum\": 0.819266185760498, \"count\": 1, \"min\": 0.819266185760498, \"max\": 0.819266185760498}}}\n",
      "\u001b[0m\n",
      "\u001b[34m#metrics {\"StartTime\": 1634916018.3641255, \"EndTime\": 1634916018.3641362, \"Dimensions\": {\"Algorithm\": \"Linear Learner\", \"Host\": \"algo-1\", \"Operation\": \"training\", \"epoch\": 0, \"model\": 8}, \"Metrics\": {\"train_absolute_loss_objective\": {\"sum\": 0.9583248138427735, \"count\": 1, \"min\": 0.9583248138427735, \"max\": 0.9583248138427735}}}\n",
      "\u001b[0m\n",
      "\u001b[34m#metrics {\"StartTime\": 1634916018.364175, \"EndTime\": 1634916018.3641856, \"Dimensions\": {\"Algorithm\": \"Linear Learner\", \"Host\": \"algo-1\", \"Operation\": \"training\", \"epoch\": 0, \"model\": 9}, \"Metrics\": {\"train_absolute_loss_objective\": {\"sum\": 0.890556869506836, \"count\": 1, \"min\": 0.890556869506836, \"max\": 0.890556869506836}}}\n",
      "\u001b[0m\n",
      "\u001b[34m#metrics {\"StartTime\": 1634916018.3642237, \"EndTime\": 1634916018.3642344, \"Dimensions\": {\"Algorithm\": \"Linear Learner\", \"Host\": \"algo-1\", \"Operation\": \"training\", \"epoch\": 0, \"model\": 10}, \"Metrics\": {\"train_absolute_loss_objective\": {\"sum\": 0.8972398185729981, \"count\": 1, \"min\": 0.8972398185729981, \"max\": 0.8972398185729981}}}\n",
      "\u001b[0m\n",
      "\u001b[34m#metrics {\"StartTime\": 1634916018.3642728, \"EndTime\": 1634916018.3642838, \"Dimensions\": {\"Algorithm\": \"Linear Learner\", \"Host\": \"algo-1\", \"Operation\": \"training\", \"epoch\": 0, \"model\": 11}, \"Metrics\": {\"train_absolute_loss_objective\": {\"sum\": 0.8824619007110596, \"count\": 1, \"min\": 0.8824619007110596, \"max\": 0.8824619007110596}}}\n",
      "\u001b[0m\n",
      "\u001b[34m#metrics {\"StartTime\": 1634916018.3643222, \"EndTime\": 1634916018.3643332, \"Dimensions\": {\"Algorithm\": \"Linear Learner\", \"Host\": \"algo-1\", \"Operation\": \"training\", \"epoch\": 0, \"model\": 12}, \"Metrics\": {\"train_absolute_loss_objective\": {\"sum\": 0.7680129718780517, \"count\": 1, \"min\": 0.7680129718780517, \"max\": 0.7680129718780517}}}\n",
      "\u001b[0m\n",
      "\u001b[34m#metrics {\"StartTime\": 1634916018.3643718, \"EndTime\": 1634916018.3643825, \"Dimensions\": {\"Algorithm\": \"Linear Learner\", \"Host\": \"algo-1\", \"Operation\": \"training\", \"epoch\": 0, \"model\": 13}, \"Metrics\": {\"train_absolute_loss_objective\": {\"sum\": 0.7911396169662476, \"count\": 1, \"min\": 0.7911396169662476, \"max\": 0.7911396169662476}}}\n",
      "\u001b[0m\n",
      "\u001b[34m#metrics {\"StartTime\": 1634916018.364421, \"EndTime\": 1634916018.3644316, \"Dimensions\": {\"Algorithm\": \"Linear Learner\", \"Host\": \"algo-1\", \"Operation\": \"training\", \"epoch\": 0, \"model\": 14}, \"Metrics\": {\"train_absolute_loss_objective\": {\"sum\": 0.7667920160293579, \"count\": 1, \"min\": 0.7667920160293579, \"max\": 0.7667920160293579}}}\n",
      "\u001b[0m\n",
      "\u001b[34m#metrics {\"StartTime\": 1634916018.3644698, \"EndTime\": 1634916018.3644803, \"Dimensions\": {\"Algorithm\": \"Linear Learner\", \"Host\": \"algo-1\", \"Operation\": \"training\", \"epoch\": 0, \"model\": 15}, \"Metrics\": {\"train_absolute_loss_objective\": {\"sum\": 0.7972783470153808, \"count\": 1, \"min\": 0.7972783470153808, \"max\": 0.7972783470153808}}}\n",
      "\u001b[0m\n",
      "\u001b[34m#metrics {\"StartTime\": 1634916018.3645186, \"EndTime\": 1634916018.3645294, \"Dimensions\": {\"Algorithm\": \"Linear Learner\", \"Host\": \"algo-1\", \"Operation\": \"training\", \"epoch\": 0, \"model\": 16}, \"Metrics\": {\"train_absolute_loss_objective\": {\"sum\": 0.8665160179138184, \"count\": 1, \"min\": 0.8665160179138184, \"max\": 0.8665160179138184}}}\n",
      "\u001b[0m\n",
      "\u001b[34m#metrics {\"StartTime\": 1634916018.3645678, \"EndTime\": 1634916018.3645785, \"Dimensions\": {\"Algorithm\": \"Linear Learner\", \"Host\": \"algo-1\", \"Operation\": \"training\", \"epoch\": 0, \"model\": 17}, \"Metrics\": {\"train_absolute_loss_objective\": {\"sum\": 0.9176770973205567, \"count\": 1, \"min\": 0.9176770973205567, \"max\": 0.9176770973205567}}}\n",
      "\u001b[0m\n",
      "\u001b[34m#metrics {\"StartTime\": 1634916018.3646169, \"EndTime\": 1634916018.3646274, \"Dimensions\": {\"Algorithm\": \"Linear Learner\", \"Host\": \"algo-1\", \"Operation\": \"training\", \"epoch\": 0, \"model\": 18}, \"Metrics\": {\"train_absolute_loss_objective\": {\"sum\": 0.8935324001312256, \"count\": 1, \"min\": 0.8935324001312256, \"max\": 0.8935324001312256}}}\n",
      "\u001b[0m\n",
      "\u001b[34m#metrics {\"StartTime\": 1634916018.3646657, \"EndTime\": 1634916018.3646767, \"Dimensions\": {\"Algorithm\": \"Linear Learner\", \"Host\": \"algo-1\", \"Operation\": \"training\", \"epoch\": 0, \"model\": 19}, \"Metrics\": {\"train_absolute_loss_objective\": {\"sum\": 0.8908353996276855, \"count\": 1, \"min\": 0.8908353996276855, \"max\": 0.8908353996276855}}}\n",
      "\u001b[0m\n",
      "\u001b[34m#metrics {\"StartTime\": 1634916018.3648002, \"EndTime\": 1634916018.3648167, \"Dimensions\": {\"Algorithm\": \"Linear Learner\", \"Host\": \"algo-1\", \"Operation\": \"training\", \"epoch\": 0, \"model\": 20}, \"Metrics\": {\"train_absolute_loss_objective\": {\"sum\": 0.8113773965835571, \"count\": 1, \"min\": 0.8113773965835571, \"max\": 0.8113773965835571}}}\n",
      "\u001b[0m\n",
      "\u001b[34m#metrics {\"StartTime\": 1634916018.3648624, \"EndTime\": 1634916018.3648734, \"Dimensions\": {\"Algorithm\": \"Linear Learner\", \"Host\": \"algo-1\", \"Operation\": \"training\", \"epoch\": 0, \"model\": 21}, \"Metrics\": {\"train_absolute_loss_objective\": {\"sum\": 0.8260126495361328, \"count\": 1, \"min\": 0.8260126495361328, \"max\": 0.8260126495361328}}}\n",
      "\u001b[0m\n",
      "\u001b[34m#metrics {\"StartTime\": 1634916018.364913, \"EndTime\": 1634916018.3649235, \"Dimensions\": {\"Algorithm\": \"Linear Learner\", \"Host\": \"algo-1\", \"Operation\": \"training\", \"epoch\": 0, \"model\": 22}, \"Metrics\": {\"train_absolute_loss_objective\": {\"sum\": 0.7723895406723023, \"count\": 1, \"min\": 0.7723895406723023, \"max\": 0.7723895406723023}}}\n",
      "\u001b[0m\n",
      "\u001b[34m#metrics {\"StartTime\": 1634916018.364962, \"EndTime\": 1634916018.3649726, \"Dimensions\": {\"Algorithm\": \"Linear Learner\", \"Host\": \"algo-1\", \"Operation\": \"training\", \"epoch\": 0, \"model\": 23}, \"Metrics\": {\"train_absolute_loss_objective\": {\"sum\": 0.851213788986206, \"count\": 1, \"min\": 0.851213788986206, \"max\": 0.851213788986206}}}\n",
      "\u001b[0m\n",
      "\u001b[34m#metrics {\"StartTime\": 1634916018.3650122, \"EndTime\": 1634916018.3650253, \"Dimensions\": {\"Algorithm\": \"Linear Learner\", \"Host\": \"algo-1\", \"Operation\": \"training\", \"epoch\": 0, \"model\": 24}, \"Metrics\": {\"train_absolute_loss_objective\": {\"sum\": 0.8684642601013184, \"count\": 1, \"min\": 0.8684642601013184, \"max\": 0.8684642601013184}}}\n",
      "\u001b[0m\n",
      "\u001b[34m#metrics {\"StartTime\": 1634916018.365072, \"EndTime\": 1634916018.3650863, \"Dimensions\": {\"Algorithm\": \"Linear Learner\", \"Host\": \"algo-1\", \"Operation\": \"training\", \"epoch\": 0, \"model\": 25}, \"Metrics\": {\"train_absolute_loss_objective\": {\"sum\": 0.9359439659118652, \"count\": 1, \"min\": 0.9359439659118652, \"max\": 0.9359439659118652}}}\n",
      "\u001b[0m\n",
      "\u001b[34m#metrics {\"StartTime\": 1634916018.3651161, \"EndTime\": 1634916018.365124, \"Dimensions\": {\"Algorithm\": \"Linear Learner\", \"Host\": \"algo-1\", \"Operation\": \"training\", \"epoch\": 0, \"model\": 26}, \"Metrics\": {\"train_absolute_loss_objective\": {\"sum\": 0.9226458358764649, \"count\": 1, \"min\": 0.9226458358764649, \"max\": 0.9226458358764649}}}\n",
      "\u001b[0m\n",
      "\u001b[34m#metrics {\"StartTime\": 1634916018.3651512, \"EndTime\": 1634916018.3651645, \"Dimensions\": {\"Algorithm\": \"Linear Learner\", \"Host\": \"algo-1\", \"Operation\": \"training\", \"epoch\": 0, \"model\": 27}, \"Metrics\": {\"train_absolute_loss_objective\": {\"sum\": 0.9117952060699462, \"count\": 1, \"min\": 0.9117952060699462, \"max\": 0.9117952060699462}}}\n",
      "\u001b[0m\n",
      "\u001b[34m#metrics {\"StartTime\": 1634916018.3652115, \"EndTime\": 1634916018.3652208, \"Dimensions\": {\"Algorithm\": \"Linear Learner\", \"Host\": \"algo-1\", \"Operation\": \"training\", \"epoch\": 0, \"model\": 28}, \"Metrics\": {\"train_absolute_loss_objective\": {\"sum\": 1.457541217803955, \"count\": 1, \"min\": 1.457541217803955, \"max\": 1.457541217803955}}}\n",
      "\u001b[0m\n",
      "\u001b[34m#metrics {\"StartTime\": 1634916018.3652487, \"EndTime\": 1634916018.3652568, \"Dimensions\": {\"Algorithm\": \"Linear Learner\", \"Host\": \"algo-1\", \"Operation\": \"training\", \"epoch\": 0, \"model\": 29}, \"Metrics\": {\"train_absolute_loss_objective\": {\"sum\": 1.4570311737060546, \"count\": 1, \"min\": 1.4570311737060546, \"max\": 1.4570311737060546}}}\n",
      "\u001b[0m\n",
      "\u001b[34m#metrics {\"StartTime\": 1634916018.3652823, \"EndTime\": 1634916018.3652897, \"Dimensions\": {\"Algorithm\": \"Linear Learner\", \"Host\": \"algo-1\", \"Operation\": \"training\", \"epoch\": 0, \"model\": 30}, \"Metrics\": {\"train_absolute_loss_objective\": {\"sum\": 0.949718132019043, \"count\": 1, \"min\": 0.949718132019043, \"max\": 0.949718132019043}}}\n",
      "\u001b[0m\n",
      "\u001b[34m#metrics {\"StartTime\": 1634916018.3653154, \"EndTime\": 1634916018.3653243, \"Dimensions\": {\"Algorithm\": \"Linear Learner\", \"Host\": \"algo-1\", \"Operation\": \"training\", \"epoch\": 0, \"model\": 31}, \"Metrics\": {\"train_absolute_loss_objective\": {\"sum\": 1.4653708839416504, \"count\": 1, \"min\": 1.4653708839416504, \"max\": 1.4653708839416504}}}\n",
      "\u001b[0m\n",
      "\u001b[34m[10/22/2021 15:20:18 INFO 139661101946688] #quality_metric: host=algo-1, epoch=0, train absolute_loss_objective <loss>=0.9025582695007324\u001b[0m\n",
      "\u001b[34m[10/22/2021 15:20:18 INFO 139661101946688] #early_stopping_criteria_metric: host=algo-1, epoch=0, criteria=absolute_loss_objective, value=0.7606943893432617\u001b[0m\n",
      "\u001b[34m[10/22/2021 15:20:18 INFO 139661101946688] Epoch 0: Loss improved. Updating best model\u001b[0m\n",
      "\u001b[34m[10/22/2021 15:20:18 INFO 139661101946688] Saving model for epoch: 0\u001b[0m\n",
      "\u001b[34m[10/22/2021 15:20:18 INFO 139661101946688] Saved checkpoint to \"/tmp/tmp3of0b2nt/mx-mod-0000.params\"\u001b[0m\n",
      "\u001b[34m[10/22/2021 15:20:18 INFO 139661101946688] #progress_metric: host=algo-1, completed 20.0 % of epochs\u001b[0m\n",
      "\u001b[34m#metrics {\"StartTime\": 1634916018.2218225, \"EndTime\": 1634916018.3814151, \"Dimensions\": {\"Algorithm\": \"Linear Learner\", \"Host\": \"algo-1\", \"Operation\": \"training\", \"epoch\": 0, \"Meta\": \"training_data_iter\"}, \"Metrics\": {\"Total Records Seen\": {\"sum\": 57.0, \"count\": 1, \"min\": 57, \"max\": 57}, \"Total Batches Seen\": {\"sum\": 13.0, \"count\": 1, \"min\": 13, \"max\": 13}, \"Max Records Seen Between Resets\": {\"sum\": 26.0, \"count\": 1, \"min\": 26, \"max\": 26}, \"Max Batches Seen Between Resets\": {\"sum\": 6.0, \"count\": 1, \"min\": 6, \"max\": 6}, \"Reset Count\": {\"sum\": 3.0, \"count\": 1, \"min\": 3, \"max\": 3}, \"Number of Records Since Last Reset\": {\"sum\": 26.0, \"count\": 1, \"min\": 26, \"max\": 26}, \"Number of Batches Since Last Reset\": {\"sum\": 6.0, \"count\": 1, \"min\": 6, \"max\": 6}}}\n",
      "\u001b[0m\n",
      "\u001b[34m[10/22/2021 15:20:18 INFO 139661101946688] #throughput_metric: host=algo-1, train throughput=162.7453322528605 records/second\u001b[0m\n",
      "\u001b[34m[2021-10-22 15:20:18.508] [tensorio] [info] epoch_stats={\"data_pipeline\": \"/opt/ml/input/data/train\", \"epoch\": 6, \"duration\": 126, \"num_examples\": 6, \"num_bytes\": 1248}\u001b[0m\n",
      "\u001b[34m#metrics {\"StartTime\": 1634916018.5083025, \"EndTime\": 1634916018.5084007, \"Dimensions\": {\"Algorithm\": \"Linear Learner\", \"Host\": \"algo-1\", \"Operation\": \"training\", \"epoch\": 1, \"model\": 0}, \"Metrics\": {\"train_absolute_loss_objective\": {\"sum\": 0.873364896774292, \"count\": 1, \"min\": 0.873364896774292, \"max\": 0.873364896774292}}}\n",
      "\u001b[0m\n",
      "\u001b[34m#metrics {\"StartTime\": 1634916018.5085077, \"EndTime\": 1634916018.5085258, \"Dimensions\": {\"Algorithm\": \"Linear Learner\", \"Host\": \"algo-1\", \"Operation\": \"training\", \"epoch\": 1, \"model\": 1}, \"Metrics\": {\"train_absolute_loss_objective\": {\"sum\": 0.8932265090942383, \"count\": 1, \"min\": 0.8932265090942383, \"max\": 0.8932265090942383}}}\n",
      "\u001b[0m\n",
      "\u001b[34m#metrics {\"StartTime\": 1634916018.5085728, \"EndTime\": 1634916018.5085847, \"Dimensions\": {\"Algorithm\": \"Linear Learner\", \"Host\": \"algo-1\", \"Operation\": \"training\", \"epoch\": 1, \"model\": 2}, \"Metrics\": {\"train_absolute_loss_objective\": {\"sum\": 0.8757708644866944, \"count\": 1, \"min\": 0.8757708644866944, \"max\": 0.8757708644866944}}}\n",
      "\u001b[0m\n",
      "\u001b[34m#metrics {\"StartTime\": 1634916018.5086257, \"EndTime\": 1634916018.508637, \"Dimensions\": {\"Algorithm\": \"Linear Learner\", \"Host\": \"algo-1\", \"Operation\": \"training\", \"epoch\": 1, \"model\": 3}, \"Metrics\": {\"train_absolute_loss_objective\": {\"sum\": 0.8922115039825439, \"count\": 1, \"min\": 0.8922115039825439, \"max\": 0.8922115039825439}}}\n",
      "\u001b[0m\n",
      "\u001b[34m#metrics {\"StartTime\": 1634916018.5086818, \"EndTime\": 1634916018.508693, \"Dimensions\": {\"Algorithm\": \"Linear Learner\", \"Host\": \"algo-1\", \"Operation\": \"training\", \"epoch\": 1, \"model\": 4}, \"Metrics\": {\"train_absolute_loss_objective\": {\"sum\": 0.7173422050476074, \"count\": 1, \"min\": 0.7173422050476074, \"max\": 0.7173422050476074}}}\n",
      "\u001b[0m\n",
      "\u001b[34m#metrics {\"StartTime\": 1634916018.5087607, \"EndTime\": 1634916018.5087738, \"Dimensions\": {\"Algorithm\": \"Linear Learner\", \"Host\": \"algo-1\", \"Operation\": \"training\", \"epoch\": 1, \"model\": 5}, \"Metrics\": {\"train_absolute_loss_objective\": {\"sum\": 0.7184321928024292, \"count\": 1, \"min\": 0.7184321928024292, \"max\": 0.7184321928024292}}}\n",
      "\u001b[0m\n",
      "\u001b[34m#metrics {\"StartTime\": 1634916018.5088232, \"EndTime\": 1634916018.508835, \"Dimensions\": {\"Algorithm\": \"Linear Learner\", \"Host\": \"algo-1\", \"Operation\": \"training\", \"epoch\": 1, \"model\": 6}, \"Metrics\": {\"train_absolute_loss_objective\": {\"sum\": 0.6705564641952515, \"count\": 1, \"min\": 0.6705564641952515, \"max\": 0.6705564641952515}}}\n",
      "\u001b[0m\n",
      "\u001b[34m#metrics {\"StartTime\": 1634916018.5088825, \"EndTime\": 1634916018.508894, \"Dimensions\": {\"Algorithm\": \"Linear Learner\", \"Host\": \"algo-1\", \"Operation\": \"training\", \"epoch\": 1, \"model\": 7}, \"Metrics\": {\"train_absolute_loss_objective\": {\"sum\": 0.6574579954147339, \"count\": 1, \"min\": 0.6574579954147339, \"max\": 0.6574579954147339}}}\n",
      "\u001b[0m\n",
      "\u001b[34m#metrics {\"StartTime\": 1634916018.5089383, \"EndTime\": 1634916018.508949, \"Dimensions\": {\"Algorithm\": \"Linear Learner\", \"Host\": \"algo-1\", \"Operation\": \"training\", \"epoch\": 1, \"model\": 8}, \"Metrics\": {\"train_absolute_loss_objective\": {\"sum\": 0.9291315078735352, \"count\": 1, \"min\": 0.9291315078735352, \"max\": 0.9291315078735352}}}\n",
      "\u001b[0m\n",
      "\u001b[34m#metrics {\"StartTime\": 1634916018.5089939, \"EndTime\": 1634916018.5090053, \"Dimensions\": {\"Algorithm\": \"Linear Learner\", \"Host\": \"algo-1\", \"Operation\": \"training\", \"epoch\": 1, \"model\": 9}, \"Metrics\": {\"train_absolute_loss_objective\": {\"sum\": 0.8613640022277832, \"count\": 1, \"min\": 0.8613640022277832, \"max\": 0.8613640022277832}}}\n",
      "\u001b[0m\n",
      "\u001b[34m#metrics {\"StartTime\": 1634916018.509049, \"EndTime\": 1634916018.5090597, \"Dimensions\": {\"Algorithm\": \"Linear Learner\", \"Host\": \"algo-1\", \"Operation\": \"training\", \"epoch\": 1, \"model\": 10}, \"Metrics\": {\"train_absolute_loss_objective\": {\"sum\": 0.8680469226837159, \"count\": 1, \"min\": 0.8680469226837159, \"max\": 0.8680469226837159}}}\n",
      "\u001b[0m\n",
      "\u001b[34m#metrics {\"StartTime\": 1634916018.5091057, \"EndTime\": 1634916018.5091174, \"Dimensions\": {\"Algorithm\": \"Linear Learner\", \"Host\": \"algo-1\", \"Operation\": \"training\", \"epoch\": 1, \"model\": 11}, \"Metrics\": {\"train_absolute_loss_objective\": {\"sum\": 0.8532690811157226, \"count\": 1, \"min\": 0.8532690811157226, \"max\": 0.8532690811157226}}}\n",
      "\u001b[0m\n",
      "\u001b[34m#metrics {\"StartTime\": 1634916018.5091646, \"EndTime\": 1634916018.5091763, \"Dimensions\": {\"Algorithm\": \"Linear Learner\", \"Host\": \"algo-1\", \"Operation\": \"training\", \"epoch\": 1, \"model\": 12}, \"Metrics\": {\"train_absolute_loss_objective\": {\"sum\": 0.7183646965026855, \"count\": 1, \"min\": 0.7183646965026855, \"max\": 0.7183646965026855}}}\n",
      "\u001b[0m\n",
      "\u001b[34m#metrics {\"StartTime\": 1634916018.5092232, \"EndTime\": 1634916018.5092347, \"Dimensions\": {\"Algorithm\": \"Linear Learner\", \"Host\": \"algo-1\", \"Operation\": \"training\", \"epoch\": 1, \"model\": 13}, \"Metrics\": {\"train_absolute_loss_objective\": {\"sum\": 0.6445896029472351, \"count\": 1, \"min\": 0.6445896029472351, \"max\": 0.6445896029472351}}}\n",
      "\u001b[0m\n",
      "\u001b[34m#metrics {\"StartTime\": 1634916018.5092816, \"EndTime\": 1634916018.509293, \"Dimensions\": {\"Algorithm\": \"Linear Learner\", \"Host\": \"algo-1\", \"Operation\": \"training\", \"epoch\": 1, \"model\": 14}, \"Metrics\": {\"train_absolute_loss_objective\": {\"sum\": 0.7181982707977295, \"count\": 1, \"min\": 0.7181982707977295, \"max\": 0.7181982707977295}}}\n",
      "\u001b[0m\n",
      "\u001b[34m#metrics {\"StartTime\": 1634916018.5093393, \"EndTime\": 1634916018.509351, \"Dimensions\": {\"Algorithm\": \"Linear Learner\", \"Host\": \"algo-1\", \"Operation\": \"training\", \"epoch\": 1, \"model\": 15}, \"Metrics\": {\"train_absolute_loss_objective\": {\"sum\": 0.6474338626861572, \"count\": 1, \"min\": 0.6474338626861572, \"max\": 0.6474338626861572}}}\n",
      "\u001b[0m\n",
      "\u001b[34m#metrics {\"StartTime\": 1634916018.509396, \"EndTime\": 1634916018.5094068, \"Dimensions\": {\"Algorithm\": \"Linear Learner\", \"Host\": \"algo-1\", \"Operation\": \"training\", \"epoch\": 1, \"model\": 16}, \"Metrics\": {\"train_absolute_loss_objective\": {\"sum\": 0.837399559020996, \"count\": 1, \"min\": 0.837399559020996, \"max\": 0.837399559020996}}}\n",
      "\u001b[0m\n",
      "\u001b[34m#metrics {\"StartTime\": 1634916018.509452, \"EndTime\": 1634916018.5094635, \"Dimensions\": {\"Algorithm\": \"Linear Learner\", \"Host\": \"algo-1\", \"Operation\": \"training\", \"epoch\": 1, \"model\": 17}, \"Metrics\": {\"train_absolute_loss_objective\": {\"sum\": 0.8885187911987305, \"count\": 1, \"min\": 0.8885187911987305, \"max\": 0.8885187911987305}}}\n",
      "\u001b[0m\n",
      "\u001b[34m#metrics {\"StartTime\": 1634916018.5095136, \"EndTime\": 1634916018.5095253, \"Dimensions\": {\"Algorithm\": \"Linear Learner\", \"Host\": \"algo-1\", \"Operation\": \"training\", \"epoch\": 1, \"model\": 18}, \"Metrics\": {\"train_absolute_loss_objective\": {\"sum\": 0.8643928909301758, \"count\": 1, \"min\": 0.8643928909301758, \"max\": 0.8643928909301758}}}\n",
      "\u001b[0m\n",
      "\u001b[34m#metrics {\"StartTime\": 1634916018.5095723, \"EndTime\": 1634916018.509584, \"Dimensions\": {\"Algorithm\": \"Linear Learner\", \"Host\": \"algo-1\", \"Operation\": \"training\", \"epoch\": 1, \"model\": 19}, \"Metrics\": {\"train_absolute_loss_objective\": {\"sum\": 0.8616980934143066, \"count\": 1, \"min\": 0.8616980934143066, \"max\": 0.8616980934143066}}}\n",
      "\u001b[0m\n",
      "\u001b[34m#metrics {\"StartTime\": 1634916018.5096295, \"EndTime\": 1634916018.5096402, \"Dimensions\": {\"Algorithm\": \"Linear Learner\", \"Host\": \"algo-1\", \"Operation\": \"training\", \"epoch\": 1, \"model\": 20}, \"Metrics\": {\"train_absolute_loss_objective\": {\"sum\": 0.6827669763565063, \"count\": 1, \"min\": 0.6827669763565063, \"max\": 0.6827669763565063}}}\n",
      "\u001b[0m\n",
      "\u001b[34m#metrics {\"StartTime\": 1634916018.5096836, \"EndTime\": 1634916018.509694, \"Dimensions\": {\"Algorithm\": \"Linear Learner\", \"Host\": \"algo-1\", \"Operation\": \"training\", \"epoch\": 1, \"model\": 21}, \"Metrics\": {\"train_absolute_loss_objective\": {\"sum\": 0.6469607019424438, \"count\": 1, \"min\": 0.6469607019424438, \"max\": 0.6469607019424438}}}\n",
      "\u001b[0m\n",
      "\u001b[34m#metrics {\"StartTime\": 1634916018.5097396, \"EndTime\": 1634916018.509751, \"Dimensions\": {\"Algorithm\": \"Linear Learner\", \"Host\": \"algo-1\", \"Operation\": \"training\", \"epoch\": 1, \"model\": 22}, \"Metrics\": {\"train_absolute_loss_objective\": {\"sum\": 0.7166551113128662, \"count\": 1, \"min\": 0.7166551113128662, \"max\": 0.7166551113128662}}}\n",
      "\u001b[0m\n",
      "\u001b[34m#metrics {\"StartTime\": 1634916018.5097919, \"EndTime\": 1634916018.5098045, \"Dimensions\": {\"Algorithm\": \"Linear Learner\", \"Host\": \"algo-1\", \"Operation\": \"training\", \"epoch\": 1, \"model\": 23}, \"Metrics\": {\"train_absolute_loss_objective\": {\"sum\": 0.612754979133606, \"count\": 1, \"min\": 0.612754979133606, \"max\": 0.612754979133606}}}\n",
      "\u001b[0m\n",
      "\u001b[34m#metrics {\"StartTime\": 1634916018.5098407, \"EndTime\": 1634916018.5098493, \"Dimensions\": {\"Algorithm\": \"Linear Learner\", \"Host\": \"algo-1\", \"Operation\": \"training\", \"epoch\": 1, \"model\": 24}, \"Metrics\": {\"train_absolute_loss_objective\": {\"sum\": 0.8812532901763916, \"count\": 1, \"min\": 0.8812532901763916, \"max\": 0.8812532901763916}}}\n",
      "\u001b[0m\n",
      "\u001b[34m#metrics {\"StartTime\": 1634916018.5098827, \"EndTime\": 1634916018.5098908, \"Dimensions\": {\"Algorithm\": \"Linear Learner\", \"Host\": \"algo-1\", \"Operation\": \"training\", \"epoch\": 1, \"model\": 25}, \"Metrics\": {\"train_absolute_loss_objective\": {\"sum\": 0.9080569458007812, \"count\": 1, \"min\": 0.9080569458007812, \"max\": 0.9080569458007812}}}\n",
      "\u001b[0m\n",
      "\u001b[34m#metrics {\"StartTime\": 1634916018.509924, \"EndTime\": 1634916018.509932, \"Dimensions\": {\"Algorithm\": \"Linear Learner\", \"Host\": \"algo-1\", \"Operation\": \"training\", \"epoch\": 1, \"model\": 26}, \"Metrics\": {\"train_absolute_loss_objective\": {\"sum\": 0.8974017906188965, \"count\": 1, \"min\": 0.8974017906188965, \"max\": 0.8974017906188965}}}\n",
      "\u001b[0m\n",
      "\u001b[34m#metrics {\"StartTime\": 1634916018.5099645, \"EndTime\": 1634916018.5099728, \"Dimensions\": {\"Algorithm\": \"Linear Learner\", \"Host\": \"algo-1\", \"Operation\": \"training\", \"epoch\": 1, \"model\": 27}, \"Metrics\": {\"train_absolute_loss_objective\": {\"sum\": 0.8967292404174805, \"count\": 1, \"min\": 0.8967292404174805, \"max\": 0.8967292404174805}}}\n",
      "\u001b[0m\n",
      "\u001b[34m#metrics {\"StartTime\": 1634916018.5100052, \"EndTime\": 1634916018.5100133, \"Dimensions\": {\"Algorithm\": \"Linear Learner\", \"Host\": \"algo-1\", \"Operation\": \"training\", \"epoch\": 1, \"model\": 28}, \"Metrics\": {\"train_absolute_loss_objective\": {\"sum\": 0.9747148609161377, \"count\": 1, \"min\": 0.9747148609161377, \"max\": 0.9747148609161377}}}\n",
      "\u001b[0m\n",
      "\u001b[34m#metrics {\"StartTime\": 1634916018.5100448, \"EndTime\": 1634916018.5100524, \"Dimensions\": {\"Algorithm\": \"Linear Learner\", \"Host\": \"algo-1\", \"Operation\": \"training\", \"epoch\": 1, \"model\": 29}, \"Metrics\": {\"train_absolute_loss_objective\": {\"sum\": 0.974008903503418, \"count\": 1, \"min\": 0.974008903503418, \"max\": 0.974008903503418}}}\n",
      "\u001b[0m\n",
      "\u001b[34m#metrics {\"StartTime\": 1634916018.510084, \"EndTime\": 1634916018.510092, \"Dimensions\": {\"Algorithm\": \"Linear Learner\", \"Host\": \"algo-1\", \"Operation\": \"training\", \"epoch\": 1, \"model\": 30}, \"Metrics\": {\"train_absolute_loss_objective\": {\"sum\": 1.0233741188049317, \"count\": 1, \"min\": 1.0233741188049317, \"max\": 1.0233741188049317}}}\n",
      "\u001b[0m\n",
      "\u001b[34m#metrics {\"StartTime\": 1634916018.5101247, \"EndTime\": 1634916018.510133, \"Dimensions\": {\"Algorithm\": \"Linear Learner\", \"Host\": \"algo-1\", \"Operation\": \"training\", \"epoch\": 1, \"model\": 31}, \"Metrics\": {\"train_absolute_loss_objective\": {\"sum\": 0.9665180015563964, \"count\": 1, \"min\": 0.9665180015563964, \"max\": 0.9665180015563964}}}\n",
      "\u001b[0m\n",
      "\u001b[34m[10/22/2021 15:20:18 INFO 139661101946688] #quality_metric: host=algo-1, epoch=1, train absolute_loss_objective <loss>=0.873364896774292\u001b[0m\n",
      "\u001b[34m[10/22/2021 15:20:18 INFO 139661101946688] #early_stopping_criteria_metric: host=algo-1, epoch=1, criteria=absolute_loss_objective, value=0.612754979133606\u001b[0m\n",
      "\u001b[34m[10/22/2021 15:20:18 INFO 139661101946688] Epoch 1: Loss improved. Updating best model\u001b[0m\n",
      "\u001b[34m[10/22/2021 15:20:18 INFO 139661101946688] Saving model for epoch: 1\u001b[0m\n",
      "\u001b[34m[10/22/2021 15:20:18 INFO 139661101946688] Saved checkpoint to \"/tmp/tmp6030vcwz/mx-mod-0000.params\"\u001b[0m\n",
      "\u001b[34m[10/22/2021 15:20:18 INFO 139661101946688] #progress_metric: host=algo-1, completed 40.0 % of epochs\u001b[0m\n",
      "\u001b[34m#metrics {\"StartTime\": 1634916018.381781, \"EndTime\": 1634916018.5209208, \"Dimensions\": {\"Algorithm\": \"Linear Learner\", \"Host\": \"algo-1\", \"Operation\": \"training\", \"epoch\": 1, \"Meta\": \"training_data_iter\"}, \"Metrics\": {\"Total Records Seen\": {\"sum\": 83.0, \"count\": 1, \"min\": 83, \"max\": 83}, \"Total Batches Seen\": {\"sum\": 19.0, \"count\": 1, \"min\": 19, \"max\": 19}, \"Max Records Seen Between Resets\": {\"sum\": 26.0, \"count\": 1, \"min\": 26, \"max\": 26}, \"Max Batches Seen Between Resets\": {\"sum\": 6.0, \"count\": 1, \"min\": 6, \"max\": 6}, \"Reset Count\": {\"sum\": 4.0, \"count\": 1, \"min\": 4, \"max\": 4}, \"Number of Records Since Last Reset\": {\"sum\": 26.0, \"count\": 1, \"min\": 26, \"max\": 26}, \"Number of Batches Since Last Reset\": {\"sum\": 6.0, \"count\": 1, \"min\": 6, \"max\": 6}}}\n",
      "\u001b[0m\n",
      "\u001b[34m[10/22/2021 15:20:18 INFO 139661101946688] #throughput_metric: host=algo-1, train throughput=186.6384343525103 records/second\u001b[0m\n",
      "\u001b[34m[2021-10-22 15:20:18.701] [tensorio] [info] epoch_stats={\"data_pipeline\": \"/opt/ml/input/data/train\", \"epoch\": 8, \"duration\": 180, \"num_examples\": 6, \"num_bytes\": 1248}\u001b[0m\n",
      "\u001b[34m#metrics {\"StartTime\": 1634916018.701952, \"EndTime\": 1634916018.7020779, \"Dimensions\": {\"Algorithm\": \"Linear Learner\", \"Host\": \"algo-1\", \"Operation\": \"training\", \"epoch\": 2, \"model\": 0}, \"Metrics\": {\"train_absolute_loss_objective\": {\"sum\": 0.8505103588104248, \"count\": 1, \"min\": 0.8505103588104248, \"max\": 0.8505103588104248}}}\n",
      "\u001b[0m\n",
      "\u001b[34m#metrics {\"StartTime\": 1634916018.702462, \"EndTime\": 1634916018.7024958, \"Dimensions\": {\"Algorithm\": \"Linear Learner\", \"Host\": \"algo-1\", \"Operation\": \"training\", \"epoch\": 2, \"model\": 1}, \"Metrics\": {\"train_absolute_loss_objective\": {\"sum\": 0.8702970504760742, \"count\": 1, \"min\": 0.8702970504760742, \"max\": 0.8702970504760742}}}\n",
      "\u001b[0m\n",
      "\u001b[34m#metrics {\"StartTime\": 1634916018.70282, \"EndTime\": 1634916018.702851, \"Dimensions\": {\"Algorithm\": \"Linear Learner\", \"Host\": \"algo-1\", \"Operation\": \"training\", \"epoch\": 2, \"model\": 2}, \"Metrics\": {\"train_absolute_loss_objective\": {\"sum\": 0.8529163074493408, \"count\": 1, \"min\": 0.8529163074493408, \"max\": 0.8529163074493408}}}\n",
      "\u001b[0m\n",
      "\u001b[34m#metrics {\"StartTime\": 1634916018.7031667, \"EndTime\": 1634916018.7031972, \"Dimensions\": {\"Algorithm\": \"Linear Learner\", \"Host\": \"algo-1\", \"Operation\": \"training\", \"epoch\": 2, \"model\": 3}, \"Metrics\": {\"train_absolute_loss_objective\": {\"sum\": 0.8692820358276367, \"count\": 1, \"min\": 0.8692820358276367, \"max\": 0.8692820358276367}}}\n",
      "\u001b[0m\n",
      "\u001b[34m#metrics {\"StartTime\": 1634916018.7035167, \"EndTime\": 1634916018.7035472, \"Dimensions\": {\"Algorithm\": \"Linear Learner\", \"Host\": \"algo-1\", \"Operation\": \"training\", \"epoch\": 2, \"model\": 4}, \"Metrics\": {\"train_absolute_loss_objective\": {\"sum\": 0.39476617813110354, \"count\": 1, \"min\": 0.39476617813110354, \"max\": 0.39476617813110354}}}\n",
      "\u001b[0m\n",
      "\u001b[34m#metrics {\"StartTime\": 1634916018.7039485, \"EndTime\": 1634916018.703979, \"Dimensions\": {\"Algorithm\": \"Linear Learner\", \"Host\": \"algo-1\", \"Operation\": \"training\", \"epoch\": 2, \"model\": 5}, \"Metrics\": {\"train_absolute_loss_objective\": {\"sum\": 0.39208423376083373, \"count\": 1, \"min\": 0.39208423376083373, \"max\": 0.39208423376083373}}}\n",
      "\u001b[0m\n",
      "\u001b[34m#metrics {\"StartTime\": 1634916018.7042987, \"EndTime\": 1634916018.7043288, \"Dimensions\": {\"Algorithm\": \"Linear Learner\", \"Host\": \"algo-1\", \"Operation\": \"training\", \"epoch\": 2, \"model\": 6}, \"Metrics\": {\"train_absolute_loss_objective\": {\"sum\": 0.28768047332763674, \"count\": 1, \"min\": 0.28768047332763674, \"max\": 0.28768047332763674}}}\n",
      "\u001b[0m\n",
      "\u001b[34m#metrics {\"StartTime\": 1634916018.7046459, \"EndTime\": 1634916018.7046764, \"Dimensions\": {\"Algorithm\": \"Linear Learner\", \"Host\": \"algo-1\", \"Operation\": \"training\", \"epoch\": 2, \"model\": 7}, \"Metrics\": {\"train_absolute_loss_objective\": {\"sum\": 0.3495473289489746, \"count\": 1, \"min\": 0.3495473289489746, \"max\": 0.3495473289489746}}}\n",
      "\u001b[0m\n",
      "\u001b[34m#metrics {\"StartTime\": 1634916018.7050102, \"EndTime\": 1634916018.7050405, \"Dimensions\": {\"Algorithm\": \"Linear Learner\", \"Host\": \"algo-1\", \"Operation\": \"training\", \"epoch\": 2, \"model\": 8}, \"Metrics\": {\"train_absolute_loss_objective\": {\"sum\": 0.9062777996063233, \"count\": 1, \"min\": 0.9062777996063233, \"max\": 0.9062777996063233}}}\n",
      "\u001b[0m\n",
      "\u001b[34m#metrics {\"StartTime\": 1634916018.705371, \"EndTime\": 1634916018.7054014, \"Dimensions\": {\"Algorithm\": \"Linear Learner\", \"Host\": \"algo-1\", \"Operation\": \"training\", \"epoch\": 2, \"model\": 9}, \"Metrics\": {\"train_absolute_loss_objective\": {\"sum\": 0.8384359359741211, \"count\": 1, \"min\": 0.8384359359741211, \"max\": 0.8384359359741211}}}\n",
      "\u001b[0m\n",
      "\u001b[34m#metrics {\"StartTime\": 1634916018.7057238, \"EndTime\": 1634916018.7057536, \"Dimensions\": {\"Algorithm\": \"Linear Learner\", \"Host\": \"algo-1\", \"Operation\": \"training\", \"epoch\": 2, \"model\": 10}, \"Metrics\": {\"train_absolute_loss_objective\": {\"sum\": 0.8451937007904052, \"count\": 1, \"min\": 0.8451937007904052, \"max\": 0.8451937007904052}}}\n",
      "\u001b[0m\n",
      "\u001b[34m#metrics {\"StartTime\": 1634916018.7060807, \"EndTime\": 1634916018.706111, \"Dimensions\": {\"Algorithm\": \"Linear Learner\", \"Host\": \"algo-1\", \"Operation\": \"training\", \"epoch\": 2, \"model\": 11}, \"Metrics\": {\"train_absolute_loss_objective\": {\"sum\": 0.8303410625457763, \"count\": 1, \"min\": 0.8303410625457763, \"max\": 0.8303410625457763}}}\n",
      "\u001b[0m\n",
      "\u001b[34m#metrics {\"StartTime\": 1634916018.7064395, \"EndTime\": 1634916018.706468, \"Dimensions\": {\"Algorithm\": \"Linear Learner\", \"Host\": \"algo-1\", \"Operation\": \"training\", \"epoch\": 2, \"model\": 12}, \"Metrics\": {\"train_absolute_loss_objective\": {\"sum\": 0.39211828231811524, \"count\": 1, \"min\": 0.39211828231811524, \"max\": 0.39211828231811524}}}\n",
      "\u001b[0m\n",
      "\u001b[34m#metrics {\"StartTime\": 1634916018.7068055, \"EndTime\": 1634916018.7068336, \"Dimensions\": {\"Algorithm\": \"Linear Learner\", \"Host\": \"algo-1\", \"Operation\": \"training\", \"epoch\": 2, \"model\": 13}, \"Metrics\": {\"train_absolute_loss_objective\": {\"sum\": 0.3616846680641174, \"count\": 1, \"min\": 0.3616846680641174, \"max\": 0.3616846680641174}}}\n",
      "\u001b[0m\n",
      "\u001b[34m#metrics {\"StartTime\": 1634916018.7070577, \"EndTime\": 1634916018.707086, \"Dimensions\": {\"Algorithm\": \"Linear Learner\", \"Host\": \"algo-1\", \"Operation\": \"training\", \"epoch\": 2, \"model\": 14}, \"Metrics\": {\"train_absolute_loss_objective\": {\"sum\": 0.39242895841598513, \"count\": 1, \"min\": 0.39242895841598513, \"max\": 0.39242895841598513}}}\n",
      "\u001b[0m\n",
      "\u001b[34m#metrics {\"StartTime\": 1634916018.707152, \"EndTime\": 1634916018.7071714, \"Dimensions\": {\"Algorithm\": \"Linear Learner\", \"Host\": \"algo-1\", \"Operation\": \"training\", \"epoch\": 2, \"model\": 15}, \"Metrics\": {\"train_absolute_loss_objective\": {\"sum\": 0.3588073778152466, \"count\": 1, \"min\": 0.3588073778152466, \"max\": 0.3588073778152466}}}\n",
      "\u001b[0m\n",
      "\u001b[34m#metrics {\"StartTime\": 1634916018.707234, \"EndTime\": 1634916018.7072525, \"Dimensions\": {\"Algorithm\": \"Linear Learner\", \"Host\": \"algo-1\", \"Operation\": \"training\", \"epoch\": 2, \"model\": 16}, \"Metrics\": {\"train_absolute_loss_objective\": {\"sum\": 0.8147201538085938, \"count\": 1, \"min\": 0.8147201538085938, \"max\": 0.8147201538085938}}}\n",
      "\u001b[0m\n",
      "\u001b[34m#metrics {\"StartTime\": 1634916018.707307, \"EndTime\": 1634916018.7073243, \"Dimensions\": {\"Algorithm\": \"Linear Learner\", \"Host\": \"algo-1\", \"Operation\": \"training\", \"epoch\": 2, \"model\": 17}, \"Metrics\": {\"train_absolute_loss_objective\": {\"sum\": 0.8657115650177002, \"count\": 1, \"min\": 0.8657115650177002, \"max\": 0.8657115650177002}}}\n",
      "\u001b[0m\n",
      "\u001b[34m#metrics {\"StartTime\": 1634916018.7073753, \"EndTime\": 1634916018.7073917, \"Dimensions\": {\"Algorithm\": \"Linear Learner\", \"Host\": \"algo-1\", \"Operation\": \"training\", \"epoch\": 2, \"model\": 18}, \"Metrics\": {\"train_absolute_loss_objective\": {\"sum\": 0.8416840076446533, \"count\": 1, \"min\": 0.8416840076446533, \"max\": 0.8416840076446533}}}\n",
      "\u001b[0m\n",
      "\u001b[34m#metrics {\"StartTime\": 1634916018.7074432, \"EndTime\": 1634916018.7074597, \"Dimensions\": {\"Algorithm\": \"Linear Learner\", \"Host\": \"algo-1\", \"Operation\": \"training\", \"epoch\": 2, \"model\": 19}, \"Metrics\": {\"train_absolute_loss_objective\": {\"sum\": 0.838917818069458, \"count\": 1, \"min\": 0.838917818069458, \"max\": 0.838917818069458}}}\n",
      "\u001b[0m\n",
      "\u001b[34m#metrics {\"StartTime\": 1634916018.7075145, \"EndTime\": 1634916018.7075317, \"Dimensions\": {\"Algorithm\": \"Linear Learner\", \"Host\": \"algo-1\", \"Operation\": \"training\", \"epoch\": 2, \"model\": 20}, \"Metrics\": {\"train_absolute_loss_objective\": {\"sum\": 0.3316535472869873, \"count\": 1, \"min\": 0.3316535472869873, \"max\": 0.3316535472869873}}}\n",
      "\u001b[0m\n",
      "\u001b[34m#metrics {\"StartTime\": 1634916018.7075872, \"EndTime\": 1634916018.7076044, \"Dimensions\": {\"Algorithm\": \"Linear Learner\", \"Host\": \"algo-1\", \"Operation\": \"training\", \"epoch\": 2, \"model\": 21}, \"Metrics\": {\"train_absolute_loss_objective\": {\"sum\": 0.3528084182739258, \"count\": 1, \"min\": 0.3528084182739258, \"max\": 0.3528084182739258}}}\n",
      "\u001b[0m\n",
      "\u001b[34m#metrics {\"StartTime\": 1634916018.7076566, \"EndTime\": 1634916018.7076733, \"Dimensions\": {\"Algorithm\": \"Linear Learner\", \"Host\": \"algo-1\", \"Operation\": \"training\", \"epoch\": 2, \"model\": 22}, \"Metrics\": {\"train_absolute_loss_objective\": {\"sum\": 0.5575274419784546, \"count\": 1, \"min\": 0.5575274419784546, \"max\": 0.5575274419784546}}}\n",
      "\u001b[0m\n",
      "\u001b[34m#metrics {\"StartTime\": 1634916018.7077248, \"EndTime\": 1634916018.7077417, \"Dimensions\": {\"Algorithm\": \"Linear Learner\", \"Host\": \"algo-1\", \"Operation\": \"training\", \"epoch\": 2, \"model\": 23}, \"Metrics\": {\"train_absolute_loss_objective\": {\"sum\": 0.2686766028404236, \"count\": 1, \"min\": 0.2686766028404236, \"max\": 0.2686766028404236}}}\n",
      "\u001b[0m\n",
      "\u001b[34m#metrics {\"StartTime\": 1634916018.7077942, \"EndTime\": 1634916018.7078114, \"Dimensions\": {\"Algorithm\": \"Linear Learner\", \"Host\": \"algo-1\", \"Operation\": \"training\", \"epoch\": 2, \"model\": 24}, \"Metrics\": {\"train_absolute_loss_objective\": {\"sum\": 0.8970227909088134, \"count\": 1, \"min\": 0.8970227909088134, \"max\": 0.8970227909088134}}}\n",
      "\u001b[0m\n",
      "\u001b[34m#metrics {\"StartTime\": 1634916018.7078676, \"EndTime\": 1634916018.7078848, \"Dimensions\": {\"Algorithm\": \"Linear Learner\", \"Host\": \"algo-1\", \"Operation\": \"training\", \"epoch\": 2, \"model\": 25}, \"Metrics\": {\"train_absolute_loss_objective\": {\"sum\": 0.8924738788604736, \"count\": 1, \"min\": 0.8924738788604736, \"max\": 0.8924738788604736}}}\n",
      "\u001b[0m\n",
      "\u001b[34m#metrics {\"StartTime\": 1634916018.7079368, \"EndTime\": 1634916018.7079535, \"Dimensions\": {\"Algorithm\": \"Linear Learner\", \"Host\": \"algo-1\", \"Operation\": \"training\", \"epoch\": 2, \"model\": 26}, \"Metrics\": {\"train_absolute_loss_objective\": {\"sum\": 0.8912821674346924, \"count\": 1, \"min\": 0.8912821674346924, \"max\": 0.8912821674346924}}}\n",
      "\u001b[0m\n",
      "\u001b[34m#metrics {\"StartTime\": 1634916018.7080064, \"EndTime\": 1634916018.7080226, \"Dimensions\": {\"Algorithm\": \"Linear Learner\", \"Host\": \"algo-1\", \"Operation\": \"training\", \"epoch\": 2, \"model\": 27}, \"Metrics\": {\"train_absolute_loss_objective\": {\"sum\": 0.9008549880981446, \"count\": 1, \"min\": 0.9008549880981446, \"max\": 0.9008549880981446}}}\n",
      "\u001b[0m\n",
      "\u001b[34m#metrics {\"StartTime\": 1634916018.7080753, \"EndTime\": 1634916018.7080915, \"Dimensions\": {\"Algorithm\": \"Linear Learner\", \"Host\": \"algo-1\", \"Operation\": \"training\", \"epoch\": 2, \"model\": 28}, \"Metrics\": {\"train_absolute_loss_objective\": {\"sum\": 1.112950506210327, \"count\": 1, \"min\": 1.112950506210327, \"max\": 1.112950506210327}}}\n",
      "\u001b[0m\n",
      "\u001b[34m#metrics {\"StartTime\": 1634916018.7081435, \"EndTime\": 1634916018.70816, \"Dimensions\": {\"Algorithm\": \"Linear Learner\", \"Host\": \"algo-1\", \"Operation\": \"training\", \"epoch\": 2, \"model\": 29}, \"Metrics\": {\"train_absolute_loss_objective\": {\"sum\": 1.1118891048431396, \"count\": 1, \"min\": 1.1118891048431396, \"max\": 1.1118891048431396}}}\n",
      "\u001b[0m\n",
      "\u001b[34m#metrics {\"StartTime\": 1634916018.7082112, \"EndTime\": 1634916018.708227, \"Dimensions\": {\"Algorithm\": \"Linear Learner\", \"Host\": \"algo-1\", \"Operation\": \"training\", \"epoch\": 2, \"model\": 30}, \"Metrics\": {\"train_absolute_loss_objective\": {\"sum\": 1.0306361770629884, \"count\": 1, \"min\": 1.0306361770629884, \"max\": 1.0306361770629884}}}\n",
      "\u001b[0m\n",
      "\u001b[34m#metrics {\"StartTime\": 1634916018.7082818, \"EndTime\": 1634916018.7083006, \"Dimensions\": {\"Algorithm\": \"Linear Learner\", \"Host\": \"algo-1\", \"Operation\": \"training\", \"epoch\": 2, \"model\": 31}, \"Metrics\": {\"train_absolute_loss_objective\": {\"sum\": 1.1201232719421386, \"count\": 1, \"min\": 1.1201232719421386, \"max\": 1.1201232719421386}}}\n",
      "\u001b[0m\n",
      "\u001b[34m[10/22/2021 15:20:18 INFO 139661101946688] #quality_metric: host=algo-1, epoch=2, train absolute_loss_objective <loss>=0.8505103588104248\u001b[0m\n",
      "\u001b[34m[10/22/2021 15:20:18 INFO 139661101946688] #early_stopping_criteria_metric: host=algo-1, epoch=2, criteria=absolute_loss_objective, value=0.2686766028404236\u001b[0m\n",
      "\u001b[34m[10/22/2021 15:20:18 INFO 139661101946688] Epoch 2: Loss improved. Updating best model\u001b[0m\n",
      "\u001b[34m[10/22/2021 15:20:18 INFO 139661101946688] Saving model for epoch: 2\u001b[0m\n",
      "\u001b[34m[10/22/2021 15:20:18 INFO 139661101946688] Saved checkpoint to \"/tmp/tmpasgqk1hw/mx-mod-0000.params\"\u001b[0m\n",
      "\u001b[34m[10/22/2021 15:20:18 INFO 139661101946688] #progress_metric: host=algo-1, completed 60.0 % of epochs\u001b[0m\n",
      "\u001b[34m#metrics {\"StartTime\": 1634916018.5212739, \"EndTime\": 1634916018.7252412, \"Dimensions\": {\"Algorithm\": \"Linear Learner\", \"Host\": \"algo-1\", \"Operation\": \"training\", \"epoch\": 2, \"Meta\": \"training_data_iter\"}, \"Metrics\": {\"Total Records Seen\": {\"sum\": 109.0, \"count\": 1, \"min\": 109, \"max\": 109}, \"Total Batches Seen\": {\"sum\": 25.0, \"count\": 1, \"min\": 25, \"max\": 25}, \"Max Records Seen Between Resets\": {\"sum\": 26.0, \"count\": 1, \"min\": 26, \"max\": 26}, \"Max Batches Seen Between Resets\": {\"sum\": 6.0, \"count\": 1, \"min\": 6, \"max\": 6}, \"Reset Count\": {\"sum\": 5.0, \"count\": 1, \"min\": 5, \"max\": 5}, \"Number of Records Since Last Reset\": {\"sum\": 26.0, \"count\": 1, \"min\": 26, \"max\": 26}, \"Number of Batches Since Last Reset\": {\"sum\": 6.0, \"count\": 1, \"min\": 6, \"max\": 6}}}\n",
      "\u001b[0m\n",
      "\u001b[34m[10/22/2021 15:20:18 INFO 139661101946688] #throughput_metric: host=algo-1, train throughput=127.37238339294015 records/second\u001b[0m\n",
      "\u001b[34m[2021-10-22 15:20:18.849] [tensorio] [info] epoch_stats={\"data_pipeline\": \"/opt/ml/input/data/train\", \"epoch\": 10, \"duration\": 124, \"num_examples\": 6, \"num_bytes\": 1248}\u001b[0m\n",
      "\u001b[34m#metrics {\"StartTime\": 1634916018.8500235, \"EndTime\": 1634916018.850114, \"Dimensions\": {\"Algorithm\": \"Linear Learner\", \"Host\": \"algo-1\", \"Operation\": \"training\", \"epoch\": 3, \"model\": 0}, \"Metrics\": {\"train_absolute_loss_objective\": {\"sum\": 0.8283058643341065, \"count\": 1, \"min\": 0.8283058643341065, \"max\": 0.8283058643341065}}}\n",
      "\u001b[0m\n",
      "\u001b[34m#metrics {\"StartTime\": 1634916018.8501916, \"EndTime\": 1634916018.8502107, \"Dimensions\": {\"Algorithm\": \"Linear Learner\", \"Host\": \"algo-1\", \"Operation\": \"training\", \"epoch\": 3, \"model\": 1}, \"Metrics\": {\"train_absolute_loss_objective\": {\"sum\": 0.8478682899475097, \"count\": 1, \"min\": 0.8478682899475097, \"max\": 0.8478682899475097}}}\n",
      "\u001b[0m\n",
      "\u001b[34m#metrics {\"StartTime\": 1634916018.850265, \"EndTime\": 1634916018.8502822, \"Dimensions\": {\"Algorithm\": \"Linear Learner\", \"Host\": \"algo-1\", \"Operation\": \"training\", \"epoch\": 3, \"model\": 2}, \"Metrics\": {\"train_absolute_loss_objective\": {\"sum\": 0.8307118320465088, \"count\": 1, \"min\": 0.8307118320465088, \"max\": 0.8307118320465088}}}\n",
      "\u001b[0m\n",
      "\u001b[34m#metrics {\"StartTime\": 1634916018.8503346, \"EndTime\": 1634916018.8503504, \"Dimensions\": {\"Algorithm\": \"Linear Learner\", \"Host\": \"algo-1\", \"Operation\": \"training\", \"epoch\": 3, \"model\": 3}, \"Metrics\": {\"train_absolute_loss_objective\": {\"sum\": 0.8468532752990723, \"count\": 1, \"min\": 0.8468532752990723, \"max\": 0.8468532752990723}}}\n",
      "\u001b[0m\n",
      "\u001b[34m#metrics {\"StartTime\": 1634916018.8503985, \"EndTime\": 1634916018.8504138, \"Dimensions\": {\"Algorithm\": \"Linear Learner\", \"Host\": \"algo-1\", \"Operation\": \"training\", \"epoch\": 3, \"model\": 4}, \"Metrics\": {\"train_absolute_loss_objective\": {\"sum\": 0.4469312572479248, \"count\": 1, \"min\": 0.4469312572479248, \"max\": 0.4469312572479248}}}\n",
      "\u001b[0m\n",
      "\u001b[34m#metrics {\"StartTime\": 1634916018.8504663, \"EndTime\": 1634916018.8504827, \"Dimensions\": {\"Algorithm\": \"Linear Learner\", \"Host\": \"algo-1\", \"Operation\": \"training\", \"epoch\": 3, \"model\": 5}, \"Metrics\": {\"train_absolute_loss_objective\": {\"sum\": 0.4537254095077515, \"count\": 1, \"min\": 0.4537254095077515, \"max\": 0.4537254095077515}}}\n",
      "\u001b[0m\n",
      "\u001b[34m#metrics {\"StartTime\": 1634916018.850535, \"EndTime\": 1634916018.8505495, \"Dimensions\": {\"Algorithm\": \"Linear Learner\", \"Host\": \"algo-1\", \"Operation\": \"training\", \"epoch\": 3, \"model\": 6}, \"Metrics\": {\"train_absolute_loss_objective\": {\"sum\": 0.38780061721801756, \"count\": 1, \"min\": 0.38780061721801756, \"max\": 0.38780061721801756}}}\n",
      "\u001b[0m\n",
      "\u001b[34m#metrics {\"StartTime\": 1634916018.8506143, \"EndTime\": 1634916018.850632, \"Dimensions\": {\"Algorithm\": \"Linear Learner\", \"Host\": \"algo-1\", \"Operation\": \"training\", \"epoch\": 3, \"model\": 7}, \"Metrics\": {\"train_absolute_loss_objective\": {\"sum\": 0.4069590377807617, \"count\": 1, \"min\": 0.4069590377807617, \"max\": 0.4069590377807617}}}\n",
      "\u001b[0m\n",
      "\u001b[34m#metrics {\"StartTime\": 1634916018.8506863, \"EndTime\": 1634916018.8507018, \"Dimensions\": {\"Algorithm\": \"Linear Learner\", \"Host\": \"algo-1\", \"Operation\": \"training\", \"epoch\": 3, \"model\": 8}, \"Metrics\": {\"train_absolute_loss_objective\": {\"sum\": 0.8840754222869873, \"count\": 1, \"min\": 0.8840754222869873, \"max\": 0.8840754222869873}}}\n",
      "\u001b[0m\n",
      "\u001b[34m#metrics {\"StartTime\": 1634916018.8507552, \"EndTime\": 1634916018.8507717, \"Dimensions\": {\"Algorithm\": \"Linear Learner\", \"Host\": \"algo-1\", \"Operation\": \"training\", \"epoch\": 3, \"model\": 9}, \"Metrics\": {\"train_absolute_loss_objective\": {\"sum\": 0.8160098552703857, \"count\": 1, \"min\": 0.8160098552703857, \"max\": 0.8160098552703857}}}\n",
      "\u001b[0m\n",
      "\u001b[34m#metrics {\"StartTime\": 1634916018.850826, \"EndTime\": 1634916018.8508427, \"Dimensions\": {\"Algorithm\": \"Linear Learner\", \"Host\": \"algo-1\", \"Operation\": \"training\", \"epoch\": 3, \"model\": 10}, \"Metrics\": {\"train_absolute_loss_objective\": {\"sum\": 0.8229918193817138, \"count\": 1, \"min\": 0.8229918193817138, \"max\": 0.8229918193817138}}}\n",
      "\u001b[0m\n",
      "\u001b[34m#metrics {\"StartTime\": 1634916018.850895, \"EndTime\": 1634916018.8509119, \"Dimensions\": {\"Algorithm\": \"Linear Learner\", \"Host\": \"algo-1\", \"Operation\": \"training\", \"epoch\": 3, \"model\": 11}, \"Metrics\": {\"train_absolute_loss_objective\": {\"sum\": 0.8079150199890137, \"count\": 1, \"min\": 0.8079150199890137, \"max\": 0.8079150199890137}}}\n",
      "\u001b[0m\n",
      "\u001b[34m#metrics {\"StartTime\": 1634916018.850965, \"EndTime\": 1634916018.8509805, \"Dimensions\": {\"Algorithm\": \"Linear Learner\", \"Host\": \"algo-1\", \"Operation\": \"training\", \"epoch\": 3, \"model\": 12}, \"Metrics\": {\"train_absolute_loss_objective\": {\"sum\": 0.443151535987854, \"count\": 1, \"min\": 0.443151535987854, \"max\": 0.443151535987854}}}\n",
      "\u001b[0m\n",
      "\u001b[34m#metrics {\"StartTime\": 1634916018.8510325, \"EndTime\": 1634916018.8510487, \"Dimensions\": {\"Algorithm\": \"Linear Learner\", \"Host\": \"algo-1\", \"Operation\": \"training\", \"epoch\": 3, \"model\": 13}, \"Metrics\": {\"train_absolute_loss_objective\": {\"sum\": 0.40983890056610106, \"count\": 1, \"min\": 0.40983890056610106, \"max\": 0.40983890056610106}}}\n",
      "\u001b[0m\n",
      "\u001b[34m#metrics {\"StartTime\": 1634916018.8511014, \"EndTime\": 1634916018.8511171, \"Dimensions\": {\"Algorithm\": \"Linear Learner\", \"Host\": \"algo-1\", \"Operation\": \"training\", \"epoch\": 3, \"model\": 14}, \"Metrics\": {\"train_absolute_loss_objective\": {\"sum\": 0.4433863353729248, \"count\": 1, \"min\": 0.4433863353729248, \"max\": 0.4433863353729248}}}\n",
      "\u001b[0m\n",
      "\u001b[34m#metrics {\"StartTime\": 1634916018.8511689, \"EndTime\": 1634916018.851185, \"Dimensions\": {\"Algorithm\": \"Linear Learner\", \"Host\": \"algo-1\", \"Operation\": \"training\", \"epoch\": 3, \"model\": 15}, \"Metrics\": {\"train_absolute_loss_objective\": {\"sum\": 0.4087698078155518, \"count\": 1, \"min\": 0.4087698078155518, \"max\": 0.4087698078155518}}}\n",
      "\u001b[0m\n",
      "\u001b[34m#metrics {\"StartTime\": 1634916018.851237, \"EndTime\": 1634916018.8512528, \"Dimensions\": {\"Algorithm\": \"Linear Learner\", \"Host\": \"algo-1\", \"Operation\": \"training\", \"epoch\": 3, \"model\": 16}, \"Metrics\": {\"train_absolute_loss_objective\": {\"sum\": 0.7928377056121826, \"count\": 1, \"min\": 0.7928377056121826, \"max\": 0.7928377056121826}}}\n",
      "\u001b[0m\n",
      "\u001b[34m#metrics {\"StartTime\": 1634916018.8513045, \"EndTime\": 1634916018.8513207, \"Dimensions\": {\"Algorithm\": \"Linear Learner\", \"Host\": \"algo-1\", \"Operation\": \"training\", \"epoch\": 3, \"model\": 17}, \"Metrics\": {\"train_absolute_loss_objective\": {\"sum\": 0.8435438728332519, \"count\": 1, \"min\": 0.8435438728332519, \"max\": 0.8435438728332519}}}\n",
      "\u001b[0m\n",
      "\u001b[34m#metrics {\"StartTime\": 1634916018.8513722, \"EndTime\": 1634916018.8513875, \"Dimensions\": {\"Algorithm\": \"Linear Learner\", \"Host\": \"algo-1\", \"Operation\": \"training\", \"epoch\": 3, \"model\": 18}, \"Metrics\": {\"train_absolute_loss_objective\": {\"sum\": 0.8197661304473877, \"count\": 1, \"min\": 0.8197661304473877, \"max\": 0.8197661304473877}}}\n",
      "\u001b[0m\n",
      "\u001b[34m#metrics {\"StartTime\": 1634916018.851452, \"EndTime\": 1634916018.8514695, \"Dimensions\": {\"Algorithm\": \"Linear Learner\", \"Host\": \"algo-1\", \"Operation\": \"training\", \"epoch\": 3, \"model\": 19}, \"Metrics\": {\"train_absolute_loss_objective\": {\"sum\": 0.8167827320098877, \"count\": 1, \"min\": 0.8167827320098877, \"max\": 0.8167827320098877}}}\n",
      "\u001b[0m\n",
      "\u001b[34m#metrics {\"StartTime\": 1634916018.8515222, \"EndTime\": 1634916018.8515387, \"Dimensions\": {\"Algorithm\": \"Linear Learner\", \"Host\": \"algo-1\", \"Operation\": \"training\", \"epoch\": 3, \"model\": 20}, \"Metrics\": {\"train_absolute_loss_objective\": {\"sum\": 0.5118527317047119, \"count\": 1, \"min\": 0.5118527317047119, \"max\": 0.5118527317047119}}}\n",
      "\u001b[0m\n",
      "\u001b[34m#metrics {\"StartTime\": 1634916018.8515923, \"EndTime\": 1634916018.851608, \"Dimensions\": {\"Algorithm\": \"Linear Learner\", \"Host\": \"algo-1\", \"Operation\": \"training\", \"epoch\": 3, \"model\": 21}, \"Metrics\": {\"train_absolute_loss_objective\": {\"sum\": 0.37395387411117553, \"count\": 1, \"min\": 0.37395387411117553, \"max\": 0.37395387411117553}}}\n",
      "\u001b[0m\n",
      "\u001b[34m#metrics {\"StartTime\": 1634916018.851662, \"EndTime\": 1634916018.8516781, \"Dimensions\": {\"Algorithm\": \"Linear Learner\", \"Host\": \"algo-1\", \"Operation\": \"training\", \"epoch\": 3, \"model\": 22}, \"Metrics\": {\"train_absolute_loss_objective\": {\"sum\": 0.418728346824646, \"count\": 1, \"min\": 0.418728346824646, \"max\": 0.418728346824646}}}\n",
      "\u001b[0m\n",
      "\u001b[34m#metrics {\"StartTime\": 1634916018.85173, \"EndTime\": 1634916018.8517466, \"Dimensions\": {\"Algorithm\": \"Linear Learner\", \"Host\": \"algo-1\", \"Operation\": \"training\", \"epoch\": 3, \"model\": 23}, \"Metrics\": {\"train_absolute_loss_objective\": {\"sum\": 0.2898751854896545, \"count\": 1, \"min\": 0.2898751854896545, \"max\": 0.2898751854896545}}}\n",
      "\u001b[0m\n",
      "\u001b[34m#metrics {\"StartTime\": 1634916018.8517995, \"EndTime\": 1634916018.8518155, \"Dimensions\": {\"Algorithm\": \"Linear Learner\", \"Host\": \"algo-1\", \"Operation\": \"training\", \"epoch\": 3, \"model\": 24}, \"Metrics\": {\"train_absolute_loss_objective\": {\"sum\": 0.9068149471282959, \"count\": 1, \"min\": 0.9068149471282959, \"max\": 0.9068149471282959}}}\n",
      "\u001b[0m\n",
      "\u001b[34m#metrics {\"StartTime\": 1634916018.8518713, \"EndTime\": 1634916018.8518884, \"Dimensions\": {\"Algorithm\": \"Linear Learner\", \"Host\": \"algo-1\", \"Operation\": \"training\", \"epoch\": 3, \"model\": 25}, \"Metrics\": {\"train_absolute_loss_objective\": {\"sum\": 0.8875530242919922, \"count\": 1, \"min\": 0.8875530242919922, \"max\": 0.8875530242919922}}}\n",
      "\u001b[0m\n",
      "\u001b[34m#metrics {\"StartTime\": 1634916018.8519452, \"EndTime\": 1634916018.8519626, \"Dimensions\": {\"Algorithm\": \"Linear Learner\", \"Host\": \"algo-1\", \"Operation\": \"training\", \"epoch\": 3, \"model\": 26}, \"Metrics\": {\"train_absolute_loss_objective\": {\"sum\": 0.8958088302612305, \"count\": 1, \"min\": 0.8958088302612305, \"max\": 0.8958088302612305}}}\n",
      "\u001b[0m\n",
      "\u001b[34m#metrics {\"StartTime\": 1634916018.852025, \"EndTime\": 1634916018.8520424, \"Dimensions\": {\"Algorithm\": \"Linear Learner\", \"Host\": \"algo-1\", \"Operation\": \"training\", \"epoch\": 3, \"model\": 27}, \"Metrics\": {\"train_absolute_loss_objective\": {\"sum\": 0.9002553176879883, \"count\": 1, \"min\": 0.9002553176879883, \"max\": 0.9002553176879883}}}\n",
      "\u001b[0m\n",
      "\u001b[34m#metrics {\"StartTime\": 1634916018.8521063, \"EndTime\": 1634916018.8521237, \"Dimensions\": {\"Algorithm\": \"Linear Learner\", \"Host\": \"algo-1\", \"Operation\": \"training\", \"epoch\": 3, \"model\": 28}, \"Metrics\": {\"train_absolute_loss_objective\": {\"sum\": 1.305516414642334, \"count\": 1, \"min\": 1.305516414642334, \"max\": 1.305516414642334}}}\n",
      "\u001b[0m\n",
      "\u001b[34m#metrics {\"StartTime\": 1634916018.8521757, \"EndTime\": 1634916018.8521929, \"Dimensions\": {\"Algorithm\": \"Linear Learner\", \"Host\": \"algo-1\", \"Operation\": \"training\", \"epoch\": 3, \"model\": 29}, \"Metrics\": {\"train_absolute_loss_objective\": {\"sum\": 1.3161330032348633, \"count\": 1, \"min\": 1.3161330032348633, \"max\": 1.3161330032348633}}}\n",
      "\u001b[0m\n",
      "\u001b[34m#metrics {\"StartTime\": 1634916018.852242, \"EndTime\": 1634916018.8522565, \"Dimensions\": {\"Algorithm\": \"Linear Learner\", \"Host\": \"algo-1\", \"Operation\": \"training\", \"epoch\": 3, \"model\": 30}, \"Metrics\": {\"train_absolute_loss_objective\": {\"sum\": 0.9005093193054199, \"count\": 1, \"min\": 0.9005093193054199, \"max\": 0.9005093193054199}}}\n",
      "\u001b[0m\n",
      "\u001b[34m#metrics {\"StartTime\": 1634916018.8523152, \"EndTime\": 1634916018.8523312, \"Dimensions\": {\"Algorithm\": \"Linear Learner\", \"Host\": \"algo-1\", \"Operation\": \"training\", \"epoch\": 3, \"model\": 31}, \"Metrics\": {\"train_absolute_loss_objective\": {\"sum\": 1.2961669731140137, \"count\": 1, \"min\": 1.2961669731140137, \"max\": 1.2961669731140137}}}\n",
      "\u001b[0m\n",
      "\u001b[34m[10/22/2021 15:20:18 INFO 139661101946688] #quality_metric: host=algo-1, epoch=3, train absolute_loss_objective <loss>=0.8283058643341065\u001b[0m\n",
      "\u001b[34m[10/22/2021 15:20:18 INFO 139661101946688] #early_stopping_criteria_metric: host=algo-1, epoch=3, criteria=absolute_loss_objective, value=0.2898751854896545\u001b[0m\n",
      "\u001b[34m[10/22/2021 15:20:18 INFO 139661101946688] Saving model for epoch: 3\u001b[0m\n",
      "\u001b[34m[10/22/2021 15:20:18 INFO 139661101946688] Saved checkpoint to \"/tmp/tmpx_4f566x/mx-mod-0000.params\"\u001b[0m\n",
      "\u001b[34m[10/22/2021 15:20:18 INFO 139661101946688] #progress_metric: host=algo-1, completed 80.0 % of epochs\u001b[0m\n",
      "\u001b[34m#metrics {\"StartTime\": 1634916018.7255945, \"EndTime\": 1634916018.8620327, \"Dimensions\": {\"Algorithm\": \"Linear Learner\", \"Host\": \"algo-1\", \"Operation\": \"training\", \"epoch\": 3, \"Meta\": \"training_data_iter\"}, \"Metrics\": {\"Total Records Seen\": {\"sum\": 135.0, \"count\": 1, \"min\": 135, \"max\": 135}, \"Total Batches Seen\": {\"sum\": 31.0, \"count\": 1, \"min\": 31, \"max\": 31}, \"Max Records Seen Between Resets\": {\"sum\": 26.0, \"count\": 1, \"min\": 26, \"max\": 26}, \"Max Batches Seen Between Resets\": {\"sum\": 6.0, \"count\": 1, \"min\": 6, \"max\": 6}, \"Reset Count\": {\"sum\": 6.0, \"count\": 1, \"min\": 6, \"max\": 6}, \"Number of Records Since Last Reset\": {\"sum\": 26.0, \"count\": 1, \"min\": 26, \"max\": 26}, \"Number of Batches Since Last Reset\": {\"sum\": 6.0, \"count\": 1, \"min\": 6, \"max\": 6}}}\n",
      "\u001b[0m\n",
      "\u001b[34m[10/22/2021 15:20:18 INFO 139661101946688] #throughput_metric: host=algo-1, train throughput=190.33905067765104 records/second\u001b[0m\n",
      "\u001b[34m[2021-10-22 15:20:19.011] [tensorio] [info] epoch_stats={\"data_pipeline\": \"/opt/ml/input/data/train\", \"epoch\": 12, \"duration\": 148, \"num_examples\": 6, \"num_bytes\": 1248}\u001b[0m\n",
      "\u001b[34m#metrics {\"StartTime\": 1634916019.0113413, \"EndTime\": 1634916019.01144, \"Dimensions\": {\"Algorithm\": \"Linear Learner\", \"Host\": \"algo-1\", \"Operation\": \"training\", \"epoch\": 4, \"model\": 0}, \"Metrics\": {\"train_absolute_loss_objective\": {\"sum\": 0.8063077545166015, \"count\": 1, \"min\": 0.8063077545166015, \"max\": 0.8063077545166015}}}\n",
      "\u001b[0m\n",
      "\u001b[34m#metrics {\"StartTime\": 1634916019.0115478, \"EndTime\": 1634916019.0115707, \"Dimensions\": {\"Algorithm\": \"Linear Learner\", \"Host\": \"algo-1\", \"Operation\": \"training\", \"epoch\": 4, \"model\": 1}, \"Metrics\": {\"train_absolute_loss_objective\": {\"sum\": 0.8255649757385254, \"count\": 1, \"min\": 0.8255649757385254, \"max\": 0.8255649757385254}}}\n",
      "\u001b[0m\n",
      "\u001b[34m#metrics {\"StartTime\": 1634916019.0116346, \"EndTime\": 1634916019.0116541, \"Dimensions\": {\"Algorithm\": \"Linear Learner\", \"Host\": \"algo-1\", \"Operation\": \"training\", \"epoch\": 4, \"model\": 2}, \"Metrics\": {\"train_absolute_loss_objective\": {\"sum\": 0.8087137126922608, \"count\": 1, \"min\": 0.8087137126922608, \"max\": 0.8087137126922608}}}\n",
      "\u001b[0m\n",
      "\u001b[34m#metrics {\"StartTime\": 1634916019.0117133, \"EndTime\": 1634916019.0117319, \"Dimensions\": {\"Algorithm\": \"Linear Learner\", \"Host\": \"algo-1\", \"Operation\": \"training\", \"epoch\": 4, \"model\": 3}, \"Metrics\": {\"train_absolute_loss_objective\": {\"sum\": 0.8245499515533448, \"count\": 1, \"min\": 0.8245499515533448, \"max\": 0.8245499515533448}}}\n",
      "\u001b[0m\n",
      "\u001b[34m#metrics {\"StartTime\": 1634916019.0118015, \"EndTime\": 1634916019.0118215, \"Dimensions\": {\"Algorithm\": \"Linear Learner\", \"Host\": \"algo-1\", \"Operation\": \"training\", \"epoch\": 4, \"model\": 4}, \"Metrics\": {\"train_absolute_loss_objective\": {\"sum\": 0.2565323495864868, \"count\": 1, \"min\": 0.2565323495864868, \"max\": 0.2565323495864868}}}\n",
      "\u001b[0m\n",
      "\u001b[34m#metrics {\"StartTime\": 1634916019.0118787, \"EndTime\": 1634916019.011896, \"Dimensions\": {\"Algorithm\": \"Linear Learner\", \"Host\": \"algo-1\", \"Operation\": \"training\", \"epoch\": 4, \"model\": 5}, \"Metrics\": {\"train_absolute_loss_objective\": {\"sum\": 0.2537479209899902, \"count\": 1, \"min\": 0.2537479209899902, \"max\": 0.2537479209899902}}}\n",
      "\u001b[0m\n",
      "\u001b[34m#metrics {\"StartTime\": 1634916019.0119526, \"EndTime\": 1634916019.011971, \"Dimensions\": {\"Algorithm\": \"Linear Learner\", \"Host\": \"algo-1\", \"Operation\": \"training\", \"epoch\": 4, \"model\": 6}, \"Metrics\": {\"train_absolute_loss_objective\": {\"sum\": 0.33734182357788084, \"count\": 1, \"min\": 0.33734182357788084, \"max\": 0.33734182357788084}}}\n",
      "\u001b[0m\n",
      "\u001b[34m#metrics {\"StartTime\": 1634916019.012038, \"EndTime\": 1634916019.0120566, \"Dimensions\": {\"Algorithm\": \"Linear Learner\", \"Host\": \"algo-1\", \"Operation\": \"training\", \"epoch\": 4, \"model\": 7}, \"Metrics\": {\"train_absolute_loss_objective\": {\"sum\": 0.33026235103607177, \"count\": 1, \"min\": 0.33026235103607177, \"max\": 0.33026235103607177}}}\n",
      "\u001b[0m\n",
      "\u001b[34m#metrics {\"StartTime\": 1634916019.012124, \"EndTime\": 1634916019.012143, \"Dimensions\": {\"Algorithm\": \"Linear Learner\", \"Host\": \"algo-1\", \"Operation\": \"training\", \"epoch\": 4, \"model\": 8}, \"Metrics\": {\"train_absolute_loss_objective\": {\"sum\": 0.8620810699462891, \"count\": 1, \"min\": 0.8620810699462891, \"max\": 0.8620810699462891}}}\n",
      "\u001b[0m\n",
      "\u001b[34m#metrics {\"StartTime\": 1634916019.0122068, \"EndTime\": 1634916019.012225, \"Dimensions\": {\"Algorithm\": \"Linear Learner\", \"Host\": \"algo-1\", \"Operation\": \"training\", \"epoch\": 4, \"model\": 9}, \"Metrics\": {\"train_absolute_loss_objective\": {\"sum\": 0.7937108707427979, \"count\": 1, \"min\": 0.7937108707427979, \"max\": 0.7937108707427979}}}\n",
      "\u001b[0m\n",
      "\u001b[34m#metrics {\"StartTime\": 1634916019.0122817, \"EndTime\": 1634916019.0122998, \"Dimensions\": {\"Algorithm\": \"Linear Learner\", \"Host\": \"algo-1\", \"Operation\": \"training\", \"epoch\": 4, \"model\": 10}, \"Metrics\": {\"train_absolute_loss_objective\": {\"sum\": 0.8009979057312012, \"count\": 1, \"min\": 0.8009979057312012, \"max\": 0.8009979057312012}}}\n",
      "\u001b[0m\n",
      "\u001b[34m#metrics {\"StartTime\": 1634916019.0123515, \"EndTime\": 1634916019.0123625, \"Dimensions\": {\"Algorithm\": \"Linear Learner\", \"Host\": \"algo-1\", \"Operation\": \"training\", \"epoch\": 4, \"model\": 11}, \"Metrics\": {\"train_absolute_loss_objective\": {\"sum\": 0.7856161403656006, \"count\": 1, \"min\": 0.7856161403656006, \"max\": 0.7856161403656006}}}\n",
      "\u001b[0m\n",
      "\u001b[34m#metrics {\"StartTime\": 1634916019.0124135, \"EndTime\": 1634916019.0124307, \"Dimensions\": {\"Algorithm\": \"Linear Learner\", \"Host\": \"algo-1\", \"Operation\": \"training\", \"epoch\": 4, \"model\": 12}, \"Metrics\": {\"train_absolute_loss_objective\": {\"sum\": 0.25251413822174074, \"count\": 1, \"min\": 0.25251413822174074, \"max\": 0.25251413822174074}}}\n",
      "\u001b[0m\n",
      "\u001b[34m#metrics {\"StartTime\": 1634916019.0124974, \"EndTime\": 1634916019.0125172, \"Dimensions\": {\"Algorithm\": \"Linear Learner\", \"Host\": \"algo-1\", \"Operation\": \"training\", \"epoch\": 4, \"model\": 13}, \"Metrics\": {\"train_absolute_loss_objective\": {\"sum\": 0.336834511756897, \"count\": 1, \"min\": 0.336834511756897, \"max\": 0.336834511756897}}}\n",
      "\u001b[0m\n",
      "\u001b[34m#metrics {\"StartTime\": 1634916019.0125844, \"EndTime\": 1634916019.0126023, \"Dimensions\": {\"Algorithm\": \"Linear Learner\", \"Host\": \"algo-1\", \"Operation\": \"training\", \"epoch\": 4, \"model\": 14}, \"Metrics\": {\"train_absolute_loss_objective\": {\"sum\": 0.2527218961715698, \"count\": 1, \"min\": 0.2527218961715698, \"max\": 0.2527218961715698}}}\n",
      "\u001b[0m\n",
      "\u001b[34m#metrics {\"StartTime\": 1634916019.012672, \"EndTime\": 1634916019.012692, \"Dimensions\": {\"Algorithm\": \"Linear Learner\", \"Host\": \"algo-1\", \"Operation\": \"training\", \"epoch\": 4, \"model\": 15}, \"Metrics\": {\"train_absolute_loss_objective\": {\"sum\": 0.3339067506790161, \"count\": 1, \"min\": 0.3339067506790161, \"max\": 0.3339067506790161}}}\n",
      "\u001b[0m\n",
      "\u001b[34m#metrics {\"StartTime\": 1634916019.0127988, \"EndTime\": 1634916019.0128183, \"Dimensions\": {\"Algorithm\": \"Linear Learner\", \"Host\": \"algo-1\", \"Operation\": \"training\", \"epoch\": 4, \"model\": 16}, \"Metrics\": {\"train_absolute_loss_objective\": {\"sum\": 0.7713560199737549, \"count\": 1, \"min\": 0.7713560199737549, \"max\": 0.7713560199737549}}}\n",
      "\u001b[0m\n",
      "\u001b[34m#metrics {\"StartTime\": 1634916019.0128865, \"EndTime\": 1634916019.0129058, \"Dimensions\": {\"Algorithm\": \"Linear Learner\", \"Host\": \"algo-1\", \"Operation\": \"training\", \"epoch\": 4, \"model\": 17}, \"Metrics\": {\"train_absolute_loss_objective\": {\"sum\": 0.8216874980926514, \"count\": 1, \"min\": 0.8216874980926514, \"max\": 0.8216874980926514}}}\n",
      "\u001b[0m\n",
      "\u001b[34m#metrics {\"StartTime\": 1634916019.0129733, \"EndTime\": 1634916019.012992, \"Dimensions\": {\"Algorithm\": \"Linear Learner\", \"Host\": \"algo-1\", \"Operation\": \"training\", \"epoch\": 4, \"model\": 18}, \"Metrics\": {\"train_absolute_loss_objective\": {\"sum\": 0.7982413673400879, \"count\": 1, \"min\": 0.7982413673400879, \"max\": 0.7982413673400879}}}\n",
      "\u001b[0m\n",
      "\u001b[34m#metrics {\"StartTime\": 1634916019.0130594, \"EndTime\": 1634916019.0130785, \"Dimensions\": {\"Algorithm\": \"Linear Learner\", \"Host\": \"algo-1\", \"Operation\": \"training\", \"epoch\": 4, \"model\": 19}, \"Metrics\": {\"train_absolute_loss_objective\": {\"sum\": 0.7949663639068604, \"count\": 1, \"min\": 0.7949663639068604, \"max\": 0.7949663639068604}}}\n",
      "\u001b[0m\n",
      "\u001b[34m#metrics {\"StartTime\": 1634916019.013143, \"EndTime\": 1634916019.0131605, \"Dimensions\": {\"Algorithm\": \"Linear Learner\", \"Host\": \"algo-1\", \"Operation\": \"training\", \"epoch\": 4, \"model\": 20}, \"Metrics\": {\"train_absolute_loss_objective\": {\"sum\": 0.6991078376770019, \"count\": 1, \"min\": 0.6991078376770019, \"max\": 0.6991078376770019}}}\n",
      "\u001b[0m\n",
      "\u001b[34m#metrics {\"StartTime\": 1634916019.0132227, \"EndTime\": 1634916019.013241, \"Dimensions\": {\"Algorithm\": \"Linear Learner\", \"Host\": \"algo-1\", \"Operation\": \"training\", \"epoch\": 4, \"model\": 21}, \"Metrics\": {\"train_absolute_loss_objective\": {\"sum\": 0.5845480728149414, \"count\": 1, \"min\": 0.5845480728149414, \"max\": 0.5845480728149414}}}\n",
      "\u001b[0m\n",
      "\u001b[34m#metrics {\"StartTime\": 1634916019.0133035, \"EndTime\": 1634916019.0133185, \"Dimensions\": {\"Algorithm\": \"Linear Learner\", \"Host\": \"algo-1\", \"Operation\": \"training\", \"epoch\": 4, \"model\": 22}, \"Metrics\": {\"train_absolute_loss_objective\": {\"sum\": 0.5461959266662597, \"count\": 1, \"min\": 0.5461959266662597, \"max\": 0.5461959266662597}}}\n",
      "\u001b[0m\n",
      "\u001b[34m#metrics {\"StartTime\": 1634916019.013377, \"EndTime\": 1634916019.0133948, \"Dimensions\": {\"Algorithm\": \"Linear Learner\", \"Host\": \"algo-1\", \"Operation\": \"training\", \"epoch\": 4, \"model\": 23}, \"Metrics\": {\"train_absolute_loss_objective\": {\"sum\": 0.3361123752593994, \"count\": 1, \"min\": 0.3361123752593994, \"max\": 0.3361123752593994}}}\n",
      "\u001b[0m\n",
      "\u001b[34m#metrics {\"StartTime\": 1634916019.0134556, \"EndTime\": 1634916019.0134735, \"Dimensions\": {\"Algorithm\": \"Linear Learner\", \"Host\": \"algo-1\", \"Operation\": \"training\", \"epoch\": 4, \"model\": 24}, \"Metrics\": {\"train_absolute_loss_objective\": {\"sum\": 0.9087908935546875, \"count\": 1, \"min\": 0.9087908935546875, \"max\": 0.9087908935546875}}}\n",
      "\u001b[0m\n",
      "\u001b[34m#metrics {\"StartTime\": 1634916019.0135293, \"EndTime\": 1634916019.0135462, \"Dimensions\": {\"Algorithm\": \"Linear Learner\", \"Host\": \"algo-1\", \"Operation\": \"training\", \"epoch\": 4, \"model\": 25}, \"Metrics\": {\"train_absolute_loss_objective\": {\"sum\": 0.8907402896881104, \"count\": 1, \"min\": 0.8907402896881104, \"max\": 0.8907402896881104}}}\n",
      "\u001b[0m\n",
      "\u001b[34m#metrics {\"StartTime\": 1634916019.013601, \"EndTime\": 1634916019.0136166, \"Dimensions\": {\"Algorithm\": \"Linear Learner\", \"Host\": \"algo-1\", \"Operation\": \"training\", \"epoch\": 4, \"model\": 26}, \"Metrics\": {\"train_absolute_loss_objective\": {\"sum\": 0.900484209060669, \"count\": 1, \"min\": 0.900484209060669, \"max\": 0.900484209060669}}}\n",
      "\u001b[0m\n",
      "\u001b[34m#metrics {\"StartTime\": 1634916019.0136669, \"EndTime\": 1634916019.0136836, \"Dimensions\": {\"Algorithm\": \"Linear Learner\", \"Host\": \"algo-1\", \"Operation\": \"training\", \"epoch\": 4, \"model\": 27}, \"Metrics\": {\"train_absolute_loss_objective\": {\"sum\": 0.8956416511535644, \"count\": 1, \"min\": 0.8956416511535644, \"max\": 0.8956416511535644}}}\n",
      "\u001b[0m\n",
      "\u001b[34m#metrics {\"StartTime\": 1634916019.013749, \"EndTime\": 1634916019.013767, \"Dimensions\": {\"Algorithm\": \"Linear Learner\", \"Host\": \"algo-1\", \"Operation\": \"training\", \"epoch\": 4, \"model\": 28}, \"Metrics\": {\"train_absolute_loss_objective\": {\"sum\": 0.9259500217437744, \"count\": 1, \"min\": 0.9259500217437744, \"max\": 0.9259500217437744}}}\n",
      "\u001b[0m\n",
      "\u001b[34m#metrics {\"StartTime\": 1634916019.013821, \"EndTime\": 1634916019.0138369, \"Dimensions\": {\"Algorithm\": \"Linear Learner\", \"Host\": \"algo-1\", \"Operation\": \"training\", \"epoch\": 4, \"model\": 29}, \"Metrics\": {\"train_absolute_loss_objective\": {\"sum\": 0.933891487121582, \"count\": 1, \"min\": 0.933891487121582, \"max\": 0.933891487121582}}}\n",
      "\u001b[0m\n",
      "\u001b[34m#metrics {\"StartTime\": 1634916019.0138907, \"EndTime\": 1634916019.0139081, \"Dimensions\": {\"Algorithm\": \"Linear Learner\", \"Host\": \"algo-1\", \"Operation\": \"training\", \"epoch\": 4, \"model\": 30}, \"Metrics\": {\"train_absolute_loss_objective\": {\"sum\": 0.8920018100738525, \"count\": 1, \"min\": 0.8920018100738525, \"max\": 0.8920018100738525}}}\n",
      "\u001b[0m\n",
      "\u001b[34m#metrics {\"StartTime\": 1634916019.0139723, \"EndTime\": 1634916019.0139902, \"Dimensions\": {\"Algorithm\": \"Linear Learner\", \"Host\": \"algo-1\", \"Operation\": \"training\", \"epoch\": 4, \"model\": 31}, \"Metrics\": {\"train_absolute_loss_objective\": {\"sum\": 0.9828944969177246, \"count\": 1, \"min\": 0.9828944969177246, \"max\": 0.9828944969177246}}}\n",
      "\u001b[0m\n",
      "\u001b[34m[10/22/2021 15:20:19 INFO 139661101946688] #quality_metric: host=algo-1, epoch=4, train absolute_loss_objective <loss>=0.8063077545166015\u001b[0m\n",
      "\u001b[34m[10/22/2021 15:20:19 INFO 139661101946688] #early_stopping_criteria_metric: host=algo-1, epoch=4, criteria=absolute_loss_objective, value=0.25251413822174074\u001b[0m\n",
      "\u001b[34m[10/22/2021 15:20:19 INFO 139661101946688] Epoch 4: Loss improved. Updating best model\u001b[0m\n",
      "\u001b[34m[10/22/2021 15:20:19 INFO 139661101946688] Saving model for epoch: 4\u001b[0m\n",
      "\u001b[34m[10/22/2021 15:20:19 INFO 139661101946688] Saved checkpoint to \"/tmp/tmpotyvnnn8/mx-mod-0000.params\"\u001b[0m\n",
      "\u001b[34m[10/22/2021 15:20:19 INFO 139661101946688] #progress_metric: host=algo-1, completed 100.0 % of epochs\u001b[0m\n",
      "\u001b[34m#metrics {\"StartTime\": 1634916018.8623776, \"EndTime\": 1634916019.0251493, \"Dimensions\": {\"Algorithm\": \"Linear Learner\", \"Host\": \"algo-1\", \"Operation\": \"training\", \"epoch\": 4, \"Meta\": \"training_data_iter\"}, \"Metrics\": {\"Total Records Seen\": {\"sum\": 161.0, \"count\": 1, \"min\": 161, \"max\": 161}, \"Total Batches Seen\": {\"sum\": 37.0, \"count\": 1, \"min\": 37, \"max\": 37}, \"Max Records Seen Between Resets\": {\"sum\": 26.0, \"count\": 1, \"min\": 26, \"max\": 26}, \"Max Batches Seen Between Resets\": {\"sum\": 6.0, \"count\": 1, \"min\": 6, \"max\": 6}, \"Reset Count\": {\"sum\": 7.0, \"count\": 1, \"min\": 7, \"max\": 7}, \"Number of Records Since Last Reset\": {\"sum\": 26.0, \"count\": 1, \"min\": 26, \"max\": 26}, \"Number of Batches Since Last Reset\": {\"sum\": 6.0, \"count\": 1, \"min\": 6, \"max\": 6}}}\n",
      "\u001b[0m\n",
      "\u001b[34m[10/22/2021 15:20:19 INFO 139661101946688] #throughput_metric: host=algo-1, train throughput=159.58449342868724 records/second\u001b[0m\n",
      "\u001b[34m[10/22/2021 15:20:19 WARNING 139661101946688] wait_for_all_workers will not sync workers since the kv store is not running distributed\u001b[0m\n",
      "\u001b[34m[10/22/2021 15:20:19 WARNING 139661101946688] wait_for_all_workers will not sync workers since the kv store is not running distributed\u001b[0m\n",
      "\u001b[34m[2021-10-22 15:20:19.026] [tensorio] [info] epoch_stats={\"data_pipeline\": \"/opt/ml/input/data/train\", \"epoch\": 14, \"duration\": 0, \"num_examples\": 1, \"num_bytes\": 240}\u001b[0m\n",
      "\u001b[34m[2021-10-22 15:20:19.038] [tensorio] [info] epoch_stats={\"data_pipeline\": \"/opt/ml/input/data/train\", \"epoch\": 16, \"duration\": 9, \"num_examples\": 6, \"num_bytes\": 1248}\u001b[0m\n",
      "\u001b[34m[10/22/2021 15:20:19 INFO 139661101946688] #train_score (algo-1) : ('absolute_loss_objective', 7390.560096153846)\u001b[0m\n",
      "\u001b[34m[10/22/2021 15:20:19 INFO 139661101946688] #train_score (algo-1) : ('mse', 76820506.15384616)\u001b[0m\n",
      "\u001b[34m[10/22/2021 15:20:19 INFO 139661101946688] #train_score (algo-1) : ('absolute_loss', 7390.560096153846)\u001b[0m\n",
      "\u001b[34m[10/22/2021 15:20:19 INFO 139661101946688] #quality_metric: host=algo-1, train absolute_loss_objective <loss>=7390.560096153846\u001b[0m\n",
      "\u001b[34m[10/22/2021 15:20:19 INFO 139661101946688] #quality_metric: host=algo-1, train mse <loss>=76820506.15384616\u001b[0m\n",
      "\u001b[34m[10/22/2021 15:20:19 INFO 139661101946688] #quality_metric: host=algo-1, train absolute_loss <loss>=7390.560096153846\u001b[0m\n",
      "\u001b[34m[10/22/2021 15:20:19 INFO 139661101946688] Best model found for hyperparameters: {\"optimizer\": \"adam\", \"learning_rate\": 0.1, \"wd\": 0.01, \"l1\": 0.0, \"lr_scheduler_step\": 10, \"lr_scheduler_factor\": 0.99, \"lr_scheduler_minimum_lr\": 1e-05}\u001b[0m\n",
      "\u001b[34m[10/22/2021 15:20:19 INFO 139661101946688] Saved checkpoint to \"/tmp/tmpwgddip_m/mx-mod-0000.params\"\u001b[0m\n",
      "\u001b[34m[10/22/2021 15:20:19 INFO 139661101946688] Test data is not provided.\u001b[0m\n",
      "\u001b[34m#metrics {\"StartTime\": 1634916018.0139947, \"EndTime\": 1634916019.0442665, \"Dimensions\": {\"Algorithm\": \"Linear Learner\", \"Host\": \"algo-1\", \"Operation\": \"training\"}, \"Metrics\": {\"initialize.time\": {\"sum\": 206.37178421020508, \"count\": 1, \"min\": 206.37178421020508, \"max\": 206.37178421020508}, \"epochs\": {\"sum\": 5.0, \"count\": 1, \"min\": 5, \"max\": 5}, \"check_early_stopping.time\": {\"sum\": 5.462646484375, \"count\": 5, \"min\": 0.2288818359375, \"max\": 1.5871524810791016}, \"update.time\": {\"sum\": 780.2889347076416, \"count\": 5, \"min\": 133.15510749816895, \"max\": 199.59402084350586}, \"finalize.time\": {\"sum\": 13.330936431884766, \"count\": 1, \"min\": 13.330936431884766, \"max\": 13.330936431884766}, \"setuptime\": {\"sum\": 26.24797821044922, \"count\": 1, \"min\": 26.24797821044922, \"max\": 26.24797821044922}, \"totaltime\": {\"sum\": 1263.207197189331, \"count\": 1, \"min\": 1263.207197189331, \"max\": 1263.207197189331}}}\n",
      "\u001b[0m\n",
      "\n",
      "2021-10-22 15:20:35 Uploading - Uploading generated training model\n",
      "2021-10-22 15:20:35 Completed - Training job completed\n",
      "Training seconds: 68\n",
      "Billable seconds: 68\n"
     ]
    }
   ],
   "source": [
    "# We have pass in the container, the type of instance that we would like to use for training \n",
    "# output path and sagemaker session into the Estimator. \n",
    "# We can also specify how many instances we would like to use for training\n",
    "# sagemaker_session = sagemaker.Session()\n",
    "\n",
    "linear = sagemaker.estimator.Estimator(container,\n",
    "                                       role, \n",
    "                                       instance_count = 1, \n",
    "                                       instance_type = 'ml.m4.xlarge',\n",
    "                                       output_path = output_location,\n",
    "                                       sagemaker_session = sagemaker_session)\n",
    "\n",
    "\n",
    "# We can tune parameters like the number of features that we are passing in, type of predictor like 'regressor' or 'classifier', mini batch size, epochs\n",
    "# Train 32 different versions of the model and will get the best out of them (built-in parameters optimization!)\n",
    "\n",
    "linear.set_hyperparameters(feature_dim = 1,\n",
    "                           predictor_type = 'regressor',\n",
    "                           mini_batch_size = 5,\n",
    "                           epochs = 5,\n",
    "                           num_models = 32,\n",
    "                           loss = 'absolute_loss')\n",
    "\n",
    "# Now we are ready to pass in the training data from S3 to train the linear learner model\n",
    "\n",
    "linear.fit({'train': s3_train_data})\n",
    "\n",
    "# Let's see the progress using cloudwatch logs"
   ]
  },
  {
   "cell_type": "markdown",
   "metadata": {},
   "source": [
    "MINI CHALLENGE\n",
    "- Try to train the model with more epochs and additional number of models\n",
    "- Can you try to reduce the cost of billable seconds?"
   ]
  },
  {
   "cell_type": "code",
   "execution_count": 140,
   "metadata": {},
   "outputs": [
    {
     "name": "stdout",
     "output_type": "stream",
     "text": [
      "2021-10-22 15:25:45 Starting - Starting the training job...\n",
      "2021-10-22 15:25:47 Starting - Launching requested ML instancesProfilerReport-1634916345: InProgress\n",
      "......\n",
      "2021-10-22 15:27:12 Starting - Preparing the instances for training............\n",
      "2021-10-22 15:29:16 Downloading - Downloading input data\n",
      "2021-10-22 15:29:16 Training - Downloading the training image...\n",
      "2021-10-22 15:29:46 Training - Training image download completed. Training in progress.\u001b[34mDocker entrypoint called with argument(s): train\u001b[0m\n",
      "\u001b[34mRunning default environment configuration script\u001b[0m\n",
      "\u001b[34m[10/22/2021 15:29:41 INFO 140611341055808] Reading default configuration from /opt/amazon/lib/python3.7/site-packages/algorithm/resources/default-input.json: {'mini_batch_size': '1000', 'epochs': '15', 'feature_dim': 'auto', 'use_bias': 'true', 'binary_classifier_model_selection_criteria': 'accuracy', 'f_beta': '1.0', 'target_recall': '0.8', 'target_precision': '0.8', 'num_models': 'auto', 'num_calibration_samples': '10000000', 'init_method': 'uniform', 'init_scale': '0.07', 'init_sigma': '0.01', 'init_bias': '0.0', 'optimizer': 'auto', 'loss': 'auto', 'margin': '1.0', 'quantile': '0.5', 'loss_insensitivity': '0.01', 'huber_delta': '1.0', 'num_classes': '1', 'accuracy_top_k': '3', 'wd': 'auto', 'l1': 'auto', 'momentum': 'auto', 'learning_rate': 'auto', 'beta_1': 'auto', 'beta_2': 'auto', 'bias_lr_mult': 'auto', 'bias_wd_mult': 'auto', 'use_lr_scheduler': 'true', 'lr_scheduler_step': 'auto', 'lr_scheduler_factor': 'auto', 'lr_scheduler_minimum_lr': 'auto', 'positive_example_weight_mult': '1.0', 'balance_multiclass_weights': 'false', 'normalize_data': 'true', 'normalize_label': 'auto', 'unbias_data': 'auto', 'unbias_label': 'auto', 'num_point_for_scaler': '10000', '_kvstore': 'auto', '_num_gpus': 'auto', '_num_kv_servers': 'auto', '_log_level': 'info', '_tuning_objective_metric': '', 'early_stopping_patience': '3', 'early_stopping_tolerance': '0.001', '_enable_profiler': 'false'}\u001b[0m\n",
      "\u001b[34m[10/22/2021 15:29:41 INFO 140611341055808] Merging with provided configuration from /opt/ml/input/config/hyperparameters.json: {'loss': 'absolute_loss', 'feature_dim': '1', 'num_models': '32', 'predictor_type': 'regressor', 'epochs': '5', 'mini_batch_size': '5'}\u001b[0m\n",
      "\u001b[34m[10/22/2021 15:29:41 INFO 140611341055808] Final configuration: {'mini_batch_size': '5', 'epochs': '5', 'feature_dim': '1', 'use_bias': 'true', 'binary_classifier_model_selection_criteria': 'accuracy', 'f_beta': '1.0', 'target_recall': '0.8', 'target_precision': '0.8', 'num_models': '32', 'num_calibration_samples': '10000000', 'init_method': 'uniform', 'init_scale': '0.07', 'init_sigma': '0.01', 'init_bias': '0.0', 'optimizer': 'auto', 'loss': 'absolute_loss', 'margin': '1.0', 'quantile': '0.5', 'loss_insensitivity': '0.01', 'huber_delta': '1.0', 'num_classes': '1', 'accuracy_top_k': '3', 'wd': 'auto', 'l1': 'auto', 'momentum': 'auto', 'learning_rate': 'auto', 'beta_1': 'auto', 'beta_2': 'auto', 'bias_lr_mult': 'auto', 'bias_wd_mult': 'auto', 'use_lr_scheduler': 'true', 'lr_scheduler_step': 'auto', 'lr_scheduler_factor': 'auto', 'lr_scheduler_minimum_lr': 'auto', 'positive_example_weight_mult': '1.0', 'balance_multiclass_weights': 'false', 'normalize_data': 'true', 'normalize_label': 'auto', 'unbias_data': 'auto', 'unbias_label': 'auto', 'num_point_for_scaler': '10000', '_kvstore': 'auto', '_num_gpus': 'auto', '_num_kv_servers': 'auto', '_log_level': 'info', '_tuning_objective_metric': '', 'early_stopping_patience': '3', 'early_stopping_tolerance': '0.001', '_enable_profiler': 'false', 'predictor_type': 'regressor'}\u001b[0m\n",
      "\u001b[34m[10/22/2021 15:29:41 WARNING 140611341055808] Loggers have already been setup.\u001b[0m\n",
      "\u001b[34mProcess 1 is a worker.\u001b[0m\n",
      "\u001b[34m[10/22/2021 15:29:41 INFO 140611341055808] Using default worker.\u001b[0m\n",
      "\u001b[34m[10/22/2021 15:29:42 INFO 140611341055808] Checkpoint loading and saving are disabled.\u001b[0m\n",
      "\u001b[34m[2021-10-22 15:29:42.021] [tensorio] [info] epoch_stats={\"data_pipeline\": \"/opt/ml/input/data/train\", \"epoch\": 0, \"duration\": 17, \"num_examples\": 1, \"num_bytes\": 240}\u001b[0m\n",
      "\u001b[34m[10/22/2021 15:29:42 INFO 140611341055808] Create Store: local\u001b[0m\n",
      "\u001b[34m[2021-10-22 15:29:42.081] [tensorio] [info] epoch_stats={\"data_pipeline\": \"/opt/ml/input/data/train\", \"epoch\": 1, \"duration\": 59, \"num_examples\": 6, \"num_bytes\": 1248}\u001b[0m\n",
      "\u001b[34m[10/22/2021 15:29:42 INFO 140611341055808] Scaler algorithm parameters\n",
      " <algorithm.scaler.ScalerAlgorithmStable object at 0x7fe2406948d0>\u001b[0m\n",
      "\u001b[34m[10/22/2021 15:29:42 INFO 140611341055808] Scaling model computed with parameters:\n",
      " {'stdev_label': \u001b[0m\n",
      "\u001b[34m[32133.588]\u001b[0m\n",
      "\u001b[34m<NDArray 1 @cpu(0)>, 'stdev_weight': \u001b[0m\n",
      "\u001b[34m[3.6239998]\u001b[0m\n",
      "\u001b[34m<NDArray 1 @cpu(0)>, 'mean_label': \u001b[0m\n",
      "\u001b[34m[88180.56]\u001b[0m\n",
      "\u001b[34m<NDArray 1 @cpu(0)>, 'mean_weight': \u001b[0m\n",
      "\u001b[34m[6.7320004]\u001b[0m\n",
      "\u001b[34m<NDArray 1 @cpu(0)>}\u001b[0m\n",
      "\u001b[34m[10/22/2021 15:29:42 INFO 140611341055808] nvidia-smi: took 0.033 seconds to run.\u001b[0m\n",
      "\u001b[34m[10/22/2021 15:29:42 INFO 140611341055808] nvidia-smi identified 0 GPUs.\u001b[0m\n",
      "\u001b[34m[10/22/2021 15:29:42 INFO 140611341055808] Number of GPUs being used: 0\u001b[0m\n",
      "\u001b[34m#metrics {\"StartTime\": 1634916582.2088847, \"EndTime\": 1634916582.208925, \"Dimensions\": {\"Algorithm\": \"Linear Learner\", \"Host\": \"algo-1\", \"Operation\": \"training\", \"Meta\": \"init_train_data_iter\"}, \"Metrics\": {\"Total Records Seen\": {\"sum\": 31.0, \"count\": 1, \"min\": 31, \"max\": 31}, \"Total Batches Seen\": {\"sum\": 7.0, \"count\": 1, \"min\": 7, \"max\": 7}, \"Max Records Seen Between Resets\": {\"sum\": 26.0, \"count\": 1, \"min\": 26, \"max\": 26}, \"Max Batches Seen Between Resets\": {\"sum\": 6.0, \"count\": 1, \"min\": 6, \"max\": 6}, \"Reset Count\": {\"sum\": 2.0, \"count\": 1, \"min\": 2, \"max\": 2}, \"Number of Records Since Last Reset\": {\"sum\": 0.0, \"count\": 1, \"min\": 0, \"max\": 0}, \"Number of Batches Since Last Reset\": {\"sum\": 0.0, \"count\": 1, \"min\": 0, \"max\": 0}}}\n",
      "\u001b[0m\n",
      "\u001b[34m[2021-10-22 15:29:42.341] [tensorio] [info] epoch_stats={\"data_pipeline\": \"/opt/ml/input/data/train\", \"epoch\": 4, \"duration\": 132, \"num_examples\": 6, \"num_bytes\": 1248}\u001b[0m\n",
      "\u001b[34m#metrics {\"StartTime\": 1634916582.3417122, \"EndTime\": 1634916582.3418193, \"Dimensions\": {\"Algorithm\": \"Linear Learner\", \"Host\": \"algo-1\", \"Operation\": \"training\", \"epoch\": 0, \"model\": 0}, \"Metrics\": {\"train_absolute_loss_objective\": {\"sum\": 0.9025582695007324, \"count\": 1, \"min\": 0.9025582695007324, \"max\": 0.9025582695007324}}}\n",
      "\u001b[0m\n",
      "\u001b[34m#metrics {\"StartTime\": 1634916582.3420272, \"EndTime\": 1634916582.3420982, \"Dimensions\": {\"Algorithm\": \"Linear Learner\", \"Host\": \"algo-1\", \"Operation\": \"training\", \"epoch\": 0, \"model\": 1}, \"Metrics\": {\"train_absolute_loss_objective\": {\"sum\": 0.9224199104309082, \"count\": 1, \"min\": 0.9224199104309082, \"max\": 0.9224199104309082}}}\n",
      "\u001b[0m\n",
      "\u001b[34m#metrics {\"StartTime\": 1634916582.3422177, \"EndTime\": 1634916582.342237, \"Dimensions\": {\"Algorithm\": \"Linear Learner\", \"Host\": \"algo-1\", \"Operation\": \"training\", \"epoch\": 0, \"model\": 2}, \"Metrics\": {\"train_absolute_loss_objective\": {\"sum\": 0.904964246749878, \"count\": 1, \"min\": 0.904964246749878, \"max\": 0.904964246749878}}}\n",
      "\u001b[0m\n",
      "\u001b[34m#metrics {\"StartTime\": 1634916582.3422854, \"EndTime\": 1634916582.342298, \"Dimensions\": {\"Algorithm\": \"Linear Learner\", \"Host\": \"algo-1\", \"Operation\": \"training\", \"epoch\": 0, \"model\": 3}, \"Metrics\": {\"train_absolute_loss_objective\": {\"sum\": 0.921404914855957, \"count\": 1, \"min\": 0.921404914855957, \"max\": 0.921404914855957}}}\n",
      "\u001b[0m\n",
      "\u001b[34m#metrics {\"StartTime\": 1634916582.3423395, \"EndTime\": 1634916582.3423517, \"Dimensions\": {\"Algorithm\": \"Linear Learner\", \"Host\": \"algo-1\", \"Operation\": \"training\", \"epoch\": 0, \"model\": 4}, \"Metrics\": {\"train_absolute_loss_objective\": {\"sum\": 0.7606943893432617, \"count\": 1, \"min\": 0.7606943893432617, \"max\": 0.7606943893432617}}}\n",
      "\u001b[0m\n",
      "\u001b[34m#metrics {\"StartTime\": 1634916582.3423917, \"EndTime\": 1634916582.3424034, \"Dimensions\": {\"Algorithm\": \"Linear Learner\", \"Host\": \"algo-1\", \"Operation\": \"training\", \"epoch\": 0, \"model\": 5}, \"Metrics\": {\"train_absolute_loss_objective\": {\"sum\": 0.768686408996582, \"count\": 1, \"min\": 0.768686408996582, \"max\": 0.768686408996582}}}\n",
      "\u001b[0m\n",
      "\u001b[34m#metrics {\"StartTime\": 1634916582.3424428, \"EndTime\": 1634916582.3424542, \"Dimensions\": {\"Algorithm\": \"Linear Learner\", \"Host\": \"algo-1\", \"Operation\": \"training\", \"epoch\": 0, \"model\": 6}, \"Metrics\": {\"train_absolute_loss_objective\": {\"sum\": 0.8475179481506347, \"count\": 1, \"min\": 0.8475179481506347, \"max\": 0.8475179481506347}}}\n",
      "\u001b[0m\n",
      "\u001b[34m#metrics {\"StartTime\": 1634916582.3424945, \"EndTime\": 1634916582.342506, \"Dimensions\": {\"Algorithm\": \"Linear Learner\", \"Host\": \"algo-1\", \"Operation\": \"training\", \"epoch\": 0, \"model\": 7}, \"Metrics\": {\"train_absolute_loss_objective\": {\"sum\": 0.819266185760498, \"count\": 1, \"min\": 0.819266185760498, \"max\": 0.819266185760498}}}\n",
      "\u001b[0m\n",
      "\u001b[34m#metrics {\"StartTime\": 1634916582.3425457, \"EndTime\": 1634916582.342557, \"Dimensions\": {\"Algorithm\": \"Linear Learner\", \"Host\": \"algo-1\", \"Operation\": \"training\", \"epoch\": 0, \"model\": 8}, \"Metrics\": {\"train_absolute_loss_objective\": {\"sum\": 0.9583248138427735, \"count\": 1, \"min\": 0.9583248138427735, \"max\": 0.9583248138427735}}}\n",
      "\u001b[0m\n",
      "\u001b[34m#metrics {\"StartTime\": 1634916582.3425958, \"EndTime\": 1634916582.3426075, \"Dimensions\": {\"Algorithm\": \"Linear Learner\", \"Host\": \"algo-1\", \"Operation\": \"training\", \"epoch\": 0, \"model\": 9}, \"Metrics\": {\"train_absolute_loss_objective\": {\"sum\": 0.890556869506836, \"count\": 1, \"min\": 0.890556869506836, \"max\": 0.890556869506836}}}\n",
      "\u001b[0m\n",
      "\u001b[34m#metrics {\"StartTime\": 1634916582.3426464, \"EndTime\": 1634916582.3426578, \"Dimensions\": {\"Algorithm\": \"Linear Learner\", \"Host\": \"algo-1\", \"Operation\": \"training\", \"epoch\": 0, \"model\": 10}, \"Metrics\": {\"train_absolute_loss_objective\": {\"sum\": 0.8972398185729981, \"count\": 1, \"min\": 0.8972398185729981, \"max\": 0.8972398185729981}}}\n",
      "\u001b[0m\n",
      "\u001b[34m#metrics {\"StartTime\": 1634916582.3426974, \"EndTime\": 1634916582.342709, \"Dimensions\": {\"Algorithm\": \"Linear Learner\", \"Host\": \"algo-1\", \"Operation\": \"training\", \"epoch\": 0, \"model\": 11}, \"Metrics\": {\"train_absolute_loss_objective\": {\"sum\": 0.8824619007110596, \"count\": 1, \"min\": 0.8824619007110596, \"max\": 0.8824619007110596}}}\n",
      "\u001b[0m\n",
      "\u001b[34m#metrics {\"StartTime\": 1634916582.3427494, \"EndTime\": 1634916582.342761, \"Dimensions\": {\"Algorithm\": \"Linear Learner\", \"Host\": \"algo-1\", \"Operation\": \"training\", \"epoch\": 0, \"model\": 12}, \"Metrics\": {\"train_absolute_loss_objective\": {\"sum\": 0.7680129718780517, \"count\": 1, \"min\": 0.7680129718780517, \"max\": 0.7680129718780517}}}\n",
      "\u001b[0m\n",
      "\u001b[34m#metrics {\"StartTime\": 1634916582.3428001, \"EndTime\": 1634916582.3428116, \"Dimensions\": {\"Algorithm\": \"Linear Learner\", \"Host\": \"algo-1\", \"Operation\": \"training\", \"epoch\": 0, \"model\": 13}, \"Metrics\": {\"train_absolute_loss_objective\": {\"sum\": 0.7911396169662476, \"count\": 1, \"min\": 0.7911396169662476, \"max\": 0.7911396169662476}}}\n",
      "\u001b[0m\n",
      "\u001b[34m#metrics {\"StartTime\": 1634916582.3428512, \"EndTime\": 1634916582.3428624, \"Dimensions\": {\"Algorithm\": \"Linear Learner\", \"Host\": \"algo-1\", \"Operation\": \"training\", \"epoch\": 0, \"model\": 14}, \"Metrics\": {\"train_absolute_loss_objective\": {\"sum\": 0.7667920160293579, \"count\": 1, \"min\": 0.7667920160293579, \"max\": 0.7667920160293579}}}\n",
      "\u001b[0m\n",
      "\u001b[34m#metrics {\"StartTime\": 1634916582.3429017, \"EndTime\": 1634916582.3429134, \"Dimensions\": {\"Algorithm\": \"Linear Learner\", \"Host\": \"algo-1\", \"Operation\": \"training\", \"epoch\": 0, \"model\": 15}, \"Metrics\": {\"train_absolute_loss_objective\": {\"sum\": 0.7972783470153808, \"count\": 1, \"min\": 0.7972783470153808, \"max\": 0.7972783470153808}}}\n",
      "\u001b[0m\n",
      "\u001b[34m#metrics {\"StartTime\": 1634916582.3429525, \"EndTime\": 1634916582.342964, \"Dimensions\": {\"Algorithm\": \"Linear Learner\", \"Host\": \"algo-1\", \"Operation\": \"training\", \"epoch\": 0, \"model\": 16}, \"Metrics\": {\"train_absolute_loss_objective\": {\"sum\": 0.8665160179138184, \"count\": 1, \"min\": 0.8665160179138184, \"max\": 0.8665160179138184}}}\n",
      "\u001b[0m\n",
      "\u001b[34m#metrics {\"StartTime\": 1634916582.343003, \"EndTime\": 1634916582.3430147, \"Dimensions\": {\"Algorithm\": \"Linear Learner\", \"Host\": \"algo-1\", \"Operation\": \"training\", \"epoch\": 0, \"model\": 17}, \"Metrics\": {\"train_absolute_loss_objective\": {\"sum\": 0.9176770973205567, \"count\": 1, \"min\": 0.9176770973205567, \"max\": 0.9176770973205567}}}\n",
      "\u001b[0m\n",
      "\u001b[34m#metrics {\"StartTime\": 1634916582.3430538, \"EndTime\": 1634916582.3430653, \"Dimensions\": {\"Algorithm\": \"Linear Learner\", \"Host\": \"algo-1\", \"Operation\": \"training\", \"epoch\": 0, \"model\": 18}, \"Metrics\": {\"train_absolute_loss_objective\": {\"sum\": 0.8935324001312256, \"count\": 1, \"min\": 0.8935324001312256, \"max\": 0.8935324001312256}}}\n",
      "\u001b[0m\n",
      "\u001b[34m#metrics {\"StartTime\": 1634916582.343135, \"EndTime\": 1634916582.343149, \"Dimensions\": {\"Algorithm\": \"Linear Learner\", \"Host\": \"algo-1\", \"Operation\": \"training\", \"epoch\": 0, \"model\": 19}, \"Metrics\": {\"train_absolute_loss_objective\": {\"sum\": 0.8908353996276855, \"count\": 1, \"min\": 0.8908353996276855, \"max\": 0.8908353996276855}}}\n",
      "\u001b[0m\n",
      "\u001b[34m#metrics {\"StartTime\": 1634916582.34319, \"EndTime\": 1634916582.3432014, \"Dimensions\": {\"Algorithm\": \"Linear Learner\", \"Host\": \"algo-1\", \"Operation\": \"training\", \"epoch\": 0, \"model\": 20}, \"Metrics\": {\"train_absolute_loss_objective\": {\"sum\": 0.8113773965835571, \"count\": 1, \"min\": 0.8113773965835571, \"max\": 0.8113773965835571}}}\n",
      "\u001b[0m\n",
      "\u001b[34m#metrics {\"StartTime\": 1634916582.3432412, \"EndTime\": 1634916582.3432524, \"Dimensions\": {\"Algorithm\": \"Linear Learner\", \"Host\": \"algo-1\", \"Operation\": \"training\", \"epoch\": 0, \"model\": 21}, \"Metrics\": {\"train_absolute_loss_objective\": {\"sum\": 0.8260126495361328, \"count\": 1, \"min\": 0.8260126495361328, \"max\": 0.8260126495361328}}}\n",
      "\u001b[0m\n",
      "\u001b[34m#metrics {\"StartTime\": 1634916582.3432922, \"EndTime\": 1634916582.3433034, \"Dimensions\": {\"Algorithm\": \"Linear Learner\", \"Host\": \"algo-1\", \"Operation\": \"training\", \"epoch\": 0, \"model\": 22}, \"Metrics\": {\"train_absolute_loss_objective\": {\"sum\": 0.7723895406723023, \"count\": 1, \"min\": 0.7723895406723023, \"max\": 0.7723895406723023}}}\n",
      "\u001b[0m\n",
      "\u001b[34m#metrics {\"StartTime\": 1634916582.3433433, \"EndTime\": 1634916582.3433547, \"Dimensions\": {\"Algorithm\": \"Linear Learner\", \"Host\": \"algo-1\", \"Operation\": \"training\", \"epoch\": 0, \"model\": 23}, \"Metrics\": {\"train_absolute_loss_objective\": {\"sum\": 0.851213788986206, \"count\": 1, \"min\": 0.851213788986206, \"max\": 0.851213788986206}}}\n",
      "\u001b[0m\n",
      "\u001b[34m#metrics {\"StartTime\": 1634916582.3433974, \"EndTime\": 1634916582.3434103, \"Dimensions\": {\"Algorithm\": \"Linear Learner\", \"Host\": \"algo-1\", \"Operation\": \"training\", \"epoch\": 0, \"model\": 24}, \"Metrics\": {\"train_absolute_loss_objective\": {\"sum\": 0.8684642601013184, \"count\": 1, \"min\": 0.8684642601013184, \"max\": 0.8684642601013184}}}\n",
      "\u001b[0m\n",
      "\u001b[34m#metrics {\"StartTime\": 1634916582.3434474, \"EndTime\": 1634916582.3434632, \"Dimensions\": {\"Algorithm\": \"Linear Learner\", \"Host\": \"algo-1\", \"Operation\": \"training\", \"epoch\": 0, \"model\": 25}, \"Metrics\": {\"train_absolute_loss_objective\": {\"sum\": 0.9359439659118652, \"count\": 1, \"min\": 0.9359439659118652, \"max\": 0.9359439659118652}}}\n",
      "\u001b[0m\n",
      "\u001b[34m#metrics {\"StartTime\": 1634916582.343516, \"EndTime\": 1634916582.343533, \"Dimensions\": {\"Algorithm\": \"Linear Learner\", \"Host\": \"algo-1\", \"Operation\": \"training\", \"epoch\": 0, \"model\": 26}, \"Metrics\": {\"train_absolute_loss_objective\": {\"sum\": 0.9226458358764649, \"count\": 1, \"min\": 0.9226458358764649, \"max\": 0.9226458358764649}}}\n",
      "\u001b[0m\n",
      "\u001b[34m#metrics {\"StartTime\": 1634916582.3435857, \"EndTime\": 1634916582.3436022, \"Dimensions\": {\"Algorithm\": \"Linear Learner\", \"Host\": \"algo-1\", \"Operation\": \"training\", \"epoch\": 0, \"model\": 27}, \"Metrics\": {\"train_absolute_loss_objective\": {\"sum\": 0.9117952060699462, \"count\": 1, \"min\": 0.9117952060699462, \"max\": 0.9117952060699462}}}\n",
      "\u001b[0m\n",
      "\u001b[34m#metrics {\"StartTime\": 1634916582.343637, \"EndTime\": 1634916582.3436465, \"Dimensions\": {\"Algorithm\": \"Linear Learner\", \"Host\": \"algo-1\", \"Operation\": \"training\", \"epoch\": 0, \"model\": 28}, \"Metrics\": {\"train_absolute_loss_objective\": {\"sum\": 1.457541217803955, \"count\": 1, \"min\": 1.457541217803955, \"max\": 1.457541217803955}}}\n",
      "\u001b[0m\n",
      "\u001b[34m#metrics {\"StartTime\": 1634916582.3436937, \"EndTime\": 1634916582.3437114, \"Dimensions\": {\"Algorithm\": \"Linear Learner\", \"Host\": \"algo-1\", \"Operation\": \"training\", \"epoch\": 0, \"model\": 29}, \"Metrics\": {\"train_absolute_loss_objective\": {\"sum\": 1.4570311737060546, \"count\": 1, \"min\": 1.4570311737060546, \"max\": 1.4570311737060546}}}\n",
      "\u001b[0m\n",
      "\u001b[34m#metrics {\"StartTime\": 1634916582.3437657, \"EndTime\": 1634916582.3437831, \"Dimensions\": {\"Algorithm\": \"Linear Learner\", \"Host\": \"algo-1\", \"Operation\": \"training\", \"epoch\": 0, \"model\": 30}, \"Metrics\": {\"train_absolute_loss_objective\": {\"sum\": 0.949718132019043, \"count\": 1, \"min\": 0.949718132019043, \"max\": 0.949718132019043}}}\n",
      "\u001b[0m\n",
      "\u001b[34m#metrics {\"StartTime\": 1634916582.3438358, \"EndTime\": 1634916582.343852, \"Dimensions\": {\"Algorithm\": \"Linear Learner\", \"Host\": \"algo-1\", \"Operation\": \"training\", \"epoch\": 0, \"model\": 31}, \"Metrics\": {\"train_absolute_loss_objective\": {\"sum\": 1.4653708839416504, \"count\": 1, \"min\": 1.4653708839416504, \"max\": 1.4653708839416504}}}\n",
      "\u001b[0m\n",
      "\u001b[34m[10/22/2021 15:29:42 INFO 140611341055808] #quality_metric: host=algo-1, epoch=0, train absolute_loss_objective <loss>=0.9025582695007324\u001b[0m\n",
      "\u001b[34m[10/22/2021 15:29:42 INFO 140611341055808] #early_stopping_criteria_metric: host=algo-1, epoch=0, criteria=absolute_loss_objective, value=0.7606943893432617\u001b[0m\n",
      "\u001b[34m[10/22/2021 15:29:42 INFO 140611341055808] Epoch 0: Loss improved. Updating best model\u001b[0m\n",
      "\u001b[34m[10/22/2021 15:29:42 INFO 140611341055808] Saving model for epoch: 0\u001b[0m\n",
      "\u001b[34m[10/22/2021 15:29:42 INFO 140611341055808] Saved checkpoint to \"/tmp/tmpkte5zlo1/mx-mod-0000.params\"\u001b[0m\n",
      "\u001b[34m[10/22/2021 15:29:42 INFO 140611341055808] #progress_metric: host=algo-1, completed 20.0 % of epochs\u001b[0m\n",
      "\u001b[34m#metrics {\"StartTime\": 1634916582.2092564, \"EndTime\": 1634916582.3604712, \"Dimensions\": {\"Algorithm\": \"Linear Learner\", \"Host\": \"algo-1\", \"Operation\": \"training\", \"epoch\": 0, \"Meta\": \"training_data_iter\"}, \"Metrics\": {\"Total Records Seen\": {\"sum\": 57.0, \"count\": 1, \"min\": 57, \"max\": 57}, \"Total Batches Seen\": {\"sum\": 13.0, \"count\": 1, \"min\": 13, \"max\": 13}, \"Max Records Seen Between Resets\": {\"sum\": 26.0, \"count\": 1, \"min\": 26, \"max\": 26}, \"Max Batches Seen Between Resets\": {\"sum\": 6.0, \"count\": 1, \"min\": 6, \"max\": 6}, \"Reset Count\": {\"sum\": 3.0, \"count\": 1, \"min\": 3, \"max\": 3}, \"Number of Records Since Last Reset\": {\"sum\": 26.0, \"count\": 1, \"min\": 26, \"max\": 26}, \"Number of Batches Since Last Reset\": {\"sum\": 6.0, \"count\": 1, \"min\": 6, \"max\": 6}}}\n",
      "\u001b[0m\n",
      "\u001b[34m[10/22/2021 15:29:42 INFO 140611341055808] #throughput_metric: host=algo-1, train throughput=171.77694117943565 records/second\u001b[0m\n",
      "\u001b[34m[2021-10-22 15:29:42.495] [tensorio] [info] epoch_stats={\"data_pipeline\": \"/opt/ml/input/data/train\", \"epoch\": 6, \"duration\": 134, \"num_examples\": 6, \"num_bytes\": 1248}\u001b[0m\n",
      "\u001b[34m#metrics {\"StartTime\": 1634916582.4954376, \"EndTime\": 1634916582.4955359, \"Dimensions\": {\"Algorithm\": \"Linear Learner\", \"Host\": \"algo-1\", \"Operation\": \"training\", \"epoch\": 1, \"model\": 0}, \"Metrics\": {\"train_absolute_loss_objective\": {\"sum\": 0.873364896774292, \"count\": 1, \"min\": 0.873364896774292, \"max\": 0.873364896774292}}}\n",
      "\u001b[0m\n",
      "\u001b[34m#metrics {\"StartTime\": 1634916582.4956203, \"EndTime\": 1634916582.495641, \"Dimensions\": {\"Algorithm\": \"Linear Learner\", \"Host\": \"algo-1\", \"Operation\": \"training\", \"epoch\": 1, \"model\": 1}, \"Metrics\": {\"train_absolute_loss_objective\": {\"sum\": 0.8932265090942383, \"count\": 1, \"min\": 0.8932265090942383, \"max\": 0.8932265090942383}}}\n",
      "\u001b[0m\n",
      "\u001b[34m#metrics {\"StartTime\": 1634916582.4957023, \"EndTime\": 1634916582.4957223, \"Dimensions\": {\"Algorithm\": \"Linear Learner\", \"Host\": \"algo-1\", \"Operation\": \"training\", \"epoch\": 1, \"model\": 2}, \"Metrics\": {\"train_absolute_loss_objective\": {\"sum\": 0.8757708644866944, \"count\": 1, \"min\": 0.8757708644866944, \"max\": 0.8757708644866944}}}\n",
      "\u001b[0m\n",
      "\u001b[34m#metrics {\"StartTime\": 1634916582.495781, \"EndTime\": 1634916582.4958, \"Dimensions\": {\"Algorithm\": \"Linear Learner\", \"Host\": \"algo-1\", \"Operation\": \"training\", \"epoch\": 1, \"model\": 3}, \"Metrics\": {\"train_absolute_loss_objective\": {\"sum\": 0.8922115039825439, \"count\": 1, \"min\": 0.8922115039825439, \"max\": 0.8922115039825439}}}\n",
      "\u001b[0m\n",
      "\u001b[34m#metrics {\"StartTime\": 1634916582.4958665, \"EndTime\": 1634916582.4958868, \"Dimensions\": {\"Algorithm\": \"Linear Learner\", \"Host\": \"algo-1\", \"Operation\": \"training\", \"epoch\": 1, \"model\": 4}, \"Metrics\": {\"train_absolute_loss_objective\": {\"sum\": 0.7173422050476074, \"count\": 1, \"min\": 0.7173422050476074, \"max\": 0.7173422050476074}}}\n",
      "\u001b[0m\n",
      "\u001b[34m#metrics {\"StartTime\": 1634916582.4959555, \"EndTime\": 1634916582.495974, \"Dimensions\": {\"Algorithm\": \"Linear Learner\", \"Host\": \"algo-1\", \"Operation\": \"training\", \"epoch\": 1, \"model\": 5}, \"Metrics\": {\"train_absolute_loss_objective\": {\"sum\": 0.7184321928024292, \"count\": 1, \"min\": 0.7184321928024292, \"max\": 0.7184321928024292}}}\n",
      "\u001b[0m\n",
      "\u001b[34m#metrics {\"StartTime\": 1634916582.4960299, \"EndTime\": 1634916582.4960468, \"Dimensions\": {\"Algorithm\": \"Linear Learner\", \"Host\": \"algo-1\", \"Operation\": \"training\", \"epoch\": 1, \"model\": 6}, \"Metrics\": {\"train_absolute_loss_objective\": {\"sum\": 0.6705564641952515, \"count\": 1, \"min\": 0.6705564641952515, \"max\": 0.6705564641952515}}}\n",
      "\u001b[0m\n",
      "\u001b[34m#metrics {\"StartTime\": 1634916582.49611, \"EndTime\": 1634916582.4961278, \"Dimensions\": {\"Algorithm\": \"Linear Learner\", \"Host\": \"algo-1\", \"Operation\": \"training\", \"epoch\": 1, \"model\": 7}, \"Metrics\": {\"train_absolute_loss_objective\": {\"sum\": 0.6574579954147339, \"count\": 1, \"min\": 0.6574579954147339, \"max\": 0.6574579954147339}}}\n",
      "\u001b[0m\n",
      "\u001b[34m#metrics {\"StartTime\": 1634916582.4961894, \"EndTime\": 1634916582.4962056, \"Dimensions\": {\"Algorithm\": \"Linear Learner\", \"Host\": \"algo-1\", \"Operation\": \"training\", \"epoch\": 1, \"model\": 8}, \"Metrics\": {\"train_absolute_loss_objective\": {\"sum\": 0.9291315078735352, \"count\": 1, \"min\": 0.9291315078735352, \"max\": 0.9291315078735352}}}\n",
      "\u001b[0m\n",
      "\u001b[34m#metrics {\"StartTime\": 1634916582.4962602, \"EndTime\": 1634916582.4962788, \"Dimensions\": {\"Algorithm\": \"Linear Learner\", \"Host\": \"algo-1\", \"Operation\": \"training\", \"epoch\": 1, \"model\": 9}, \"Metrics\": {\"train_absolute_loss_objective\": {\"sum\": 0.8613640022277832, \"count\": 1, \"min\": 0.8613640022277832, \"max\": 0.8613640022277832}}}\n",
      "\u001b[0m\n",
      "\u001b[34m#metrics {\"StartTime\": 1634916582.496345, \"EndTime\": 1634916582.496364, \"Dimensions\": {\"Algorithm\": \"Linear Learner\", \"Host\": \"algo-1\", \"Operation\": \"training\", \"epoch\": 1, \"model\": 10}, \"Metrics\": {\"train_absolute_loss_objective\": {\"sum\": 0.8680469226837159, \"count\": 1, \"min\": 0.8680469226837159, \"max\": 0.8680469226837159}}}\n",
      "\u001b[0m\n",
      "\u001b[34m#metrics {\"StartTime\": 1634916582.4964328, \"EndTime\": 1634916582.4964511, \"Dimensions\": {\"Algorithm\": \"Linear Learner\", \"Host\": \"algo-1\", \"Operation\": \"training\", \"epoch\": 1, \"model\": 11}, \"Metrics\": {\"train_absolute_loss_objective\": {\"sum\": 0.8532690811157226, \"count\": 1, \"min\": 0.8532690811157226, \"max\": 0.8532690811157226}}}\n",
      "\u001b[0m\n",
      "\u001b[34m#metrics {\"StartTime\": 1634916582.496518, \"EndTime\": 1634916582.4965367, \"Dimensions\": {\"Algorithm\": \"Linear Learner\", \"Host\": \"algo-1\", \"Operation\": \"training\", \"epoch\": 1, \"model\": 12}, \"Metrics\": {\"train_absolute_loss_objective\": {\"sum\": 0.7183646965026855, \"count\": 1, \"min\": 0.7183646965026855, \"max\": 0.7183646965026855}}}\n",
      "\u001b[0m\n",
      "\u001b[34m#metrics {\"StartTime\": 1634916582.4966013, \"EndTime\": 1634916582.4966192, \"Dimensions\": {\"Algorithm\": \"Linear Learner\", \"Host\": \"algo-1\", \"Operation\": \"training\", \"epoch\": 1, \"model\": 13}, \"Metrics\": {\"train_absolute_loss_objective\": {\"sum\": 0.6445896029472351, \"count\": 1, \"min\": 0.6445896029472351, \"max\": 0.6445896029472351}}}\n",
      "\u001b[0m\n",
      "\u001b[34m#metrics {\"StartTime\": 1634916582.4966753, \"EndTime\": 1634916582.4966922, \"Dimensions\": {\"Algorithm\": \"Linear Learner\", \"Host\": \"algo-1\", \"Operation\": \"training\", \"epoch\": 1, \"model\": 14}, \"Metrics\": {\"train_absolute_loss_objective\": {\"sum\": 0.7181982707977295, \"count\": 1, \"min\": 0.7181982707977295, \"max\": 0.7181982707977295}}}\n",
      "\u001b[0m\n",
      "\u001b[34m#metrics {\"StartTime\": 1634916582.4967449, \"EndTime\": 1634916582.4967613, \"Dimensions\": {\"Algorithm\": \"Linear Learner\", \"Host\": \"algo-1\", \"Operation\": \"training\", \"epoch\": 1, \"model\": 15}, \"Metrics\": {\"train_absolute_loss_objective\": {\"sum\": 0.6474338626861572, \"count\": 1, \"min\": 0.6474338626861572, \"max\": 0.6474338626861572}}}\n",
      "\u001b[0m\n",
      "\u001b[34m#metrics {\"StartTime\": 1634916582.496813, \"EndTime\": 1634916582.49683, \"Dimensions\": {\"Algorithm\": \"Linear Learner\", \"Host\": \"algo-1\", \"Operation\": \"training\", \"epoch\": 1, \"model\": 16}, \"Metrics\": {\"train_absolute_loss_objective\": {\"sum\": 0.837399559020996, \"count\": 1, \"min\": 0.837399559020996, \"max\": 0.837399559020996}}}\n",
      "\u001b[0m\n",
      "\u001b[34m#metrics {\"StartTime\": 1634916582.4968793, \"EndTime\": 1634916582.496894, \"Dimensions\": {\"Algorithm\": \"Linear Learner\", \"Host\": \"algo-1\", \"Operation\": \"training\", \"epoch\": 1, \"model\": 17}, \"Metrics\": {\"train_absolute_loss_objective\": {\"sum\": 0.8885187911987305, \"count\": 1, \"min\": 0.8885187911987305, \"max\": 0.8885187911987305}}}\n",
      "\u001b[0m\n",
      "\u001b[34m#metrics {\"StartTime\": 1634916582.4969454, \"EndTime\": 1634916582.496963, \"Dimensions\": {\"Algorithm\": \"Linear Learner\", \"Host\": \"algo-1\", \"Operation\": \"training\", \"epoch\": 1, \"model\": 18}, \"Metrics\": {\"train_absolute_loss_objective\": {\"sum\": 0.8643928909301758, \"count\": 1, \"min\": 0.8643928909301758, \"max\": 0.8643928909301758}}}\n",
      "\u001b[0m\n",
      "\u001b[34m#metrics {\"StartTime\": 1634916582.4970179, \"EndTime\": 1634916582.497036, \"Dimensions\": {\"Algorithm\": \"Linear Learner\", \"Host\": \"algo-1\", \"Operation\": \"training\", \"epoch\": 1, \"model\": 19}, \"Metrics\": {\"train_absolute_loss_objective\": {\"sum\": 0.8616980934143066, \"count\": 1, \"min\": 0.8616980934143066, \"max\": 0.8616980934143066}}}\n",
      "\u001b[0m\n",
      "\u001b[34m#metrics {\"StartTime\": 1634916582.4971004, \"EndTime\": 1634916582.4971192, \"Dimensions\": {\"Algorithm\": \"Linear Learner\", \"Host\": \"algo-1\", \"Operation\": \"training\", \"epoch\": 1, \"model\": 20}, \"Metrics\": {\"train_absolute_loss_objective\": {\"sum\": 0.6827669763565063, \"count\": 1, \"min\": 0.6827669763565063, \"max\": 0.6827669763565063}}}\n",
      "\u001b[0m\n",
      "\u001b[34m#metrics {\"StartTime\": 1634916582.4971874, \"EndTime\": 1634916582.4972067, \"Dimensions\": {\"Algorithm\": \"Linear Learner\", \"Host\": \"algo-1\", \"Operation\": \"training\", \"epoch\": 1, \"model\": 21}, \"Metrics\": {\"train_absolute_loss_objective\": {\"sum\": 0.6469607019424438, \"count\": 1, \"min\": 0.6469607019424438, \"max\": 0.6469607019424438}}}\n",
      "\u001b[0m\n",
      "\u001b[34m#metrics {\"StartTime\": 1634916582.4972746, \"EndTime\": 1634916582.497293, \"Dimensions\": {\"Algorithm\": \"Linear Learner\", \"Host\": \"algo-1\", \"Operation\": \"training\", \"epoch\": 1, \"model\": 22}, \"Metrics\": {\"train_absolute_loss_objective\": {\"sum\": 0.7166551113128662, \"count\": 1, \"min\": 0.7166551113128662, \"max\": 0.7166551113128662}}}\n",
      "\u001b[0m\n",
      "\u001b[34m#metrics {\"StartTime\": 1634916582.4973545, \"EndTime\": 1634916582.4973722, \"Dimensions\": {\"Algorithm\": \"Linear Learner\", \"Host\": \"algo-1\", \"Operation\": \"training\", \"epoch\": 1, \"model\": 23}, \"Metrics\": {\"train_absolute_loss_objective\": {\"sum\": 0.612754979133606, \"count\": 1, \"min\": 0.612754979133606, \"max\": 0.612754979133606}}}\n",
      "\u001b[0m\n",
      "\u001b[34m#metrics {\"StartTime\": 1634916582.4974358, \"EndTime\": 1634916582.4974554, \"Dimensions\": {\"Algorithm\": \"Linear Learner\", \"Host\": \"algo-1\", \"Operation\": \"training\", \"epoch\": 1, \"model\": 24}, \"Metrics\": {\"train_absolute_loss_objective\": {\"sum\": 0.8812532901763916, \"count\": 1, \"min\": 0.8812532901763916, \"max\": 0.8812532901763916}}}\n",
      "\u001b[0m\n",
      "\u001b[34m#metrics {\"StartTime\": 1634916582.497513, \"EndTime\": 1634916582.4975314, \"Dimensions\": {\"Algorithm\": \"Linear Learner\", \"Host\": \"algo-1\", \"Operation\": \"training\", \"epoch\": 1, \"model\": 25}, \"Metrics\": {\"train_absolute_loss_objective\": {\"sum\": 0.9080569458007812, \"count\": 1, \"min\": 0.9080569458007812, \"max\": 0.9080569458007812}}}\n",
      "\u001b[0m\n",
      "\u001b[34m#metrics {\"StartTime\": 1634916582.4975872, \"EndTime\": 1634916582.497605, \"Dimensions\": {\"Algorithm\": \"Linear Learner\", \"Host\": \"algo-1\", \"Operation\": \"training\", \"epoch\": 1, \"model\": 26}, \"Metrics\": {\"train_absolute_loss_objective\": {\"sum\": 0.8974017906188965, \"count\": 1, \"min\": 0.8974017906188965, \"max\": 0.8974017906188965}}}\n",
      "\u001b[0m\n",
      "\u001b[34m#metrics {\"StartTime\": 1634916582.4976633, \"EndTime\": 1634916582.4976802, \"Dimensions\": {\"Algorithm\": \"Linear Learner\", \"Host\": \"algo-1\", \"Operation\": \"training\", \"epoch\": 1, \"model\": 27}, \"Metrics\": {\"train_absolute_loss_objective\": {\"sum\": 0.8967292404174805, \"count\": 1, \"min\": 0.8967292404174805, \"max\": 0.8967292404174805}}}\n",
      "\u001b[0m\n",
      "\u001b[34m#metrics {\"StartTime\": 1634916582.4977353, \"EndTime\": 1634916582.4977536, \"Dimensions\": {\"Algorithm\": \"Linear Learner\", \"Host\": \"algo-1\", \"Operation\": \"training\", \"epoch\": 1, \"model\": 28}, \"Metrics\": {\"train_absolute_loss_objective\": {\"sum\": 0.9747148609161377, \"count\": 1, \"min\": 0.9747148609161377, \"max\": 0.9747148609161377}}}\n",
      "\u001b[0m\n",
      "\u001b[34m#metrics {\"StartTime\": 1634916582.4978085, \"EndTime\": 1634916582.497827, \"Dimensions\": {\"Algorithm\": \"Linear Learner\", \"Host\": \"algo-1\", \"Operation\": \"training\", \"epoch\": 1, \"model\": 29}, \"Metrics\": {\"train_absolute_loss_objective\": {\"sum\": 0.974008903503418, \"count\": 1, \"min\": 0.974008903503418, \"max\": 0.974008903503418}}}\n",
      "\u001b[0m\n",
      "\u001b[34m#metrics {\"StartTime\": 1634916582.4978802, \"EndTime\": 1634916582.4978974, \"Dimensions\": {\"Algorithm\": \"Linear Learner\", \"Host\": \"algo-1\", \"Operation\": \"training\", \"epoch\": 1, \"model\": 30}, \"Metrics\": {\"train_absolute_loss_objective\": {\"sum\": 1.0233741188049317, \"count\": 1, \"min\": 1.0233741188049317, \"max\": 1.0233741188049317}}}\n",
      "\u001b[0m\n",
      "\u001b[34m#metrics {\"StartTime\": 1634916582.4979541, \"EndTime\": 1634916582.497972, \"Dimensions\": {\"Algorithm\": \"Linear Learner\", \"Host\": \"algo-1\", \"Operation\": \"training\", \"epoch\": 1, \"model\": 31}, \"Metrics\": {\"train_absolute_loss_objective\": {\"sum\": 0.9665180015563964, \"count\": 1, \"min\": 0.9665180015563964, \"max\": 0.9665180015563964}}}\n",
      "\u001b[0m\n",
      "\u001b[34m[10/22/2021 15:29:42 INFO 140611341055808] #quality_metric: host=algo-1, epoch=1, train absolute_loss_objective <loss>=0.873364896774292\u001b[0m\n",
      "\u001b[34m[10/22/2021 15:29:42 INFO 140611341055808] #early_stopping_criteria_metric: host=algo-1, epoch=1, criteria=absolute_loss_objective, value=0.612754979133606\u001b[0m\n",
      "\u001b[34m[10/22/2021 15:29:42 INFO 140611341055808] Epoch 1: Loss improved. Updating best model\u001b[0m\n",
      "\u001b[34m[10/22/2021 15:29:42 INFO 140611341055808] Saving model for epoch: 1\u001b[0m\n",
      "\u001b[34m[10/22/2021 15:29:42 INFO 140611341055808] Saved checkpoint to \"/tmp/tmp9_ndggtv/mx-mod-0000.params\"\u001b[0m\n",
      "\u001b[34m[10/22/2021 15:29:42 INFO 140611341055808] #progress_metric: host=algo-1, completed 40.0 % of epochs\u001b[0m\n",
      "\u001b[34m#metrics {\"StartTime\": 1634916582.3608217, \"EndTime\": 1634916582.5097072, \"Dimensions\": {\"Algorithm\": \"Linear Learner\", \"Host\": \"algo-1\", \"Operation\": \"training\", \"epoch\": 1, \"Meta\": \"training_data_iter\"}, \"Metrics\": {\"Total Records Seen\": {\"sum\": 83.0, \"count\": 1, \"min\": 83, \"max\": 83}, \"Total Batches Seen\": {\"sum\": 19.0, \"count\": 1, \"min\": 19, \"max\": 19}, \"Max Records Seen Between Resets\": {\"sum\": 26.0, \"count\": 1, \"min\": 26, \"max\": 26}, \"Max Batches Seen Between Resets\": {\"sum\": 6.0, \"count\": 1, \"min\": 6, \"max\": 6}, \"Reset Count\": {\"sum\": 4.0, \"count\": 1, \"min\": 4, \"max\": 4}, \"Number of Records Since Last Reset\": {\"sum\": 26.0, \"count\": 1, \"min\": 26, \"max\": 26}, \"Number of Batches Since Last Reset\": {\"sum\": 6.0, \"count\": 1, \"min\": 6, \"max\": 6}}}\n",
      "\u001b[0m\n",
      "\u001b[34m[10/22/2021 15:29:42 INFO 140611341055808] #throughput_metric: host=algo-1, train throughput=174.45038928712546 records/second\u001b[0m\n",
      "\u001b[34m[2021-10-22 15:29:42.632] [tensorio] [info] epoch_stats={\"data_pipeline\": \"/opt/ml/input/data/train\", \"epoch\": 8, \"duration\": 121, \"num_examples\": 6, \"num_bytes\": 1248}\u001b[0m\n",
      "\u001b[34m#metrics {\"StartTime\": 1634916582.6321201, \"EndTime\": 1634916582.6322114, \"Dimensions\": {\"Algorithm\": \"Linear Learner\", \"Host\": \"algo-1\", \"Operation\": \"training\", \"epoch\": 2, \"model\": 0}, \"Metrics\": {\"train_absolute_loss_objective\": {\"sum\": 0.8505103588104248, \"count\": 1, \"min\": 0.8505103588104248, \"max\": 0.8505103588104248}}}\n",
      "\u001b[0m\n",
      "\u001b[34m#metrics {\"StartTime\": 1634916582.6323075, \"EndTime\": 1634916582.632331, \"Dimensions\": {\"Algorithm\": \"Linear Learner\", \"Host\": \"algo-1\", \"Operation\": \"training\", \"epoch\": 2, \"model\": 1}, \"Metrics\": {\"train_absolute_loss_objective\": {\"sum\": 0.8702970504760742, \"count\": 1, \"min\": 0.8702970504760742, \"max\": 0.8702970504760742}}}\n",
      "\u001b[0m\n",
      "\u001b[34m#metrics {\"StartTime\": 1634916582.632396, \"EndTime\": 1634916582.6324153, \"Dimensions\": {\"Algorithm\": \"Linear Learner\", \"Host\": \"algo-1\", \"Operation\": \"training\", \"epoch\": 2, \"model\": 2}, \"Metrics\": {\"train_absolute_loss_objective\": {\"sum\": 0.8529163074493408, \"count\": 1, \"min\": 0.8529163074493408, \"max\": 0.8529163074493408}}}\n",
      "\u001b[0m\n",
      "\u001b[34m#metrics {\"StartTime\": 1634916582.6324754, \"EndTime\": 1634916582.6324937, \"Dimensions\": {\"Algorithm\": \"Linear Learner\", \"Host\": \"algo-1\", \"Operation\": \"training\", \"epoch\": 2, \"model\": 3}, \"Metrics\": {\"train_absolute_loss_objective\": {\"sum\": 0.8692820358276367, \"count\": 1, \"min\": 0.8692820358276367, \"max\": 0.8692820358276367}}}\n",
      "\u001b[0m\n",
      "\u001b[34m#metrics {\"StartTime\": 1634916582.6325526, \"EndTime\": 1634916582.6325717, \"Dimensions\": {\"Algorithm\": \"Linear Learner\", \"Host\": \"algo-1\", \"Operation\": \"training\", \"epoch\": 2, \"model\": 4}, \"Metrics\": {\"train_absolute_loss_objective\": {\"sum\": 0.39476617813110354, \"count\": 1, \"min\": 0.39476617813110354, \"max\": 0.39476617813110354}}}\n",
      "\u001b[0m\n",
      "\u001b[34m#metrics {\"StartTime\": 1634916582.6326282, \"EndTime\": 1634916582.6326458, \"Dimensions\": {\"Algorithm\": \"Linear Learner\", \"Host\": \"algo-1\", \"Operation\": \"training\", \"epoch\": 2, \"model\": 5}, \"Metrics\": {\"train_absolute_loss_objective\": {\"sum\": 0.39208423376083373, \"count\": 1, \"min\": 0.39208423376083373, \"max\": 0.39208423376083373}}}\n",
      "\u001b[0m\n",
      "\u001b[34m#metrics {\"StartTime\": 1634916582.6327062, \"EndTime\": 1634916582.632725, \"Dimensions\": {\"Algorithm\": \"Linear Learner\", \"Host\": \"algo-1\", \"Operation\": \"training\", \"epoch\": 2, \"model\": 6}, \"Metrics\": {\"train_absolute_loss_objective\": {\"sum\": 0.28768047332763674, \"count\": 1, \"min\": 0.28768047332763674, \"max\": 0.28768047332763674}}}\n",
      "\u001b[0m\n",
      "\u001b[34m#metrics {\"StartTime\": 1634916582.6327822, \"EndTime\": 1634916582.6328006, \"Dimensions\": {\"Algorithm\": \"Linear Learner\", \"Host\": \"algo-1\", \"Operation\": \"training\", \"epoch\": 2, \"model\": 7}, \"Metrics\": {\"train_absolute_loss_objective\": {\"sum\": 0.3495473289489746, \"count\": 1, \"min\": 0.3495473289489746, \"max\": 0.3495473289489746}}}\n",
      "\u001b[0m\n",
      "\u001b[34m#metrics {\"StartTime\": 1634916582.6328566, \"EndTime\": 1634916582.6328747, \"Dimensions\": {\"Algorithm\": \"Linear Learner\", \"Host\": \"algo-1\", \"Operation\": \"training\", \"epoch\": 2, \"model\": 8}, \"Metrics\": {\"train_absolute_loss_objective\": {\"sum\": 0.9062777996063233, \"count\": 1, \"min\": 0.9062777996063233, \"max\": 0.9062777996063233}}}\n",
      "\u001b[0m\n",
      "\u001b[34m#metrics {\"StartTime\": 1634916582.6329298, \"EndTime\": 1634916582.6329484, \"Dimensions\": {\"Algorithm\": \"Linear Learner\", \"Host\": \"algo-1\", \"Operation\": \"training\", \"epoch\": 2, \"model\": 9}, \"Metrics\": {\"train_absolute_loss_objective\": {\"sum\": 0.8384359359741211, \"count\": 1, \"min\": 0.8384359359741211, \"max\": 0.8384359359741211}}}\n",
      "\u001b[0m\n",
      "\u001b[34m#metrics {\"StartTime\": 1634916582.6330054, \"EndTime\": 1634916582.6330223, \"Dimensions\": {\"Algorithm\": \"Linear Learner\", \"Host\": \"algo-1\", \"Operation\": \"training\", \"epoch\": 2, \"model\": 10}, \"Metrics\": {\"train_absolute_loss_objective\": {\"sum\": 0.8451937007904052, \"count\": 1, \"min\": 0.8451937007904052, \"max\": 0.8451937007904052}}}\n",
      "\u001b[0m\n",
      "\u001b[34m#metrics {\"StartTime\": 1634916582.6330783, \"EndTime\": 1634916582.6330967, \"Dimensions\": {\"Algorithm\": \"Linear Learner\", \"Host\": \"algo-1\", \"Operation\": \"training\", \"epoch\": 2, \"model\": 11}, \"Metrics\": {\"train_absolute_loss_objective\": {\"sum\": 0.8303410625457763, \"count\": 1, \"min\": 0.8303410625457763, \"max\": 0.8303410625457763}}}\n",
      "\u001b[0m\n",
      "\u001b[34m#metrics {\"StartTime\": 1634916582.6331542, \"EndTime\": 1634916582.633173, \"Dimensions\": {\"Algorithm\": \"Linear Learner\", \"Host\": \"algo-1\", \"Operation\": \"training\", \"epoch\": 2, \"model\": 12}, \"Metrics\": {\"train_absolute_loss_objective\": {\"sum\": 0.39211828231811524, \"count\": 1, \"min\": 0.39211828231811524, \"max\": 0.39211828231811524}}}\n",
      "\u001b[0m\n",
      "\u001b[34m#metrics {\"StartTime\": 1634916582.6332297, \"EndTime\": 1634916582.6332479, \"Dimensions\": {\"Algorithm\": \"Linear Learner\", \"Host\": \"algo-1\", \"Operation\": \"training\", \"epoch\": 2, \"model\": 13}, \"Metrics\": {\"train_absolute_loss_objective\": {\"sum\": 0.3616846680641174, \"count\": 1, \"min\": 0.3616846680641174, \"max\": 0.3616846680641174}}}\n",
      "\u001b[0m\n",
      "\u001b[34m#metrics {\"StartTime\": 1634916582.6333048, \"EndTime\": 1634916582.6333237, \"Dimensions\": {\"Algorithm\": \"Linear Learner\", \"Host\": \"algo-1\", \"Operation\": \"training\", \"epoch\": 2, \"model\": 14}, \"Metrics\": {\"train_absolute_loss_objective\": {\"sum\": 0.39242895841598513, \"count\": 1, \"min\": 0.39242895841598513, \"max\": 0.39242895841598513}}}\n",
      "\u001b[0m\n",
      "\u001b[34m#metrics {\"StartTime\": 1634916582.633379, \"EndTime\": 1634916582.6333976, \"Dimensions\": {\"Algorithm\": \"Linear Learner\", \"Host\": \"algo-1\", \"Operation\": \"training\", \"epoch\": 2, \"model\": 15}, \"Metrics\": {\"train_absolute_loss_objective\": {\"sum\": 0.3588073778152466, \"count\": 1, \"min\": 0.3588073778152466, \"max\": 0.3588073778152466}}}\n",
      "\u001b[0m\n",
      "\u001b[34m#metrics {\"StartTime\": 1634916582.6334548, \"EndTime\": 1634916582.633472, \"Dimensions\": {\"Algorithm\": \"Linear Learner\", \"Host\": \"algo-1\", \"Operation\": \"training\", \"epoch\": 2, \"model\": 16}, \"Metrics\": {\"train_absolute_loss_objective\": {\"sum\": 0.8147201538085938, \"count\": 1, \"min\": 0.8147201538085938, \"max\": 0.8147201538085938}}}\n",
      "\u001b[0m\n",
      "\u001b[34m#metrics {\"StartTime\": 1634916582.6335266, \"EndTime\": 1634916582.633545, \"Dimensions\": {\"Algorithm\": \"Linear Learner\", \"Host\": \"algo-1\", \"Operation\": \"training\", \"epoch\": 2, \"model\": 17}, \"Metrics\": {\"train_absolute_loss_objective\": {\"sum\": 0.8657115650177002, \"count\": 1, \"min\": 0.8657115650177002, \"max\": 0.8657115650177002}}}\n",
      "\u001b[0m\n",
      "\u001b[34m#metrics {\"StartTime\": 1634916582.6336007, \"EndTime\": 1634916582.6336198, \"Dimensions\": {\"Algorithm\": \"Linear Learner\", \"Host\": \"algo-1\", \"Operation\": \"training\", \"epoch\": 2, \"model\": 18}, \"Metrics\": {\"train_absolute_loss_objective\": {\"sum\": 0.8416840076446533, \"count\": 1, \"min\": 0.8416840076446533, \"max\": 0.8416840076446533}}}\n",
      "\u001b[0m\n",
      "\u001b[34m#metrics {\"StartTime\": 1634916582.6336765, \"EndTime\": 1634916582.6336937, \"Dimensions\": {\"Algorithm\": \"Linear Learner\", \"Host\": \"algo-1\", \"Operation\": \"training\", \"epoch\": 2, \"model\": 19}, \"Metrics\": {\"train_absolute_loss_objective\": {\"sum\": 0.838917818069458, \"count\": 1, \"min\": 0.838917818069458, \"max\": 0.838917818069458}}}\n",
      "\u001b[0m\n",
      "\u001b[34m#metrics {\"StartTime\": 1634916582.6337485, \"EndTime\": 1634916582.633767, \"Dimensions\": {\"Algorithm\": \"Linear Learner\", \"Host\": \"algo-1\", \"Operation\": \"training\", \"epoch\": 2, \"model\": 20}, \"Metrics\": {\"train_absolute_loss_objective\": {\"sum\": 0.3316535472869873, \"count\": 1, \"min\": 0.3316535472869873, \"max\": 0.3316535472869873}}}\n",
      "\u001b[0m\n",
      "\u001b[34m#metrics {\"StartTime\": 1634916582.6338215, \"EndTime\": 1634916582.6338394, \"Dimensions\": {\"Algorithm\": \"Linear Learner\", \"Host\": \"algo-1\", \"Operation\": \"training\", \"epoch\": 2, \"model\": 21}, \"Metrics\": {\"train_absolute_loss_objective\": {\"sum\": 0.3528084182739258, \"count\": 1, \"min\": 0.3528084182739258, \"max\": 0.3528084182739258}}}\n",
      "\u001b[0m\n",
      "\u001b[34m#metrics {\"StartTime\": 1634916582.6338954, \"EndTime\": 1634916582.6339126, \"Dimensions\": {\"Algorithm\": \"Linear Learner\", \"Host\": \"algo-1\", \"Operation\": \"training\", \"epoch\": 2, \"model\": 22}, \"Metrics\": {\"train_absolute_loss_objective\": {\"sum\": 0.5575274419784546, \"count\": 1, \"min\": 0.5575274419784546, \"max\": 0.5575274419784546}}}\n",
      "\u001b[0m\n",
      "\u001b[34m#metrics {\"StartTime\": 1634916582.6339664, \"EndTime\": 1634916582.633984, \"Dimensions\": {\"Algorithm\": \"Linear Learner\", \"Host\": \"algo-1\", \"Operation\": \"training\", \"epoch\": 2, \"model\": 23}, \"Metrics\": {\"train_absolute_loss_objective\": {\"sum\": 0.2686766028404236, \"count\": 1, \"min\": 0.2686766028404236, \"max\": 0.2686766028404236}}}\n",
      "\u001b[0m\n",
      "\u001b[34m#metrics {\"StartTime\": 1634916582.6340406, \"EndTime\": 1634916582.6340585, \"Dimensions\": {\"Algorithm\": \"Linear Learner\", \"Host\": \"algo-1\", \"Operation\": \"training\", \"epoch\": 2, \"model\": 24}, \"Metrics\": {\"train_absolute_loss_objective\": {\"sum\": 0.8970227909088134, \"count\": 1, \"min\": 0.8970227909088134, \"max\": 0.8970227909088134}}}\n",
      "\u001b[0m\n",
      "\u001b[34m#metrics {\"StartTime\": 1634916582.6341236, \"EndTime\": 1634916582.6341424, \"Dimensions\": {\"Algorithm\": \"Linear Learner\", \"Host\": \"algo-1\", \"Operation\": \"training\", \"epoch\": 2, \"model\": 25}, \"Metrics\": {\"train_absolute_loss_objective\": {\"sum\": 0.8924738788604736, \"count\": 1, \"min\": 0.8924738788604736, \"max\": 0.8924738788604736}}}\n",
      "\u001b[0m\n",
      "\u001b[34m#metrics {\"StartTime\": 1634916582.6342084, \"EndTime\": 1634916582.6342275, \"Dimensions\": {\"Algorithm\": \"Linear Learner\", \"Host\": \"algo-1\", \"Operation\": \"training\", \"epoch\": 2, \"model\": 26}, \"Metrics\": {\"train_absolute_loss_objective\": {\"sum\": 0.8912821674346924, \"count\": 1, \"min\": 0.8912821674346924, \"max\": 0.8912821674346924}}}\n",
      "\u001b[0m\n",
      "\u001b[34m#metrics {\"StartTime\": 1634916582.6342864, \"EndTime\": 1634916582.6343043, \"Dimensions\": {\"Algorithm\": \"Linear Learner\", \"Host\": \"algo-1\", \"Operation\": \"training\", \"epoch\": 2, \"model\": 27}, \"Metrics\": {\"train_absolute_loss_objective\": {\"sum\": 0.9008549880981446, \"count\": 1, \"min\": 0.9008549880981446, \"max\": 0.9008549880981446}}}\n",
      "\u001b[0m\n",
      "\u001b[34m#metrics {\"StartTime\": 1634916582.6343637, \"EndTime\": 1634916582.634381, \"Dimensions\": {\"Algorithm\": \"Linear Learner\", \"Host\": \"algo-1\", \"Operation\": \"training\", \"epoch\": 2, \"model\": 28}, \"Metrics\": {\"train_absolute_loss_objective\": {\"sum\": 1.112950506210327, \"count\": 1, \"min\": 1.112950506210327, \"max\": 1.112950506210327}}}\n",
      "\u001b[0m\n",
      "\u001b[34m#metrics {\"StartTime\": 1634916582.634439, \"EndTime\": 1634916582.6344569, \"Dimensions\": {\"Algorithm\": \"Linear Learner\", \"Host\": \"algo-1\", \"Operation\": \"training\", \"epoch\": 2, \"model\": 29}, \"Metrics\": {\"train_absolute_loss_objective\": {\"sum\": 1.1118891048431396, \"count\": 1, \"min\": 1.1118891048431396, \"max\": 1.1118891048431396}}}\n",
      "\u001b[0m\n",
      "\u001b[34m#metrics {\"StartTime\": 1634916582.6345153, \"EndTime\": 1634916582.634533, \"Dimensions\": {\"Algorithm\": \"Linear Learner\", \"Host\": \"algo-1\", \"Operation\": \"training\", \"epoch\": 2, \"model\": 30}, \"Metrics\": {\"train_absolute_loss_objective\": {\"sum\": 1.0306361770629884, \"count\": 1, \"min\": 1.0306361770629884, \"max\": 1.0306361770629884}}}\n",
      "\u001b[0m\n",
      "\u001b[34m#metrics {\"StartTime\": 1634916582.6345942, \"EndTime\": 1634916582.6346128, \"Dimensions\": {\"Algorithm\": \"Linear Learner\", \"Host\": \"algo-1\", \"Operation\": \"training\", \"epoch\": 2, \"model\": 31}, \"Metrics\": {\"train_absolute_loss_objective\": {\"sum\": 1.1201232719421386, \"count\": 1, \"min\": 1.1201232719421386, \"max\": 1.1201232719421386}}}\n",
      "\u001b[0m\n",
      "\u001b[34m[10/22/2021 15:29:42 INFO 140611341055808] #quality_metric: host=algo-1, epoch=2, train absolute_loss_objective <loss>=0.8505103588104248\u001b[0m\n",
      "\u001b[34m[10/22/2021 15:29:42 INFO 140611341055808] #early_stopping_criteria_metric: host=algo-1, epoch=2, criteria=absolute_loss_objective, value=0.2686766028404236\u001b[0m\n",
      "\u001b[34m[10/22/2021 15:29:42 INFO 140611341055808] Epoch 2: Loss improved. Updating best model\u001b[0m\n",
      "\u001b[34m[10/22/2021 15:29:42 INFO 140611341055808] Saving model for epoch: 2\u001b[0m\n",
      "\u001b[34m[10/22/2021 15:29:42 INFO 140611341055808] Saved checkpoint to \"/tmp/tmpqyoz95hc/mx-mod-0000.params\"\u001b[0m\n",
      "\u001b[34m[10/22/2021 15:29:42 INFO 140611341055808] #progress_metric: host=algo-1, completed 60.0 % of epochs\u001b[0m\n",
      "\u001b[34m#metrics {\"StartTime\": 1634916582.5100467, \"EndTime\": 1634916582.6451116, \"Dimensions\": {\"Algorithm\": \"Linear Learner\", \"Host\": \"algo-1\", \"Operation\": \"training\", \"epoch\": 2, \"Meta\": \"training_data_iter\"}, \"Metrics\": {\"Total Records Seen\": {\"sum\": 109.0, \"count\": 1, \"min\": 109, \"max\": 109}, \"Total Batches Seen\": {\"sum\": 25.0, \"count\": 1, \"min\": 25, \"max\": 25}, \"Max Records Seen Between Resets\": {\"sum\": 26.0, \"count\": 1, \"min\": 26, \"max\": 26}, \"Max Batches Seen Between Resets\": {\"sum\": 6.0, \"count\": 1, \"min\": 6, \"max\": 6}, \"Reset Count\": {\"sum\": 5.0, \"count\": 1, \"min\": 5, \"max\": 5}, \"Number of Records Since Last Reset\": {\"sum\": 26.0, \"count\": 1, \"min\": 26, \"max\": 26}, \"Number of Batches Since Last Reset\": {\"sum\": 6.0, \"count\": 1, \"min\": 6, \"max\": 6}}}\n",
      "\u001b[0m\n",
      "\u001b[34m[10/22/2021 15:29:42 INFO 140611341055808] #throughput_metric: host=algo-1, train throughput=192.30392836296755 records/second\u001b[0m\n",
      "\u001b[34m[2021-10-22 15:29:42.752] [tensorio] [info] epoch_stats={\"data_pipeline\": \"/opt/ml/input/data/train\", \"epoch\": 10, \"duration\": 106, \"num_examples\": 6, \"num_bytes\": 1248}\u001b[0m\n",
      "\u001b[34m#metrics {\"StartTime\": 1634916582.7526042, \"EndTime\": 1634916582.7526875, \"Dimensions\": {\"Algorithm\": \"Linear Learner\", \"Host\": \"algo-1\", \"Operation\": \"training\", \"epoch\": 3, \"model\": 0}, \"Metrics\": {\"train_absolute_loss_objective\": {\"sum\": 0.8283058643341065, \"count\": 1, \"min\": 0.8283058643341065, \"max\": 0.8283058643341065}}}\n",
      "\u001b[0m\n",
      "\u001b[34m#metrics {\"StartTime\": 1634916582.7527616, \"EndTime\": 1634916582.7527826, \"Dimensions\": {\"Algorithm\": \"Linear Learner\", \"Host\": \"algo-1\", \"Operation\": \"training\", \"epoch\": 3, \"model\": 1}, \"Metrics\": {\"train_absolute_loss_objective\": {\"sum\": 0.8478682899475097, \"count\": 1, \"min\": 0.8478682899475097, \"max\": 0.8478682899475097}}}\n",
      "\u001b[0m\n",
      "\u001b[34m#metrics {\"StartTime\": 1634916582.7528493, \"EndTime\": 1634916582.752867, \"Dimensions\": {\"Algorithm\": \"Linear Learner\", \"Host\": \"algo-1\", \"Operation\": \"training\", \"epoch\": 3, \"model\": 2}, \"Metrics\": {\"train_absolute_loss_objective\": {\"sum\": 0.8307118320465088, \"count\": 1, \"min\": 0.8307118320465088, \"max\": 0.8307118320465088}}}\n",
      "\u001b[0m\n",
      "\u001b[34m#metrics {\"StartTime\": 1634916582.752931, \"EndTime\": 1634916582.7529492, \"Dimensions\": {\"Algorithm\": \"Linear Learner\", \"Host\": \"algo-1\", \"Operation\": \"training\", \"epoch\": 3, \"model\": 3}, \"Metrics\": {\"train_absolute_loss_objective\": {\"sum\": 0.8468532752990723, \"count\": 1, \"min\": 0.8468532752990723, \"max\": 0.8468532752990723}}}\n",
      "\u001b[0m\n",
      "\u001b[34m#metrics {\"StartTime\": 1634916582.7530155, \"EndTime\": 1634916582.7530346, \"Dimensions\": {\"Algorithm\": \"Linear Learner\", \"Host\": \"algo-1\", \"Operation\": \"training\", \"epoch\": 3, \"model\": 4}, \"Metrics\": {\"train_absolute_loss_objective\": {\"sum\": 0.4469312572479248, \"count\": 1, \"min\": 0.4469312572479248, \"max\": 0.4469312572479248}}}\n",
      "\u001b[0m\n",
      "\u001b[34m#metrics {\"StartTime\": 1634916582.753103, \"EndTime\": 1634916582.7531219, \"Dimensions\": {\"Algorithm\": \"Linear Learner\", \"Host\": \"algo-1\", \"Operation\": \"training\", \"epoch\": 3, \"model\": 5}, \"Metrics\": {\"train_absolute_loss_objective\": {\"sum\": 0.4537254095077515, \"count\": 1, \"min\": 0.4537254095077515, \"max\": 0.4537254095077515}}}\n",
      "\u001b[0m\n",
      "\u001b[34m#metrics {\"StartTime\": 1634916582.7531893, \"EndTime\": 1634916582.7532074, \"Dimensions\": {\"Algorithm\": \"Linear Learner\", \"Host\": \"algo-1\", \"Operation\": \"training\", \"epoch\": 3, \"model\": 6}, \"Metrics\": {\"train_absolute_loss_objective\": {\"sum\": 0.38780061721801756, \"count\": 1, \"min\": 0.38780061721801756, \"max\": 0.38780061721801756}}}\n",
      "\u001b[0m\n",
      "\u001b[34m#metrics {\"StartTime\": 1634916582.7532628, \"EndTime\": 1634916582.7532787, \"Dimensions\": {\"Algorithm\": \"Linear Learner\", \"Host\": \"algo-1\", \"Operation\": \"training\", \"epoch\": 3, \"model\": 7}, \"Metrics\": {\"train_absolute_loss_objective\": {\"sum\": 0.4069590377807617, \"count\": 1, \"min\": 0.4069590377807617, \"max\": 0.4069590377807617}}}\n",
      "\u001b[0m\n",
      "\u001b[34m#metrics {\"StartTime\": 1634916582.7533414, \"EndTime\": 1634916582.75336, \"Dimensions\": {\"Algorithm\": \"Linear Learner\", \"Host\": \"algo-1\", \"Operation\": \"training\", \"epoch\": 3, \"model\": 8}, \"Metrics\": {\"train_absolute_loss_objective\": {\"sum\": 0.8840754222869873, \"count\": 1, \"min\": 0.8840754222869873, \"max\": 0.8840754222869873}}}\n",
      "\u001b[0m\n",
      "\u001b[34m#metrics {\"StartTime\": 1634916582.7534213, \"EndTime\": 1634916582.7534378, \"Dimensions\": {\"Algorithm\": \"Linear Learner\", \"Host\": \"algo-1\", \"Operation\": \"training\", \"epoch\": 3, \"model\": 9}, \"Metrics\": {\"train_absolute_loss_objective\": {\"sum\": 0.8160098552703857, \"count\": 1, \"min\": 0.8160098552703857, \"max\": 0.8160098552703857}}}\n",
      "\u001b[0m\n",
      "\u001b[34m#metrics {\"StartTime\": 1634916582.7534907, \"EndTime\": 1634916582.7535088, \"Dimensions\": {\"Algorithm\": \"Linear Learner\", \"Host\": \"algo-1\", \"Operation\": \"training\", \"epoch\": 3, \"model\": 10}, \"Metrics\": {\"train_absolute_loss_objective\": {\"sum\": 0.8229918193817138, \"count\": 1, \"min\": 0.8229918193817138, \"max\": 0.8229918193817138}}}\n",
      "\u001b[0m\n",
      "\u001b[34m#metrics {\"StartTime\": 1634916582.7535765, \"EndTime\": 1634916582.7535954, \"Dimensions\": {\"Algorithm\": \"Linear Learner\", \"Host\": \"algo-1\", \"Operation\": \"training\", \"epoch\": 3, \"model\": 11}, \"Metrics\": {\"train_absolute_loss_objective\": {\"sum\": 0.8079150199890137, \"count\": 1, \"min\": 0.8079150199890137, \"max\": 0.8079150199890137}}}\n",
      "\u001b[0m\n",
      "\u001b[34m#metrics {\"StartTime\": 1634916582.7536635, \"EndTime\": 1634916582.7536814, \"Dimensions\": {\"Algorithm\": \"Linear Learner\", \"Host\": \"algo-1\", \"Operation\": \"training\", \"epoch\": 3, \"model\": 12}, \"Metrics\": {\"train_absolute_loss_objective\": {\"sum\": 0.443151535987854, \"count\": 1, \"min\": 0.443151535987854, \"max\": 0.443151535987854}}}\n",
      "\u001b[0m\n",
      "\u001b[34m#metrics {\"StartTime\": 1634916582.753763, \"EndTime\": 1634916582.7538157, \"Dimensions\": {\"Algorithm\": \"Linear Learner\", \"Host\": \"algo-1\", \"Operation\": \"training\", \"epoch\": 3, \"model\": 13}, \"Metrics\": {\"train_absolute_loss_objective\": {\"sum\": 0.40983890056610106, \"count\": 1, \"min\": 0.40983890056610106, \"max\": 0.40983890056610106}}}\n",
      "\u001b[0m\n",
      "\u001b[34m#metrics {\"StartTime\": 1634916582.753888, \"EndTime\": 1634916582.7539067, \"Dimensions\": {\"Algorithm\": \"Linear Learner\", \"Host\": \"algo-1\", \"Operation\": \"training\", \"epoch\": 3, \"model\": 14}, \"Metrics\": {\"train_absolute_loss_objective\": {\"sum\": 0.4433863353729248, \"count\": 1, \"min\": 0.4433863353729248, \"max\": 0.4433863353729248}}}\n",
      "\u001b[0m\n",
      "\u001b[34m#metrics {\"StartTime\": 1634916582.7539613, \"EndTime\": 1634916582.7539768, \"Dimensions\": {\"Algorithm\": \"Linear Learner\", \"Host\": \"algo-1\", \"Operation\": \"training\", \"epoch\": 3, \"model\": 15}, \"Metrics\": {\"train_absolute_loss_objective\": {\"sum\": 0.4087698078155518, \"count\": 1, \"min\": 0.4087698078155518, \"max\": 0.4087698078155518}}}\n",
      "\u001b[0m\n",
      "\u001b[34m#metrics {\"StartTime\": 1634916582.7540283, \"EndTime\": 1634916582.7540467, \"Dimensions\": {\"Algorithm\": \"Linear Learner\", \"Host\": \"algo-1\", \"Operation\": \"training\", \"epoch\": 3, \"model\": 16}, \"Metrics\": {\"train_absolute_loss_objective\": {\"sum\": 0.7928377056121826, \"count\": 1, \"min\": 0.7928377056121826, \"max\": 0.7928377056121826}}}\n",
      "\u001b[0m\n",
      "\u001b[34m#metrics {\"StartTime\": 1634916582.754102, \"EndTime\": 1634916582.7541192, \"Dimensions\": {\"Algorithm\": \"Linear Learner\", \"Host\": \"algo-1\", \"Operation\": \"training\", \"epoch\": 3, \"model\": 17}, \"Metrics\": {\"train_absolute_loss_objective\": {\"sum\": 0.8435438728332519, \"count\": 1, \"min\": 0.8435438728332519, \"max\": 0.8435438728332519}}}\n",
      "\u001b[0m\n",
      "\u001b[34m#metrics {\"StartTime\": 1634916582.7541838, \"EndTime\": 1634916582.7542017, \"Dimensions\": {\"Algorithm\": \"Linear Learner\", \"Host\": \"algo-1\", \"Operation\": \"training\", \"epoch\": 3, \"model\": 18}, \"Metrics\": {\"train_absolute_loss_objective\": {\"sum\": 0.8197661304473877, \"count\": 1, \"min\": 0.8197661304473877, \"max\": 0.8197661304473877}}}\n",
      "\u001b[0m\n",
      "\u001b[34m#metrics {\"StartTime\": 1634916582.7542586, \"EndTime\": 1634916582.754276, \"Dimensions\": {\"Algorithm\": \"Linear Learner\", \"Host\": \"algo-1\", \"Operation\": \"training\", \"epoch\": 3, \"model\": 19}, \"Metrics\": {\"train_absolute_loss_objective\": {\"sum\": 0.8167827320098877, \"count\": 1, \"min\": 0.8167827320098877, \"max\": 0.8167827320098877}}}\n",
      "\u001b[0m\n",
      "\u001b[34m#metrics {\"StartTime\": 1634916582.7543328, \"EndTime\": 1634916582.7543502, \"Dimensions\": {\"Algorithm\": \"Linear Learner\", \"Host\": \"algo-1\", \"Operation\": \"training\", \"epoch\": 3, \"model\": 20}, \"Metrics\": {\"train_absolute_loss_objective\": {\"sum\": 0.5118527317047119, \"count\": 1, \"min\": 0.5118527317047119, \"max\": 0.5118527317047119}}}\n",
      "\u001b[0m\n",
      "\u001b[34m#metrics {\"StartTime\": 1634916582.754406, \"EndTime\": 1634916582.7544236, \"Dimensions\": {\"Algorithm\": \"Linear Learner\", \"Host\": \"algo-1\", \"Operation\": \"training\", \"epoch\": 3, \"model\": 21}, \"Metrics\": {\"train_absolute_loss_objective\": {\"sum\": 0.37395387411117553, \"count\": 1, \"min\": 0.37395387411117553, \"max\": 0.37395387411117553}}}\n",
      "\u001b[0m\n",
      "\u001b[34m#metrics {\"StartTime\": 1634916582.7544572, \"EndTime\": 1634916582.7544699, \"Dimensions\": {\"Algorithm\": \"Linear Learner\", \"Host\": \"algo-1\", \"Operation\": \"training\", \"epoch\": 3, \"model\": 22}, \"Metrics\": {\"train_absolute_loss_objective\": {\"sum\": 0.418728346824646, \"count\": 1, \"min\": 0.418728346824646, \"max\": 0.418728346824646}}}\n",
      "\u001b[0m\n",
      "\u001b[34m#metrics {\"StartTime\": 1634916582.7545238, \"EndTime\": 1634916582.7545412, \"Dimensions\": {\"Algorithm\": \"Linear Learner\", \"Host\": \"algo-1\", \"Operation\": \"training\", \"epoch\": 3, \"model\": 23}, \"Metrics\": {\"train_absolute_loss_objective\": {\"sum\": 0.2898751854896545, \"count\": 1, \"min\": 0.2898751854896545, \"max\": 0.2898751854896545}}}\n",
      "\u001b[0m\n",
      "\u001b[34m#metrics {\"StartTime\": 1634916582.754608, \"EndTime\": 1634916582.754627, \"Dimensions\": {\"Algorithm\": \"Linear Learner\", \"Host\": \"algo-1\", \"Operation\": \"training\", \"epoch\": 3, \"model\": 24}, \"Metrics\": {\"train_absolute_loss_objective\": {\"sum\": 0.9068149471282959, \"count\": 1, \"min\": 0.9068149471282959, \"max\": 0.9068149471282959}}}\n",
      "\u001b[0m\n",
      "\u001b[34m#metrics {\"StartTime\": 1634916582.7546823, \"EndTime\": 1634916582.7547007, \"Dimensions\": {\"Algorithm\": \"Linear Learner\", \"Host\": \"algo-1\", \"Operation\": \"training\", \"epoch\": 3, \"model\": 25}, \"Metrics\": {\"train_absolute_loss_objective\": {\"sum\": 0.8875530242919922, \"count\": 1, \"min\": 0.8875530242919922, \"max\": 0.8875530242919922}}}\n",
      "\u001b[0m\n",
      "\u001b[34m#metrics {\"StartTime\": 1634916582.7547557, \"EndTime\": 1634916582.7547705, \"Dimensions\": {\"Algorithm\": \"Linear Learner\", \"Host\": \"algo-1\", \"Operation\": \"training\", \"epoch\": 3, \"model\": 26}, \"Metrics\": {\"train_absolute_loss_objective\": {\"sum\": 0.8958088302612305, \"count\": 1, \"min\": 0.8958088302612305, \"max\": 0.8958088302612305}}}\n",
      "\u001b[0m\n",
      "\u001b[34m#metrics {\"StartTime\": 1634916582.7548144, \"EndTime\": 1634916582.7548306, \"Dimensions\": {\"Algorithm\": \"Linear Learner\", \"Host\": \"algo-1\", \"Operation\": \"training\", \"epoch\": 3, \"model\": 27}, \"Metrics\": {\"train_absolute_loss_objective\": {\"sum\": 0.9002553176879883, \"count\": 1, \"min\": 0.9002553176879883, \"max\": 0.9002553176879883}}}\n",
      "\u001b[0m\n",
      "\u001b[34m#metrics {\"StartTime\": 1634916582.754885, \"EndTime\": 1634916582.7548966, \"Dimensions\": {\"Algorithm\": \"Linear Learner\", \"Host\": \"algo-1\", \"Operation\": \"training\", \"epoch\": 3, \"model\": 28}, \"Metrics\": {\"train_absolute_loss_objective\": {\"sum\": 1.305516414642334, \"count\": 1, \"min\": 1.305516414642334, \"max\": 1.305516414642334}}}\n",
      "\u001b[0m\n",
      "\u001b[34m#metrics {\"StartTime\": 1634916582.7549531, \"EndTime\": 1634916582.7549646, \"Dimensions\": {\"Algorithm\": \"Linear Learner\", \"Host\": \"algo-1\", \"Operation\": \"training\", \"epoch\": 3, \"model\": 29}, \"Metrics\": {\"train_absolute_loss_objective\": {\"sum\": 1.3161330032348633, \"count\": 1, \"min\": 1.3161330032348633, \"max\": 1.3161330032348633}}}\n",
      "\u001b[0m\n",
      "\u001b[34m#metrics {\"StartTime\": 1634916582.7550125, \"EndTime\": 1634916582.7550275, \"Dimensions\": {\"Algorithm\": \"Linear Learner\", \"Host\": \"algo-1\", \"Operation\": \"training\", \"epoch\": 3, \"model\": 30}, \"Metrics\": {\"train_absolute_loss_objective\": {\"sum\": 0.9005093193054199, \"count\": 1, \"min\": 0.9005093193054199, \"max\": 0.9005093193054199}}}\n",
      "\u001b[0m\n",
      "\u001b[34m#metrics {\"StartTime\": 1634916582.7550592, \"EndTime\": 1634916582.7550678, \"Dimensions\": {\"Algorithm\": \"Linear Learner\", \"Host\": \"algo-1\", \"Operation\": \"training\", \"epoch\": 3, \"model\": 31}, \"Metrics\": {\"train_absolute_loss_objective\": {\"sum\": 1.2961669731140137, \"count\": 1, \"min\": 1.2961669731140137, \"max\": 1.2961669731140137}}}\n",
      "\u001b[0m\n",
      "\u001b[34m[10/22/2021 15:29:42 INFO 140611341055808] #quality_metric: host=algo-1, epoch=3, train absolute_loss_objective <loss>=0.8283058643341065\u001b[0m\n",
      "\u001b[34m[10/22/2021 15:29:42 INFO 140611341055808] #early_stopping_criteria_metric: host=algo-1, epoch=3, criteria=absolute_loss_objective, value=0.2898751854896545\u001b[0m\n",
      "\u001b[34m[10/22/2021 15:29:42 INFO 140611341055808] Saving model for epoch: 3\u001b[0m\n",
      "\u001b[34m[10/22/2021 15:29:42 INFO 140611341055808] Saved checkpoint to \"/tmp/tmpc4zr9ik4/mx-mod-0000.params\"\u001b[0m\n",
      "\u001b[34m[10/22/2021 15:29:42 INFO 140611341055808] #progress_metric: host=algo-1, completed 80.0 % of epochs\u001b[0m\n",
      "\u001b[34m#metrics {\"StartTime\": 1634916582.645418, \"EndTime\": 1634916582.7648525, \"Dimensions\": {\"Algorithm\": \"Linear Learner\", \"Host\": \"algo-1\", \"Operation\": \"training\", \"epoch\": 3, \"Meta\": \"training_data_iter\"}, \"Metrics\": {\"Total Records Seen\": {\"sum\": 135.0, \"count\": 1, \"min\": 135, \"max\": 135}, \"Total Batches Seen\": {\"sum\": 31.0, \"count\": 1, \"min\": 31, \"max\": 31}, \"Max Records Seen Between Resets\": {\"sum\": 26.0, \"count\": 1, \"min\": 26, \"max\": 26}, \"Max Batches Seen Between Resets\": {\"sum\": 6.0, \"count\": 1, \"min\": 6, \"max\": 6}, \"Reset Count\": {\"sum\": 6.0, \"count\": 1, \"min\": 6, \"max\": 6}, \"Number of Records Since Last Reset\": {\"sum\": 26.0, \"count\": 1, \"min\": 26, \"max\": 26}, \"Number of Batches Since Last Reset\": {\"sum\": 6.0, \"count\": 1, \"min\": 6, \"max\": 6}}}\n",
      "\u001b[0m\n",
      "\u001b[34m[10/22/2021 15:29:42 INFO 140611341055808] #throughput_metric: host=algo-1, train throughput=217.38773280813 records/second\u001b[0m\n",
      "\u001b[34m[2021-10-22 15:29:42.879] [tensorio] [info] epoch_stats={\"data_pipeline\": \"/opt/ml/input/data/train\", \"epoch\": 12, \"duration\": 114, \"num_examples\": 6, \"num_bytes\": 1248}\u001b[0m\n",
      "\u001b[34m#metrics {\"StartTime\": 1634916582.8798792, \"EndTime\": 1634916582.8799424, \"Dimensions\": {\"Algorithm\": \"Linear Learner\", \"Host\": \"algo-1\", \"Operation\": \"training\", \"epoch\": 4, \"model\": 0}, \"Metrics\": {\"train_absolute_loss_objective\": {\"sum\": 0.8063077545166015, \"count\": 1, \"min\": 0.8063077545166015, \"max\": 0.8063077545166015}}}\n",
      "\u001b[0m\n",
      "\u001b[34m#metrics {\"StartTime\": 1634916582.8800395, \"EndTime\": 1634916582.880056, \"Dimensions\": {\"Algorithm\": \"Linear Learner\", \"Host\": \"algo-1\", \"Operation\": \"training\", \"epoch\": 4, \"model\": 1}, \"Metrics\": {\"train_absolute_loss_objective\": {\"sum\": 0.8255649757385254, \"count\": 1, \"min\": 0.8255649757385254, \"max\": 0.8255649757385254}}}\n",
      "\u001b[0m\n",
      "\u001b[34m#metrics {\"StartTime\": 1634916582.8800914, \"EndTime\": 1634916582.8801017, \"Dimensions\": {\"Algorithm\": \"Linear Learner\", \"Host\": \"algo-1\", \"Operation\": \"training\", \"epoch\": 4, \"model\": 2}, \"Metrics\": {\"train_absolute_loss_objective\": {\"sum\": 0.8087137126922608, \"count\": 1, \"min\": 0.8087137126922608, \"max\": 0.8087137126922608}}}\n",
      "\u001b[0m\n",
      "\u001b[34m#metrics {\"StartTime\": 1634916582.880139, \"EndTime\": 1634916582.8801544, \"Dimensions\": {\"Algorithm\": \"Linear Learner\", \"Host\": \"algo-1\", \"Operation\": \"training\", \"epoch\": 4, \"model\": 3}, \"Metrics\": {\"train_absolute_loss_objective\": {\"sum\": 0.8245499515533448, \"count\": 1, \"min\": 0.8245499515533448, \"max\": 0.8245499515533448}}}\n",
      "\u001b[0m\n",
      "\u001b[34m#metrics {\"StartTime\": 1634916582.8802135, \"EndTime\": 1634916582.8802295, \"Dimensions\": {\"Algorithm\": \"Linear Learner\", \"Host\": \"algo-1\", \"Operation\": \"training\", \"epoch\": 4, \"model\": 4}, \"Metrics\": {\"train_absolute_loss_objective\": {\"sum\": 0.2565323495864868, \"count\": 1, \"min\": 0.2565323495864868, \"max\": 0.2565323495864868}}}\n",
      "\u001b[0m\n",
      "\u001b[34m#metrics {\"StartTime\": 1634916582.8802838, \"EndTime\": 1634916582.880301, \"Dimensions\": {\"Algorithm\": \"Linear Learner\", \"Host\": \"algo-1\", \"Operation\": \"training\", \"epoch\": 4, \"model\": 5}, \"Metrics\": {\"train_absolute_loss_objective\": {\"sum\": 0.2537479209899902, \"count\": 1, \"min\": 0.2537479209899902, \"max\": 0.2537479209899902}}}\n",
      "\u001b[0m\n",
      "\u001b[34m#metrics {\"StartTime\": 1634916582.880357, \"EndTime\": 1634916582.8803751, \"Dimensions\": {\"Algorithm\": \"Linear Learner\", \"Host\": \"algo-1\", \"Operation\": \"training\", \"epoch\": 4, \"model\": 6}, \"Metrics\": {\"train_absolute_loss_objective\": {\"sum\": 0.33734182357788084, \"count\": 1, \"min\": 0.33734182357788084, \"max\": 0.33734182357788084}}}\n",
      "\u001b[0m\n",
      "\u001b[34m#metrics {\"StartTime\": 1634916582.880432, \"EndTime\": 1634916582.8804495, \"Dimensions\": {\"Algorithm\": \"Linear Learner\", \"Host\": \"algo-1\", \"Operation\": \"training\", \"epoch\": 4, \"model\": 7}, \"Metrics\": {\"train_absolute_loss_objective\": {\"sum\": 0.33026235103607177, \"count\": 1, \"min\": 0.33026235103607177, \"max\": 0.33026235103607177}}}\n",
      "\u001b[0m\n",
      "\u001b[34m#metrics {\"StartTime\": 1634916582.880504, \"EndTime\": 1634916582.880522, \"Dimensions\": {\"Algorithm\": \"Linear Learner\", \"Host\": \"algo-1\", \"Operation\": \"training\", \"epoch\": 4, \"model\": 8}, \"Metrics\": {\"train_absolute_loss_objective\": {\"sum\": 0.8620810699462891, \"count\": 1, \"min\": 0.8620810699462891, \"max\": 0.8620810699462891}}}\n",
      "\u001b[0m\n",
      "\u001b[34m#metrics {\"StartTime\": 1634916582.880576, \"EndTime\": 1634916582.8805926, \"Dimensions\": {\"Algorithm\": \"Linear Learner\", \"Host\": \"algo-1\", \"Operation\": \"training\", \"epoch\": 4, \"model\": 9}, \"Metrics\": {\"train_absolute_loss_objective\": {\"sum\": 0.7937108707427979, \"count\": 1, \"min\": 0.7937108707427979, \"max\": 0.7937108707427979}}}\n",
      "\u001b[0m\n",
      "\u001b[34m#metrics {\"StartTime\": 1634916582.880646, \"EndTime\": 1634916582.8806615, \"Dimensions\": {\"Algorithm\": \"Linear Learner\", \"Host\": \"algo-1\", \"Operation\": \"training\", \"epoch\": 4, \"model\": 10}, \"Metrics\": {\"train_absolute_loss_objective\": {\"sum\": 0.8009979057312012, \"count\": 1, \"min\": 0.8009979057312012, \"max\": 0.8009979057312012}}}\n",
      "\u001b[0m\n",
      "\u001b[34m#metrics {\"StartTime\": 1634916582.8807237, \"EndTime\": 1634916582.880741, \"Dimensions\": {\"Algorithm\": \"Linear Learner\", \"Host\": \"algo-1\", \"Operation\": \"training\", \"epoch\": 4, \"model\": 11}, \"Metrics\": {\"train_absolute_loss_objective\": {\"sum\": 0.7856161403656006, \"count\": 1, \"min\": 0.7856161403656006, \"max\": 0.7856161403656006}}}\n",
      "\u001b[0m\n",
      "\u001b[34m#metrics {\"StartTime\": 1634916582.8808007, \"EndTime\": 1634916582.8808186, \"Dimensions\": {\"Algorithm\": \"Linear Learner\", \"Host\": \"algo-1\", \"Operation\": \"training\", \"epoch\": 4, \"model\": 12}, \"Metrics\": {\"train_absolute_loss_objective\": {\"sum\": 0.25251413822174074, \"count\": 1, \"min\": 0.25251413822174074, \"max\": 0.25251413822174074}}}\n",
      "\u001b[0m\n",
      "\u001b[34m#metrics {\"StartTime\": 1634916582.880878, \"EndTime\": 1634916582.8808966, \"Dimensions\": {\"Algorithm\": \"Linear Learner\", \"Host\": \"algo-1\", \"Operation\": \"training\", \"epoch\": 4, \"model\": 13}, \"Metrics\": {\"train_absolute_loss_objective\": {\"sum\": 0.336834511756897, \"count\": 1, \"min\": 0.336834511756897, \"max\": 0.336834511756897}}}\n",
      "\u001b[0m\n",
      "\u001b[34m#metrics {\"StartTime\": 1634916582.880964, \"EndTime\": 1634916582.880983, \"Dimensions\": {\"Algorithm\": \"Linear Learner\", \"Host\": \"algo-1\", \"Operation\": \"training\", \"epoch\": 4, \"model\": 14}, \"Metrics\": {\"train_absolute_loss_objective\": {\"sum\": 0.2527218961715698, \"count\": 1, \"min\": 0.2527218961715698, \"max\": 0.2527218961715698}}}\n",
      "\u001b[0m\n",
      "\u001b[34m#metrics {\"StartTime\": 1634916582.881048, \"EndTime\": 1634916582.881066, \"Dimensions\": {\"Algorithm\": \"Linear Learner\", \"Host\": \"algo-1\", \"Operation\": \"training\", \"epoch\": 4, \"model\": 15}, \"Metrics\": {\"train_absolute_loss_objective\": {\"sum\": 0.3339067506790161, \"count\": 1, \"min\": 0.3339067506790161, \"max\": 0.3339067506790161}}}\n",
      "\u001b[0m\n",
      "\u001b[34m#metrics {\"StartTime\": 1634916582.8811321, \"EndTime\": 1634916582.8811507, \"Dimensions\": {\"Algorithm\": \"Linear Learner\", \"Host\": \"algo-1\", \"Operation\": \"training\", \"epoch\": 4, \"model\": 16}, \"Metrics\": {\"train_absolute_loss_objective\": {\"sum\": 0.7713560199737549, \"count\": 1, \"min\": 0.7713560199737549, \"max\": 0.7713560199737549}}}\n",
      "\u001b[0m\n",
      "\u001b[34m#metrics {\"StartTime\": 1634916582.8812163, \"EndTime\": 1634916582.8812354, \"Dimensions\": {\"Algorithm\": \"Linear Learner\", \"Host\": \"algo-1\", \"Operation\": \"training\", \"epoch\": 4, \"model\": 17}, \"Metrics\": {\"train_absolute_loss_objective\": {\"sum\": 0.8216874980926514, \"count\": 1, \"min\": 0.8216874980926514, \"max\": 0.8216874980926514}}}\n",
      "\u001b[0m\n",
      "\u001b[34m#metrics {\"StartTime\": 1634916582.8813014, \"EndTime\": 1634916582.8813207, \"Dimensions\": {\"Algorithm\": \"Linear Learner\", \"Host\": \"algo-1\", \"Operation\": \"training\", \"epoch\": 4, \"model\": 18}, \"Metrics\": {\"train_absolute_loss_objective\": {\"sum\": 0.7982413673400879, \"count\": 1, \"min\": 0.7982413673400879, \"max\": 0.7982413673400879}}}\n",
      "\u001b[0m\n",
      "\u001b[34m#metrics {\"StartTime\": 1634916582.8813767, \"EndTime\": 1634916582.8813941, \"Dimensions\": {\"Algorithm\": \"Linear Learner\", \"Host\": \"algo-1\", \"Operation\": \"training\", \"epoch\": 4, \"model\": 19}, \"Metrics\": {\"train_absolute_loss_objective\": {\"sum\": 0.7949663639068604, \"count\": 1, \"min\": 0.7949663639068604, \"max\": 0.7949663639068604}}}\n",
      "\u001b[0m\n",
      "\u001b[34m#metrics {\"StartTime\": 1634916582.881451, \"EndTime\": 1634916582.881469, \"Dimensions\": {\"Algorithm\": \"Linear Learner\", \"Host\": \"algo-1\", \"Operation\": \"training\", \"epoch\": 4, \"model\": 20}, \"Metrics\": {\"train_absolute_loss_objective\": {\"sum\": 0.6991078376770019, \"count\": 1, \"min\": 0.6991078376770019, \"max\": 0.6991078376770019}}}\n",
      "\u001b[0m\n",
      "\u001b[34m#metrics {\"StartTime\": 1634916582.8815322, \"EndTime\": 1634916582.8815508, \"Dimensions\": {\"Algorithm\": \"Linear Learner\", \"Host\": \"algo-1\", \"Operation\": \"training\", \"epoch\": 4, \"model\": 21}, \"Metrics\": {\"train_absolute_loss_objective\": {\"sum\": 0.5845480728149414, \"count\": 1, \"min\": 0.5845480728149414, \"max\": 0.5845480728149414}}}\n",
      "\u001b[0m\n",
      "\u001b[34m#metrics {\"StartTime\": 1634916582.8816168, \"EndTime\": 1634916582.8816347, \"Dimensions\": {\"Algorithm\": \"Linear Learner\", \"Host\": \"algo-1\", \"Operation\": \"training\", \"epoch\": 4, \"model\": 22}, \"Metrics\": {\"train_absolute_loss_objective\": {\"sum\": 0.5461959266662597, \"count\": 1, \"min\": 0.5461959266662597, \"max\": 0.5461959266662597}}}\n",
      "\u001b[0m\n",
      "\u001b[34m#metrics {\"StartTime\": 1634916582.8817017, \"EndTime\": 1634916582.881719, \"Dimensions\": {\"Algorithm\": \"Linear Learner\", \"Host\": \"algo-1\", \"Operation\": \"training\", \"epoch\": 4, \"model\": 23}, \"Metrics\": {\"train_absolute_loss_objective\": {\"sum\": 0.3361123752593994, \"count\": 1, \"min\": 0.3361123752593994, \"max\": 0.3361123752593994}}}\n",
      "\u001b[0m\n",
      "\u001b[34m#metrics {\"StartTime\": 1634916582.881769, \"EndTime\": 1634916582.8817837, \"Dimensions\": {\"Algorithm\": \"Linear Learner\", \"Host\": \"algo-1\", \"Operation\": \"training\", \"epoch\": 4, \"model\": 24}, \"Metrics\": {\"train_absolute_loss_objective\": {\"sum\": 0.9087908935546875, \"count\": 1, \"min\": 0.9087908935546875, \"max\": 0.9087908935546875}}}\n",
      "\u001b[0m\n",
      "\u001b[34m#metrics {\"StartTime\": 1634916582.8818374, \"EndTime\": 1634916582.881854, \"Dimensions\": {\"Algorithm\": \"Linear Learner\", \"Host\": \"algo-1\", \"Operation\": \"training\", \"epoch\": 4, \"model\": 25}, \"Metrics\": {\"train_absolute_loss_objective\": {\"sum\": 0.8907402896881104, \"count\": 1, \"min\": 0.8907402896881104, \"max\": 0.8907402896881104}}}\n",
      "\u001b[0m\n",
      "\u001b[34m#metrics {\"StartTime\": 1634916582.881897, \"EndTime\": 1634916582.8819098, \"Dimensions\": {\"Algorithm\": \"Linear Learner\", \"Host\": \"algo-1\", \"Operation\": \"training\", \"epoch\": 4, \"model\": 26}, \"Metrics\": {\"train_absolute_loss_objective\": {\"sum\": 0.900484209060669, \"count\": 1, \"min\": 0.900484209060669, \"max\": 0.900484209060669}}}\n",
      "\u001b[0m\n",
      "\u001b[34m#metrics {\"StartTime\": 1634916582.8819678, \"EndTime\": 1634916582.8819828, \"Dimensions\": {\"Algorithm\": \"Linear Learner\", \"Host\": \"algo-1\", \"Operation\": \"training\", \"epoch\": 4, \"model\": 27}, \"Metrics\": {\"train_absolute_loss_objective\": {\"sum\": 0.8956416511535644, \"count\": 1, \"min\": 0.8956416511535644, \"max\": 0.8956416511535644}}}\n",
      "\u001b[0m\n",
      "\u001b[34m#metrics {\"StartTime\": 1634916582.8820217, \"EndTime\": 1634916582.8820314, \"Dimensions\": {\"Algorithm\": \"Linear Learner\", \"Host\": \"algo-1\", \"Operation\": \"training\", \"epoch\": 4, \"model\": 28}, \"Metrics\": {\"train_absolute_loss_objective\": {\"sum\": 0.9259500217437744, \"count\": 1, \"min\": 0.9259500217437744, \"max\": 0.9259500217437744}}}\n",
      "\u001b[0m\n",
      "\u001b[34m#metrics {\"StartTime\": 1634916582.8820662, \"EndTime\": 1634916582.8820767, \"Dimensions\": {\"Algorithm\": \"Linear Learner\", \"Host\": \"algo-1\", \"Operation\": \"training\", \"epoch\": 4, \"model\": 29}, \"Metrics\": {\"train_absolute_loss_objective\": {\"sum\": 0.933891487121582, \"count\": 1, \"min\": 0.933891487121582, \"max\": 0.933891487121582}}}\n",
      "\u001b[0m\n",
      "\u001b[34m#metrics {\"StartTime\": 1634916582.8821304, \"EndTime\": 1634916582.8821414, \"Dimensions\": {\"Algorithm\": \"Linear Learner\", \"Host\": \"algo-1\", \"Operation\": \"training\", \"epoch\": 4, \"model\": 30}, \"Metrics\": {\"train_absolute_loss_objective\": {\"sum\": 0.8920018100738525, \"count\": 1, \"min\": 0.8920018100738525, \"max\": 0.8920018100738525}}}\n",
      "\u001b[0m\n",
      "\u001b[34m#metrics {\"StartTime\": 1634916582.8822005, \"EndTime\": 1634916582.8822188, \"Dimensions\": {\"Algorithm\": \"Linear Learner\", \"Host\": \"algo-1\", \"Operation\": \"training\", \"epoch\": 4, \"model\": 31}, \"Metrics\": {\"train_absolute_loss_objective\": {\"sum\": 0.9828944969177246, \"count\": 1, \"min\": 0.9828944969177246, \"max\": 0.9828944969177246}}}\n",
      "\u001b[0m\n",
      "\u001b[34m[10/22/2021 15:29:42 INFO 140611341055808] #quality_metric: host=algo-1, epoch=4, train absolute_loss_objective <loss>=0.8063077545166015\u001b[0m\n",
      "\u001b[34m[10/22/2021 15:29:42 INFO 140611341055808] #early_stopping_criteria_metric: host=algo-1, epoch=4, criteria=absolute_loss_objective, value=0.25251413822174074\u001b[0m\n",
      "\u001b[34m[10/22/2021 15:29:42 INFO 140611341055808] Epoch 4: Loss improved. Updating best model\u001b[0m\n",
      "\u001b[34m[10/22/2021 15:29:42 INFO 140611341055808] Saving model for epoch: 4\u001b[0m\n",
      "\u001b[34m[10/22/2021 15:29:42 INFO 140611341055808] Saved checkpoint to \"/tmp/tmp3qw0e7f8/mx-mod-0000.params\"\u001b[0m\n",
      "\u001b[34m[10/22/2021 15:29:42 INFO 140611341055808] #progress_metric: host=algo-1, completed 100.0 % of epochs\u001b[0m\n",
      "\u001b[34m#metrics {\"StartTime\": 1634916582.7651901, \"EndTime\": 1634916582.8923616, \"Dimensions\": {\"Algorithm\": \"Linear Learner\", \"Host\": \"algo-1\", \"Operation\": \"training\", \"epoch\": 4, \"Meta\": \"training_data_iter\"}, \"Metrics\": {\"Total Records Seen\": {\"sum\": 161.0, \"count\": 1, \"min\": 161, \"max\": 161}, \"Total Batches Seen\": {\"sum\": 37.0, \"count\": 1, \"min\": 37, \"max\": 37}, \"Max Records Seen Between Resets\": {\"sum\": 26.0, \"count\": 1, \"min\": 26, \"max\": 26}, \"Max Batches Seen Between Resets\": {\"sum\": 6.0, \"count\": 1, \"min\": 6, \"max\": 6}, \"Reset Count\": {\"sum\": 7.0, \"count\": 1, \"min\": 7, \"max\": 7}, \"Number of Records Since Last Reset\": {\"sum\": 26.0, \"count\": 1, \"min\": 26, \"max\": 26}, \"Number of Batches Since Last Reset\": {\"sum\": 6.0, \"count\": 1, \"min\": 6, \"max\": 6}}}\n",
      "\u001b[0m\n",
      "\u001b[34m[10/22/2021 15:29:42 INFO 140611341055808] #throughput_metric: host=algo-1, train throughput=204.24114455450737 records/second\u001b[0m\n",
      "\u001b[34m[10/22/2021 15:29:42 WARNING 140611341055808] wait_for_all_workers will not sync workers since the kv store is not running distributed\u001b[0m\n",
      "\u001b[34m[10/22/2021 15:29:42 WARNING 140611341055808] wait_for_all_workers will not sync workers since the kv store is not running distributed\u001b[0m\n",
      "\u001b[34m[2021-10-22 15:29:42.893] [tensorio] [info] epoch_stats={\"data_pipeline\": \"/opt/ml/input/data/train\", \"epoch\": 14, \"duration\": 0, \"num_examples\": 1, \"num_bytes\": 240}\u001b[0m\n",
      "\u001b[34m[2021-10-22 15:29:42.907] [tensorio] [info] epoch_stats={\"data_pipeline\": \"/opt/ml/input/data/train\", \"epoch\": 16, \"duration\": 12, \"num_examples\": 6, \"num_bytes\": 1248}\u001b[0m\n",
      "\u001b[34m[10/22/2021 15:29:42 INFO 140611341055808] #train_score (algo-1) : ('absolute_loss_objective', 7390.560096153846)\u001b[0m\n",
      "\u001b[34m[10/22/2021 15:29:42 INFO 140611341055808] #train_score (algo-1) : ('mse', 76820506.15384616)\u001b[0m\n",
      "\u001b[34m[10/22/2021 15:29:42 INFO 140611341055808] #train_score (algo-1) : ('absolute_loss', 7390.560096153846)\u001b[0m\n",
      "\u001b[34m[10/22/2021 15:29:42 INFO 140611341055808] #quality_metric: host=algo-1, train absolute_loss_objective <loss>=7390.560096153846\u001b[0m\n",
      "\u001b[34m[10/22/2021 15:29:42 INFO 140611341055808] #quality_metric: host=algo-1, train mse <loss>=76820506.15384616\u001b[0m\n",
      "\u001b[34m[10/22/2021 15:29:42 INFO 140611341055808] #quality_metric: host=algo-1, train absolute_loss <loss>=7390.560096153846\u001b[0m\n",
      "\u001b[34m[10/22/2021 15:29:42 INFO 140611341055808] Best model found for hyperparameters: {\"optimizer\": \"adam\", \"learning_rate\": 0.1, \"wd\": 0.01, \"l1\": 0.0, \"lr_scheduler_step\": 10, \"lr_scheduler_factor\": 0.99, \"lr_scheduler_minimum_lr\": 1e-05}\u001b[0m\n",
      "\u001b[34m[10/22/2021 15:29:42 INFO 140611341055808] Saved checkpoint to \"/tmp/tmpdx3c8dy9/mx-mod-0000.params\"\u001b[0m\n",
      "\u001b[34m[10/22/2021 15:29:42 INFO 140611341055808] Test data is not provided.\u001b[0m\n",
      "\u001b[34m#metrics {\"StartTime\": 1634916582.0034182, \"EndTime\": 1634916582.9155378, \"Dimensions\": {\"Algorithm\": \"Linear Learner\", \"Host\": \"algo-1\", \"Operation\": \"training\"}, \"Metrics\": {\"initialize.time\": {\"sum\": 204.43010330200195, \"count\": 1, \"min\": 204.43010330200195, \"max\": 204.43010330200195}, \"epochs\": {\"sum\": 5.0, \"count\": 1, \"min\": 5, \"max\": 5}, \"check_early_stopping.time\": {\"sum\": 5.126714706420898, \"count\": 5, \"min\": 0.2925395965576172, \"max\": 1.3272762298583984}, \"update.time\": {\"sum\": 661.1783504486084, \"count\": 5, \"min\": 116.29557609558105, \"max\": 145.4601287841797}, \"finalize.time\": {\"sum\": 16.005754470825195, \"count\": 1, \"min\": 16.005754470825195, \"max\": 16.005754470825195}, \"setuptime\": {\"sum\": 26.228666305541992, \"count\": 1, \"min\": 26.228666305541992, \"max\": 26.228666305541992}, \"totaltime\": {\"sum\": 1140.6664848327637, \"count\": 1, \"min\": 1140.6664848327637, \"max\": 1140.6664848327637}}}\n",
      "\u001b[0m\n",
      "\n",
      "2021-10-22 15:30:06 Uploading - Uploading generated training model\n",
      "2021-10-22 15:30:06 Completed - Training job completed\n",
      "Training seconds: 65\n",
      "Billable seconds: 16\n",
      "Managed Spot Training savings: 75.4%\n"
     ]
    }
   ],
   "source": [
    "linear = sagemaker.estimator.Estimator(container,\n",
    "                                       role, \n",
    "                                       instance_count = 1, \n",
    "                                       instance_type = 'ml.m4.xlarge',\n",
    "                                       output_path = output_location,\n",
    "                                       sagemaker_session = sagemaker_session,\n",
    "                                       use_spot_instances = True,\n",
    "                                       max_run = 300,\n",
    "                                       max_wait = 600)\n",
    "\n",
    "\n",
    "linear.set_hyperparameters(feature_dim = 1,\n",
    "                           predictor_type = 'regressor',\n",
    "                           mini_batch_size = 5,\n",
    "                           epochs = 50,\n",
    "                           num_models = 32,\n",
    "                           loss = 'absolute_loss')\n",
    "\n",
    "linear.fit({'train': s3_train_data})\n"
   ]
  },
  {
   "cell_type": "markdown",
   "metadata": {},
   "source": [
    "# 8: DEPLOY AND TEST THE TRAINED LINEAR LEARNER MODEL "
   ]
  },
  {
   "cell_type": "code",
   "execution_count": 141,
   "metadata": {},
   "outputs": [
    {
     "name": "stdout",
     "output_type": "stream",
     "text": [
      "------!"
     ]
    }
   ],
   "source": [
    "# Deploying the model to perform inference \n",
    "\n",
    "linear_regressor = linear.deploy(initial_instance_count = 1,\n",
    "                                          instance_type = 'ml.m4.xlarge')"
   ]
  },
  {
   "cell_type": "code",
   "execution_count": 150,
   "metadata": {},
   "outputs": [],
   "source": [
    "from sagemaker.serializers import CSVSerializer\n",
    "from sagemaker.deserializers import JSONDeserializer\n",
    "\n",
    "# Content type overrides the data that will be passed to the deployed model, since the deployed model expects data in text/csv format.\n",
    "\n",
    "# Serializer accepts a single argument, the input data, and returns a sequence of bytes in the specified content type\n",
    "\n",
    "# Deserializer accepts two arguments, the result data and the response content type, and return a sequence of bytes in the specified content type.\n",
    "\n",
    "# Reference: https://sagemaker.readthedocs.io/en/stable/predictors.html\n",
    "\n",
    "# linear_regressor.content_type = 'text/csv'\n",
    "linear_regressor.serializer = CSVSerializer()\n",
    "linear_regressor.deserializer = JSONDeserializer()"
   ]
  },
  {
   "cell_type": "code",
   "execution_count": 148,
   "metadata": {},
   "outputs": [
    {
     "data": {
      "text/plain": [
       "array([[ 6.8],\n",
       "       [ 4.1],\n",
       "       [ 4.9],\n",
       "       [ 3. ],\n",
       "       [ 4. ],\n",
       "       [ 3.2],\n",
       "       [ 8.7],\n",
       "       [ 2.9],\n",
       "       [12.9]], dtype=float32)"
      ]
     },
     "execution_count": 148,
     "metadata": {},
     "output_type": "execute_result"
    }
   ],
   "source": [
    "X_test"
   ]
  },
  {
   "cell_type": "code",
   "execution_count": 151,
   "metadata": {},
   "outputs": [],
   "source": [
    "# making prediction on the test data\n",
    "\n",
    "result = linear_regressor.predict(X_test)"
   ]
  },
  {
   "cell_type": "code",
   "execution_count": 152,
   "metadata": {},
   "outputs": [
    {
     "data": {
      "text/plain": [
       "{'predictions': [{'score': 94795.171875},\n",
       "  {'score': 71554.03125},\n",
       "  {'score': 78440.296875},\n",
       "  {'score': 62085.4296875},\n",
       "  {'score': 70693.25},\n",
       "  {'score': 63806.9921875},\n",
       "  {'score': 111150.03125},\n",
       "  {'score': 61224.6484375},\n",
       "  {'score': 147302.90625}]}"
      ]
     },
     "execution_count": 152,
     "metadata": {},
     "output_type": "execute_result"
    }
   ],
   "source": [
    "result # results are in Json format"
   ]
  },
  {
   "cell_type": "code",
   "execution_count": 153,
   "metadata": {},
   "outputs": [],
   "source": [
    "# Since the result is in json format, we access the scores by iterating through the scores in the predictions\n",
    "\n",
    "predictions = np.array([r['score'] for r in result['predictions']])"
   ]
  },
  {
   "cell_type": "code",
   "execution_count": 154,
   "metadata": {},
   "outputs": [
    {
     "data": {
      "text/plain": [
       "array([ 94795.171875 ,  71554.03125  ,  78440.296875 ,  62085.4296875,\n",
       "        70693.25     ,  63806.9921875, 111150.03125  ,  61224.6484375,\n",
       "       147302.90625  ])"
      ]
     },
     "execution_count": 154,
     "metadata": {},
     "output_type": "execute_result"
    }
   ],
   "source": [
    "predictions"
   ]
  },
  {
   "cell_type": "code",
   "execution_count": 155,
   "metadata": {
    "scrolled": true
   },
   "outputs": [
    {
     "data": {
      "text/plain": [
       "(9,)"
      ]
     },
     "execution_count": 155,
     "metadata": {},
     "output_type": "execute_result"
    }
   ],
   "source": [
    "predictions.shape"
   ]
  },
  {
   "cell_type": "code",
   "execution_count": 156,
   "metadata": {},
   "outputs": [
    {
     "data": {
      "text/plain": [
       "Text(0.5, 1.0, 'Salary vs. Years of Experience')"
      ]
     },
     "execution_count": 156,
     "metadata": {},
     "output_type": "execute_result"
    },
    {
     "data": {
      "image/png": "[encoded data removed]",
      "text/plain": [
       "<Figure size 432x288 with 1 Axes>"
      ]
     },
     "metadata": {
      "needs_background": "light"
     },
     "output_type": "display_data"
    }
   ],
   "source": [
    "# VISUALIZE TEST SET RESULTS\n",
    "plt.scatter(X_test, y_test, color = 'gray')\n",
    "plt.plot(X_test, predictions, color = 'red')\n",
    "plt.xlabel('Years of Experience (Testing Dataset)')\n",
    "plt.ylabel('salary')\n",
    "plt.title('Salary vs. Years of Experience')"
   ]
  },
  {
   "cell_type": "code",
   "execution_count": 157,
   "metadata": {},
   "outputs": [],
   "source": [
    "# Delete the end-point\n",
    "\n",
    "linear_regressor.delete_endpoint()"
   ]
  }
 ],
 "metadata": {
  "colab": {
   "collapsed_sections": [],
   "name": "Graduate_Admission_Prediction.ipynb",
   "provenance": [],
   "toc_visible": true
  },
  "instance_type": "ml.t3.medium",
  "kernelspec": {
   "display_name": "Python 3 (Data Science)",
   "language": "python",
   "name": "python3__SAGEMAKER_INTERNAL__arn:aws:sagemaker:ap-southeast-1:492261229750:image/datascience-1.0"
  },
  "language_info": {
   "codemirror_mode": {
    "name": "ipython",
    "version": 3
   },
   "file_extension": ".py",
   "mimetype": "text/x-python",
   "name": "python",
   "nbconvert_exporter": "python",
   "pygments_lexer": "ipython3",
   "version": "3.7.10"
  }
 },
 "nbformat": 4,
 "nbformat_minor": 4
}
