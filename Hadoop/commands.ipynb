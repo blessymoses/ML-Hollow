{
  "nbformat": 4,
  "nbformat_minor": 0,
  "metadata": {
    "colab": {
      "name": "commands.ipynb",
      "provenance": [],
      "collapsed_sections": [],
      "toc_visible": true,
      "authorship_tag": "ABX9TyMEsCuB03tepEMkWccHMeVc",
      "include_colab_link": true
    },
    "kernelspec": {
      "name": "python3",
      "display_name": "Python 3"
    },
    "language_info": {
      "name": "python"
    }
  },
  "cells": [
    {
      "cell_type": "markdown",
      "metadata": {
        "id": "view-in-github",
        "colab_type": "text"
      },
      "source": [
        "<a href=\"https://colab.research.google.com/github/blessymoses/ML-main-land/blob/master/Hadoop/commands.ipynb\" target=\"_parent\"><img src=\"https://colab.research.google.com/assets/colab-badge.svg\" alt=\"Open In Colab\"/></a>"
      ]
    },
    {
      "cell_type": "markdown",
      "metadata": {
        "id": "6AFZ3i2HerNc"
      },
      "source": [
        "# Hadoop"
      ]
    },
    {
      "cell_type": "code",
      "metadata": {
        "id": "tsc1jg5Re6dH"
      },
      "source": [
        "# display the contents\n",
        "hadoop fs -ls\n",
        "\n",
        "# upload a file\n",
        "hadoop fs -put /path/src/file.csv /path/dest/file.csv\n",
        "\n",
        "# upload a file with block size\n",
        "hadoop fs -D dfs.blocksize=1m -put /path/src/file.csv /path/dest/file.csv\n",
        "\n",
        "# check the file\n",
        "hdfs fsck /path/dest/file.csv\n",
        "\n",
        "hdfs fsck /path/dest/file.csv -files -locations -blocks\n",
        "\n"
      ],
      "execution_count": null,
      "outputs": []
    }
  ]
}